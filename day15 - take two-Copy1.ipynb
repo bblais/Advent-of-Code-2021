{
 "cells": [
  {
   "cell_type": "code",
   "execution_count": 1,
   "id": "5fc148f6-a8ac-479e-8965-df84d33c7623",
   "metadata": {},
   "outputs": [
    {
     "name": "stdout",
     "output_type": "stream",
     "text": [
      "Populating the interactive namespace from numpy and matplotlib\n"
     ]
    }
   ],
   "source": [
    "%pylab inline"
   ]
  },
  {
   "cell_type": "code",
   "execution_count": 2,
   "id": "1b0ccf11-0ce8-4027-8c76-69e50973a6ad",
   "metadata": {},
   "outputs": [
    {
     "data": {
      "text/plain": [
       "array([[ 31, 100,  65,  12,  18],\n",
       "       [ 10,  13,  47, 157,   6],\n",
       "       [100, 113, 174,  11,  33],\n",
       "       [ 88, 124,  41,  20, 140],\n",
       "       [ 99,  32, 111,  41,  20]])"
      ]
     },
     "execution_count": 2,
     "metadata": {},
     "output_type": "execute_result"
    }
   ],
   "source": [
    "from dataclasses import dataclass\n",
    "\n",
    "@dataclass\n",
    "class cell:\n",
    "    x:int\n",
    "    y:int\n",
    "    distance:float\n",
    "    \n",
    "    def __lt__(self, other):\n",
    "        \n",
    "        if self.distance==other.distance:\n",
    "            if self.x!=other.x:\n",
    "                return self.x<other.x\n",
    "            else:\n",
    "                return self.y<other.y\n",
    "        else:\n",
    "            return self.distance<other.distance\n",
    "        \n",
    "    \n",
    "arr=array([    31, 100, 65, 12, 18,\n",
    "        10, 13, 47, 157, 6,\n",
    "        100, 113, 174, 11, 33,\n",
    "        88, 124, 41, 20, 140,\n",
    "        99, 32, 111, 41, 20])\n",
    "arr=arr.reshape(5,5)\n",
    "arr"
   ]
  },
  {
   "cell_type": "code",
   "execution_count": 3,
   "id": "fde9adc7-8c94-4024-9066-b89f797394ac",
   "metadata": {},
   "outputs": [
    {
     "data": {
      "text/plain": [
       "9223372036854775807"
      ]
     },
     "execution_count": 3,
     "metadata": {},
     "output_type": "execute_result"
    }
   ],
   "source": [
    "iinfo(arr.dtype).max"
   ]
  },
  {
   "cell_type": "code",
   "execution_count": 16,
   "id": "b67c5fa9-3eb9-4987-ae35-89e3b4b8077f",
   "metadata": {},
   "outputs": [],
   "source": [
    "from numba import njit"
   ]
  },
  {
   "cell_type": "code",
   "execution_count": 21,
   "id": "2fe6fa35-99c7-4204-a359-ffc96c68e3f3",
   "metadata": {},
   "outputs": [],
   "source": [
    "import numpy as np\n",
    "from numpy import typing as npt\n",
    "from typing import Any"
   ]
  },
  {
   "cell_type": "code",
   "execution_count": 32,
   "id": "4f1326d8-caca-4c98-befa-8f437700c901",
   "metadata": {},
   "outputs": [],
   "source": [
    "@njit\n",
    "def shortest(arr,r: int,c: int):\n",
    "    maxval=9223372036854775807\n",
    "    distances=np.ones_like(arr)*maxval\n",
    "    R,C=arr.shape\n",
    "    \n",
    "    S=[]\n",
    "    S.append([0,0,0])\n",
    "    distances[0,0]=arr[0,0]\n",
    "\n",
    "    while S:\n",
    "\n",
    "        kx,ky,kd=S.pop()\n",
    "        for x,y in [[kx-1,ky],[kx+1,ky],[kx,ky-1],[kx,ky+1]]:\n",
    "            if x<0 or y<0 or x>=C or y>=R:\n",
    "                continue\n",
    "                \n",
    "            if distances[y,x]> distances[ky,kx]+ arr[y,x]:\n",
    "                if distances[y,x]!=maxval:\n",
    "                    findcell=[kk for kk in S if kk[0]==x and kk[1]==y and kk[2]==distances[y,x]]\n",
    "                    if findcell:\n",
    "                        S.remove(findcell[0])\n",
    "                    \n",
    "                distances[y,x]=distances[ky,kx]+ arr[y,x]\n",
    "                S.append([x,y,distances[y,x]])\n",
    "                \n",
    "    return distances[r-1,c-1]\n"
   ]
  },
  {
   "cell_type": "code",
   "execution_count": 33,
   "id": "2be32557-a208-4b11-9569-dd29da4a13cf",
   "metadata": {},
   "outputs": [
    {
     "data": {
      "text/plain": [
       "327"
      ]
     },
     "execution_count": 33,
     "metadata": {},
     "output_type": "execute_result"
    }
   ],
   "source": [
    "R,C=arr.shape\n",
    "shortest(arr,R,C)"
   ]
  },
  {
   "cell_type": "code",
   "execution_count": 34,
   "id": "c7be96c6-0eb7-49e1-88eb-f3a4b550426b",
   "metadata": {},
   "outputs": [
    {
     "data": {
      "text/plain": [
       "array([[1, 1, 6, 3, 7, 5, 1, 7, 4, 2],\n",
       "       [1, 3, 8, 1, 3, 7, 3, 6, 7, 2],\n",
       "       [2, 1, 3, 6, 5, 1, 1, 3, 2, 8],\n",
       "       [3, 6, 9, 4, 9, 3, 1, 5, 6, 9],\n",
       "       [7, 4, 6, 3, 4, 1, 7, 1, 1, 1],\n",
       "       [1, 3, 1, 9, 1, 2, 8, 1, 3, 7],\n",
       "       [1, 3, 5, 9, 9, 1, 2, 4, 2, 1],\n",
       "       [3, 1, 2, 5, 4, 2, 1, 6, 3, 9],\n",
       "       [1, 2, 9, 3, 1, 3, 8, 5, 2, 1],\n",
       "       [2, 3, 1, 1, 9, 4, 4, 5, 8, 1]])"
      ]
     },
     "execution_count": 34,
     "metadata": {},
     "output_type": "execute_result"
    }
   ],
   "source": [
    "text=\"\"\"\n",
    "1163751742\n",
    "1381373672\n",
    "2136511328\n",
    "3694931569\n",
    "7463417111\n",
    "1319128137\n",
    "1359912421\n",
    "3125421639\n",
    "1293138521\n",
    "2311944581\n",
    "\"\"\".strip()\n",
    "lines=text.strip().split('\\n')\n",
    "arr_str=[[int(_) for _ in line] for line in lines]\n",
    "arr=array(arr_str)\n",
    "arr"
   ]
  },
  {
   "cell_type": "code",
   "execution_count": 35,
   "id": "d995b1cb-c14c-4720-9a92-b21832452882",
   "metadata": {},
   "outputs": [
    {
     "data": {
      "text/plain": [
       "40"
      ]
     },
     "execution_count": 35,
     "metadata": {},
     "output_type": "execute_result"
    }
   ],
   "source": [
    "R,C=arr.shape\n",
    "shortest(arr,R,C)-arr[0,0]  # take off the start"
   ]
  },
  {
   "cell_type": "code",
   "execution_count": 36,
   "id": "eac0b129-8e82-4cd7-801b-b8ef0401e7b7",
   "metadata": {},
   "outputs": [
    {
     "data": {
      "text/plain": [
       "array([[3, 5, 7, ..., 1, 2, 8],\n",
       "       [1, 7, 1, ..., 6, 8, 8],\n",
       "       [2, 1, 5, ..., 5, 2, 2],\n",
       "       ...,\n",
       "       [6, 5, 1, ..., 5, 3, 4],\n",
       "       [3, 9, 9, ..., 7, 2, 1],\n",
       "       [5, 9, 9, ..., 4, 6, 2]])"
      ]
     },
     "execution_count": 36,
     "metadata": {},
     "output_type": "execute_result"
    }
   ],
   "source": [
    "with open('data/day15.txt') as fid:\n",
    "    text=fid.read()\n",
    "lines=text.strip().split('\\n')\n",
    "arr_str=[[int(_) for _ in line] for line in lines]\n",
    "arr=array(arr_str)\n",
    "arr    "
   ]
  },
  {
   "cell_type": "code",
   "execution_count": 37,
   "id": "defa5319-1d28-4aeb-8c8e-116ccb5f5417",
   "metadata": {},
   "outputs": [
    {
     "data": {
      "text/plain": [
       "487"
      ]
     },
     "execution_count": 37,
     "metadata": {},
     "output_type": "execute_result"
    }
   ],
   "source": [
    "R,C=arr.shape\n",
    "shortest(arr,R,C)-arr[0,0]  # take off the start"
   ]
  },
  {
   "cell_type": "code",
   "execution_count": null,
   "id": "766a6607-84e1-4bd3-adcb-ffd5f778b0ac",
   "metadata": {},
   "outputs": [],
   "source": []
  }
 ],
 "metadata": {
  "kernelspec": {
   "display_name": "Python 3",
   "language": "python",
   "name": "python3"
  },
  "language_info": {
   "codemirror_mode": {
    "name": "ipython",
    "version": 3
   },
   "file_extension": ".py",
   "mimetype": "text/x-python",
   "name": "python",
   "nbconvert_exporter": "python",
   "pygments_lexer": "ipython3",
   "version": "3.8.10"
  }
 },
 "nbformat": 4,
 "nbformat_minor": 5
}
