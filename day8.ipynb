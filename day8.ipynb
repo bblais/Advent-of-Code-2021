{
 "cells": [
  {
   "cell_type": "code",
   "execution_count": 20,
   "id": "18b94e20-0654-43ec-b4b0-0b352be6290a",
   "metadata": {},
   "outputs": [],
   "source": [
    "text=\"\"\"be cfbegad cbdgef fgaecd cgeb fdcge agebfd fecdb fabcd edb |fdgacbe cefdb cefbgd gcbe\n",
    "edbfga begcd cbg gc gcadebf fbgde acbgfd abcde gfcbed gfec |fcgedb cgb dgebacf gc\n",
    "fgaebd cg bdaec gdafb agbcfd gdcbef bgcad gfac gcb cdgabef |cg cg fdcagb cbg\n",
    "fbegcd cbd adcefb dageb afcb bc aefdc ecdab fgdeca fcdbega |efabcd cedba gadfec cb\n",
    "aecbfdg fbg gf bafeg dbefa fcge gcbea fcaegb dgceab fcbdga |gecf egdcabf bgf bfgea\n",
    "fgeab ca afcebg bdacfeg cfaedg gcfdb baec bfadeg bafgc acf |gebdcfa ecba ca fadegcb\n",
    "dbcfg fgd bdegcaf fgec aegbdf ecdfab fbedc dacgb gdcebf gf |cefg dcbef fcge gbcadfe\n",
    "bdfegc cbegaf gecbf dfcage bdacg ed bedf ced adcbefg gebcd |ed bcgafe cdgba cbgef\n",
    "egadfb cdbfeg cegd fecab cgb gbdefca cg fgcdab egfdb bfceg |gbdfcae bgc cg cgb\n",
    "gcafb gcf dcaebfg ecagb gf abcdeg gaef cafbge fdbac fegbdc |fgae cfgab fg bagce\"\"\""
   ]
  },
  {
   "cell_type": "markdown",
   "id": "b642acd0-87b3-41bf-ad8d-00b77bad070c",
   "metadata": {},
   "source": [
    "      0:      1:      2:      3:      4:\n",
    "     aaaa    ....    aaaa    aaaa    ....\n",
    "    b    c  .    c  .    c  .    c  b    c\n",
    "    b    c  .    c  .    c  .    c  b    c\n",
    "     ....    ....    dddd    dddd    dddd\n",
    "    e    f  .    f  e    .  .    f  .    f\n",
    "    e    f  .    f  e    .  .    f  .    f\n",
    "     gggg    ....    gggg    gggg    ....\n",
    "\n",
    "      5:      6:      7:      8:      9:\n",
    "     aaaa    aaaa    aaaa    aaaa    aaaa\n",
    "    b    .  b    .  .    c  b    c  b    c\n",
    "    b    .  b    .  .    c  b    c  b    c\n",
    "     dddd    dddd    ....    dddd    dddd\n",
    "    .    f  e    f  .    f  e    f  .    f\n",
    "    .    f  e    f  .    f  e    f  .    f\n",
    "     gggg    gggg    ....    gggg    gggg\n"
   ]
  },
  {
   "cell_type": "code",
   "execution_count": 65,
   "id": "f4c3af91-0f25-47e6-9b7a-69415d05d44f",
   "metadata": {},
   "outputs": [
    {
     "data": {
      "text/plain": [
       "[6, 2, 5, 5, 4, 5, 6, 3, 7, 6]"
      ]
     },
     "execution_count": 65,
     "metadata": {},
     "output_type": "execute_result"
    }
   ],
   "source": [
    "z0=set('abcefg')\n",
    "z1=set('cf')\n",
    "z2=set('acdeg')\n",
    "z3=set('acdfg')\n",
    "z4=set('bcdf')\n",
    "z5=set('abdfg')\n",
    "z6=set('abdefg')\n",
    "z7=set('acf')\n",
    "z8=set('abcdefg')\n",
    "z9=set('abcdfg')\n",
    "\n",
    "zs=[z0,z1,z2,z3,z4,z5,z6,z7,z8,z9]\n",
    "[len(_) for _ in zs]"
   ]
  },
  {
   "cell_type": "code",
   "execution_count": null,
   "id": "ad76de4e-0acd-4098-afa8-e98b5ac2bf56",
   "metadata": {},
   "outputs": [],
   "source": [
    "cf,bcdf,acf"
   ]
  },
  {
   "cell_type": "code",
   "execution_count": 69,
   "id": "60048587-4409-457d-b62c-90d96f782bdd",
   "metadata": {},
   "outputs": [
    {
     "data": {
      "text/plain": [
       "({'e'}, {'c', 'e'})"
      ]
     },
     "execution_count": 69,
     "metadata": {},
     "output_type": "execute_result"
    }
   ],
   "source": [
    "(z2-z3) , (z2-z5)"
   ]
  },
  {
   "cell_type": "code",
   "execution_count": 73,
   "id": "b152650a-2380-4210-96ee-11e631ed690c",
   "metadata": {},
   "outputs": [
    {
     "data": {
      "text/plain": [
       "({'a', 'd', 'g'}, {'a', 'c', 'd', 'g'}, {'a', 'd', 'f', 'g'})"
      ]
     },
     "execution_count": 73,
     "metadata": {},
     "output_type": "execute_result"
    }
   ],
   "source": [
    "z2&z5,z2&z3,z3&z5"
   ]
  },
  {
   "cell_type": "code",
   "execution_count": null,
   "id": "ad376f85-eead-4e59-8b55-258c96dcb744",
   "metadata": {},
   "outputs": [],
   "source": []
  },
  {
   "cell_type": "code",
   "execution_count": 14,
   "id": "3d313e5f-1a7d-4e51-83bd-346fbd7d7a76",
   "metadata": {},
   "outputs": [
    {
     "data": {
      "text/plain": [
       "26"
      ]
     },
     "execution_count": 14,
     "metadata": {},
     "output_type": "execute_result"
    }
   ],
   "source": [
    "lines=text.split(\"\\n\")\n",
    "output=[_.split('|')[1] for _ in lines]\n",
    "n=[len(_) for _ in ' '.join(output).split()]\n",
    "\n",
    "n.count(2)+n.count(4)+n.count(3)+n.count(7)"
   ]
  },
  {
   "cell_type": "code",
   "execution_count": 15,
   "id": "87965e26-97c2-42b5-aabe-723fe587def2",
   "metadata": {},
   "outputs": [],
   "source": [
    "with open('data/day8.txt') as fid:\n",
    "    text=fid.read()"
   ]
  },
  {
   "cell_type": "code",
   "execution_count": 21,
   "id": "75695c1d-fb71-4187-8246-4439315e8b48",
   "metadata": {},
   "outputs": [
    {
     "data": {
      "text/plain": [
       "26"
      ]
     },
     "execution_count": 21,
     "metadata": {},
     "output_type": "execute_result"
    }
   ],
   "source": [
    "lines=text.split(\"\\n\")\n",
    "output_vals=[_.split('|')[1] for _ in lines if _]\n",
    "\n",
    "n=[len(_) for _ in ' '.join(output_vals).split()]\n",
    "\n",
    "n.count(2)+n.count(4)+n.count(3)+n.count(7)"
   ]
  },
  {
   "cell_type": "code",
   "execution_count": 23,
   "id": "2846e9f4-ffcc-409f-9ffa-5db9bb5ab2a1",
   "metadata": {},
   "outputs": [
    {
     "data": {
      "text/plain": [
       "['be cfbegad cbdgef fgaecd cgeb fdcge agebfd fecdb fabcd edb',\n",
       " 'edbfga begcd cbg gc gcadebf fbgde acbgfd abcde gfcbed gfec',\n",
       " 'fgaebd cg bdaec gdafb agbcfd gdcbef bgcad gfac gcb cdgabef',\n",
       " 'fbegcd cbd adcefb dageb afcb bc aefdc ecdab fgdeca fcdbega',\n",
       " 'aecbfdg fbg gf bafeg dbefa fcge gcbea fcaegb dgceab fcbdga',\n",
       " 'fgeab ca afcebg bdacfeg cfaedg gcfdb baec bfadeg bafgc acf',\n",
       " 'dbcfg fgd bdegcaf fgec aegbdf ecdfab fbedc dacgb gdcebf gf',\n",
       " 'bdfegc cbegaf gecbf dfcage bdacg ed bedf ced adcbefg gebcd',\n",
       " 'egadfb cdbfeg cegd fecab cgb gbdefca cg fgcdab egfdb bfceg',\n",
       " 'gcafb gcf dcaebfg ecagb gf abcdeg gaef cafbge fdbac fegbdc']"
      ]
     },
     "execution_count": 23,
     "metadata": {},
     "output_type": "execute_result"
    }
   ],
   "source": [
    "input_vals=[_.split('|')[0].strip() for _ in lines if _]\n",
    "input_vals"
   ]
  },
  {
   "cell_type": "code",
   "execution_count": 24,
   "id": "78169d35-b601-430f-bcc3-c6530d46662c",
   "metadata": {},
   "outputs": [],
   "source": [
    "I=input_vals[0]"
   ]
  },
  {
   "cell_type": "code",
   "execution_count": 25,
   "id": "dca4df98-2264-4ebb-acad-49a242fef627",
   "metadata": {},
   "outputs": [
    {
     "data": {
      "text/plain": [
       "'be cfbegad cbdgef fgaecd cgeb fdcge agebfd fecdb fabcd edb'"
      ]
     },
     "execution_count": 25,
     "metadata": {},
     "output_type": "execute_result"
    }
   ],
   "source": [
    "I"
   ]
  },
  {
   "cell_type": "code",
   "execution_count": 26,
   "id": "44f6ce23-5e72-48d3-b203-0883803ba3d0",
   "metadata": {},
   "outputs": [],
   "source": [
    "parts=I.split()"
   ]
  },
  {
   "cell_type": "code",
   "execution_count": 27,
   "id": "9999a9e9-38e5-4a16-8855-c65d7daa5234",
   "metadata": {},
   "outputs": [
    {
     "data": {
      "text/plain": [
       "['be',\n",
       " 'cfbegad',\n",
       " 'cbdgef',\n",
       " 'fgaecd',\n",
       " 'cgeb',\n",
       " 'fdcge',\n",
       " 'agebfd',\n",
       " 'fecdb',\n",
       " 'fabcd',\n",
       " 'edb']"
      ]
     },
     "execution_count": 27,
     "metadata": {},
     "output_type": "execute_result"
    }
   ],
   "source": [
    "parts"
   ]
  },
  {
   "cell_type": "code",
   "execution_count": 28,
   "id": "21ded420-1209-4fcc-a23e-630c3893c520",
   "metadata": {},
   "outputs": [],
   "source": [
    "connections={'a':None,'b':None,'c':None,'d':None,'e':None,'f':None,'g':None}"
   ]
  },
  {
   "cell_type": "code",
   "execution_count": 45,
   "id": "df3fb494-08fe-4256-a290-a3756e4ef273",
   "metadata": {},
   "outputs": [],
   "source": [
    "n1=[len(_) for _ in parts].index(2)  # find the one\n",
    "cf=set(parts[n1])"
   ]
  },
  {
   "cell_type": "code",
   "execution_count": 46,
   "id": "465dadcc-b564-4104-9900-881e5f737b48",
   "metadata": {},
   "outputs": [],
   "source": [
    "n4=[len(_) for _ in parts].index(4)  # find the four\n",
    "bcdf=set(parts[n4])"
   ]
  },
  {
   "cell_type": "code",
   "execution_count": 47,
   "id": "f145d8fd-50f9-4f8f-b240-ee45783ef0fd",
   "metadata": {},
   "outputs": [
    {
     "data": {
      "text/plain": [
       "({'b', 'e'}, {'b', 'c', 'e', 'g'})"
      ]
     },
     "execution_count": 47,
     "metadata": {},
     "output_type": "execute_result"
    }
   ],
   "source": [
    "cf,bcdf"
   ]
  },
  {
   "cell_type": "code",
   "execution_count": 48,
   "id": "ac450b33-c447-49b3-ad00-2f3f308ec4c2",
   "metadata": {},
   "outputs": [],
   "source": [
    "bd=bcdf-(cf&bcdf)"
   ]
  },
  {
   "cell_type": "code",
   "execution_count": 50,
   "id": "7cb22ba1-96ed-4c09-a9ee-23cc7f5c9243",
   "metadata": {},
   "outputs": [],
   "source": [
    "n7=[len(_) for _ in parts].index(3)  # find the seven\n",
    "acf=set(parts[n7])"
   ]
  },
  {
   "cell_type": "code",
   "execution_count": 51,
   "id": "949f7b85-04c8-44ae-9f4e-6306158cae1e",
   "metadata": {},
   "outputs": [
    {
     "data": {
      "text/plain": [
       "{'b', 'd', 'e'}"
      ]
     },
     "execution_count": 51,
     "metadata": {},
     "output_type": "execute_result"
    }
   ],
   "source": [
    "acf"
   ]
  },
  {
   "cell_type": "code",
   "execution_count": 60,
   "id": "fc069b68-5767-40a1-bf86-b12630a1e059",
   "metadata": {},
   "outputs": [
    {
     "data": {
      "text/plain": [
       "{'d'}"
      ]
     },
     "execution_count": 60,
     "metadata": {},
     "output_type": "execute_result"
    }
   ],
   "source": [
    "a=acf-cf\n",
    "a"
   ]
  },
  {
   "cell_type": "code",
   "execution_count": 61,
   "id": "38da2bc6-df11-457f-925d-d8342268286d",
   "metadata": {},
   "outputs": [
    {
     "data": {
      "text/plain": [
       "{'a': 'd', 'b': None, 'c': None, 'd': None, 'e': None, 'f': None, 'g': None}"
      ]
     },
     "execution_count": 61,
     "metadata": {},
     "output_type": "execute_result"
    }
   ],
   "source": [
    "connections['a']=list(a)[0]\n",
    "connections"
   ]
  },
  {
   "cell_type": "code",
   "execution_count": 62,
   "id": "519a1fbf-d130-48a8-a231-76a60e815769",
   "metadata": {},
   "outputs": [],
   "source": [
    "n8=[len(_) for _ in parts].index(7)  # find the seven\n",
    "abcdefg=set(parts[n8])"
   ]
  },
  {
   "cell_type": "code",
   "execution_count": null,
   "id": "aa18baf1-3586-429d-a883-a6f6f30ac5ca",
   "metadata": {},
   "outputs": [],
   "source": []
  }
 ],
 "metadata": {
  "kernelspec": {
   "display_name": "Python 3",
   "language": "python",
   "name": "python3"
  },
  "language_info": {
   "codemirror_mode": {
    "name": "ipython",
    "version": 3
   },
   "file_extension": ".py",
   "mimetype": "text/x-python",
   "name": "python",
   "nbconvert_exporter": "python",
   "pygments_lexer": "ipython3",
   "version": "3.8.10"
  }
 },
 "nbformat": 4,
 "nbformat_minor": 5
}
