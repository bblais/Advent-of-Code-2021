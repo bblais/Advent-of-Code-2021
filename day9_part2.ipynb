{
 "cells": [
  {
   "cell_type": "code",
   "execution_count": 1,
   "id": "ba3c4e66-81b1-4912-ae75-3022d0ec2be9",
   "metadata": {},
   "outputs": [
    {
     "name": "stdout",
     "output_type": "stream",
     "text": [
      "Populating the interactive namespace from numpy and matplotlib\n"
     ]
    }
   ],
   "source": [
    "%pylab inline"
   ]
  },
  {
   "cell_type": "code",
   "execution_count": 2,
   "id": "bf1cb1e3-ae12-4628-855f-50cffa95b183",
   "metadata": {},
   "outputs": [],
   "source": [
    "ex1=\"\"\"\n",
    "2199943210\n",
    "3987894921\n",
    "9856789892\n",
    "8767896789\n",
    "9899965678\n",
    "\"\"\".strip()"
   ]
  },
  {
   "cell_type": "code",
   "execution_count": 4,
   "id": "d1374dbf-54cc-490a-82c4-9789a1eda936",
   "metadata": {},
   "outputs": [],
   "source": [
    "text=ex1"
   ]
  },
  {
   "cell_type": "code",
   "execution_count": 5,
   "id": "53e79325-c843-4e74-adff-1c5dd5858737",
   "metadata": {},
   "outputs": [
    {
     "data": {
      "text/plain": [
       "array([[2, 1, 9, 9, 9, 4, 3, 2, 1, 0],\n",
       "       [3, 9, 8, 7, 8, 9, 4, 9, 2, 1],\n",
       "       [9, 8, 5, 6, 7, 8, 9, 8, 9, 2],\n",
       "       [8, 7, 6, 7, 8, 9, 6, 7, 8, 9],\n",
       "       [9, 8, 9, 9, 9, 6, 5, 6, 7, 8]])"
      ]
     },
     "execution_count": 5,
     "metadata": {},
     "output_type": "execute_result"
    }
   ],
   "source": [
    "lines=text.strip().split('\\n')\n",
    "arr_str=[[int(_) for _ in line] for line in lines]\n",
    "arr=array(arr_str)\n",
    "arr"
   ]
  },
  {
   "cell_type": "code",
   "execution_count": 26,
   "id": "584db054-275e-40b4-9415-6f664c939e2f",
   "metadata": {},
   "outputs": [],
   "source": [
    "def basin_locations(arr,visited=None,i=0,j=0):\n",
    "    \n",
    "    if visited is None:\n",
    "        visited=zeros_like(arr)\n",
    "        \n",
    "    visited[i,j]=1\n",
    "    r,c=arr.shape \n",
    "    if arr[i,j]==9:\n",
    "        return [],visited\n",
    "\n",
    "    locs=[(i,j)]\n",
    "    for i2,j2 in ([i-1,j],[i+1,j],[i,j-1],[i,j+1]):\n",
    "        if i2<0 or i2>=r or j2<0 or j2>=c:\n",
    "            continue\n",
    "            \n",
    "        if visited[i2,j2]:\n",
    "            continue\n",
    "        elif arr[i2,j2]==9:\n",
    "            visited[i2,j2]=1\n",
    "            continue\n",
    "        else:\n",
    "            new_locs,_=basin_locations(arr,visited,i2,j2)\n",
    "            locs.extend(new_locs)\n",
    "            \n",
    "    return locs,visited\n",
    "        \n"
   ]
  },
  {
   "cell_type": "code",
   "execution_count": 28,
   "id": "b14fd6ef-55fd-45d6-a832-e5bce344eaf8",
   "metadata": {},
   "outputs": [],
   "source": [
    "visited=None\n",
    "r,c=arr.shape \n",
    "basins=[]\n",
    "for i in range(r):\n",
    "    for j in range(c):\n",
    "        if not visited is None and visited[i,j]:\n",
    "            continue\n",
    "        \n",
    "        locs,visited=basin_locations(arr,visited,i,j)\n",
    "        if locs:\n",
    "            basins.append(locs)"
   ]
  },
  {
   "cell_type": "code",
   "execution_count": 34,
   "id": "5c724b26-6bcd-45eb-932e-ae03fc2b03eb",
   "metadata": {},
   "outputs": [
    {
     "data": {
      "text/plain": [
       "[3, 9, 14, 9]"
      ]
     },
     "execution_count": 34,
     "metadata": {},
     "output_type": "execute_result"
    }
   ],
   "source": [
    "L=[len(_) for _ in basins]\n",
    "L"
   ]
  },
  {
   "cell_type": "code",
   "execution_count": 41,
   "id": "43967337-c76c-4540-9044-8bc5a8b14c84",
   "metadata": {},
   "outputs": [
    {
     "data": {
      "text/plain": [
       "[14, 9, 9]"
      ]
     },
     "execution_count": 41,
     "metadata": {},
     "output_type": "execute_result"
    }
   ],
   "source": [
    "sorted(L,reverse=True)[:3]"
   ]
  },
  {
   "cell_type": "code",
   "execution_count": 42,
   "id": "d29bf227-48fe-404d-b8cd-1772ae846a96",
   "metadata": {},
   "outputs": [
    {
     "data": {
      "text/plain": [
       "1134"
      ]
     },
     "execution_count": 42,
     "metadata": {},
     "output_type": "execute_result"
    }
   ],
   "source": [
    "val=prod(sorted(L,reverse=True)[:3])\n",
    "val"
   ]
  },
  {
   "cell_type": "markdown",
   "id": "e4b2cce9-f45f-4899-9351-03b3be8be36c",
   "metadata": {},
   "source": [
    "## Now on the big one"
   ]
  },
  {
   "cell_type": "code",
   "execution_count": 43,
   "id": "118eeeb2-0ceb-4521-b8c8-224430ca76dd",
   "metadata": {},
   "outputs": [],
   "source": [
    "with open('data/day9.txt') as fid:\n",
    "    text=fid.read()"
   ]
  },
  {
   "cell_type": "code",
   "execution_count": 44,
   "id": "5f010963-3e52-4130-bf67-0d9ea4053c17",
   "metadata": {},
   "outputs": [
    {
     "data": {
      "text/plain": [
       "array([[7, 6, 7, ..., 9, 6, 5],\n",
       "       [6, 5, 6, ..., 8, 9, 3],\n",
       "       [5, 4, 5, ..., 7, 8, 9],\n",
       "       ...,\n",
       "       [5, 6, 7, ..., 4, 5, 6],\n",
       "       [6, 7, 8, ..., 6, 8, 7],\n",
       "       [7, 9, 9, ..., 7, 9, 8]])"
      ]
     },
     "execution_count": 44,
     "metadata": {},
     "output_type": "execute_result"
    }
   ],
   "source": [
    "lines=text.strip().split('\\n')\n",
    "arr_str=[[int(_) for _ in line] for line in lines]\n",
    "arr=array(arr_str)\n",
    "arr"
   ]
  },
  {
   "cell_type": "code",
   "execution_count": 45,
   "id": "51810795-e067-4885-a485-5cf4bd0a6acd",
   "metadata": {},
   "outputs": [],
   "source": [
    "visited=None\n",
    "r,c=arr.shape \n",
    "basins=[]\n",
    "for i in range(r):\n",
    "    for j in range(c):\n",
    "        if not visited is None and visited[i,j]:\n",
    "            continue\n",
    "        \n",
    "        locs,visited=basin_locations(arr,visited,i,j)\n",
    "        if locs:\n",
    "            basins.append(locs)"
   ]
  },
  {
   "cell_type": "code",
   "execution_count": 46,
   "id": "fdcfb740-3274-48a1-8439-28597c85b4db",
   "metadata": {},
   "outputs": [
    {
     "data": {
      "text/plain": [
       "1045660"
      ]
     },
     "execution_count": 46,
     "metadata": {},
     "output_type": "execute_result"
    }
   ],
   "source": [
    "L=[len(_) for _ in basins]\n",
    "val=prod(sorted(L,reverse=True)[:3])\n",
    "val"
   ]
  },
  {
   "cell_type": "code",
   "execution_count": null,
   "id": "89d219e3-e967-4430-b2cd-acc3fa61657e",
   "metadata": {},
   "outputs": [],
   "source": []
  }
 ],
 "metadata": {
  "kernelspec": {
   "display_name": "Python 3",
   "language": "python",
   "name": "python3"
  },
  "language_info": {
   "codemirror_mode": {
    "name": "ipython",
    "version": 3
   },
   "file_extension": ".py",
   "mimetype": "text/x-python",
   "name": "python",
   "nbconvert_exporter": "python",
   "pygments_lexer": "ipython3",
   "version": "3.8.10"
  }
 },
 "nbformat": 4,
 "nbformat_minor": 5
}
