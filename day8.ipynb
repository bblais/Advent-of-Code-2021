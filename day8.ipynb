{
 "cells": [
  {
   "cell_type": "code",
   "execution_count": 20,
   "id": "18b94e20-0654-43ec-b4b0-0b352be6290a",
   "metadata": {},
   "outputs": [],
   "source": [
    "text=\"\"\"be cfbegad cbdgef fgaecd cgeb fdcge agebfd fecdb fabcd edb |fdgacbe cefdb cefbgd gcbe\n",
    "edbfga begcd cbg gc gcadebf fbgde acbgfd abcde gfcbed gfec |fcgedb cgb dgebacf gc\n",
    "fgaebd cg bdaec gdafb agbcfd gdcbef bgcad gfac gcb cdgabef |cg cg fdcagb cbg\n",
    "fbegcd cbd adcefb dageb afcb bc aefdc ecdab fgdeca fcdbega |efabcd cedba gadfec cb\n",
    "aecbfdg fbg gf bafeg dbefa fcge gcbea fcaegb dgceab fcbdga |gecf egdcabf bgf bfgea\n",
    "fgeab ca afcebg bdacfeg cfaedg gcfdb baec bfadeg bafgc acf |gebdcfa ecba ca fadegcb\n",
    "dbcfg fgd bdegcaf fgec aegbdf ecdfab fbedc dacgb gdcebf gf |cefg dcbef fcge gbcadfe\n",
    "bdfegc cbegaf gecbf dfcage bdacg ed bedf ced adcbefg gebcd |ed bcgafe cdgba cbgef\n",
    "egadfb cdbfeg cegd fecab cgb gbdefca cg fgcdab egfdb bfceg |gbdfcae bgc cg cgb\n",
    "gcafb gcf dcaebfg ecagb gf abcdeg gaef cafbge fdbac fegbdc |fgae cfgab fg bagce\"\"\""
   ]
  },
  {
   "cell_type": "markdown",
   "id": "b642acd0-87b3-41bf-ad8d-00b77bad070c",
   "metadata": {},
   "source": [
    "      0:      1:      2:      3:      4:\n",
    "     aaaa    ....    aaaa    aaaa    ....\n",
    "    b    c  .    c  .    c  .    c  b    c\n",
    "    b    c  .    c  .    c  .    c  b    c\n",
    "     ....    ....    dddd    dddd    dddd\n",
    "    e    f  .    f  e    .  .    f  .    f\n",
    "    e    f  .    f  e    .  .    f  .    f\n",
    "     gggg    ....    gggg    gggg    ....\n",
    "\n",
    "      5:      6:      7:      8:      9:\n",
    "     aaaa    aaaa    aaaa    aaaa    aaaa\n",
    "    b    .  b    .  .    c  b    c  b    c\n",
    "    b    .  b    .  .    c  b    c  b    c\n",
    "     dddd    dddd    ....    dddd    dddd\n",
    "    .    f  e    f  .    f  e    f  .    f\n",
    "    .    f  e    f  .    f  e    f  .    f\n",
    "     gggg    gggg    ....    gggg    gggg\n"
   ]
  },
  {
   "cell_type": "code",
   "execution_count": 1,
   "id": "5df30873-0980-4d44-a725-a67a133ff91b",
   "metadata": {},
   "outputs": [],
   "source": [
    "locs=['abcefg','cf','acdeg','acdfg','bcdf','abdfg','abdefg','acf','abcdefg','abcdfg']"
   ]
  },
  {
   "cell_type": "code",
   "execution_count": 7,
   "id": "b88cfd7a-02d3-469e-be7d-d76d3c4d8c33",
   "metadata": {},
   "outputs": [
    {
     "name": "stdout",
     "output_type": "stream",
     "text": [
      "abcXefg\n",
      "XXcXXfX\n",
      "aXcdeXg\n",
      "aXcdXfg\n",
      "XbcdXfX\n",
      "abXdXfg\n",
      "abXdefg\n",
      "aXcXXfX\n",
      "abcdefg\n",
      "abcdXfg\n"
     ]
    }
   ],
   "source": [
    "for L in locs:\n",
    "    missing=set('abcdefg')-set(L)\n",
    "    S='abcdefg'\n",
    "    for m in missing:\n",
    "        S=S.replace(m,'X')\n",
    "    print(S)"
   ]
  },
  {
   "cell_type": "code",
   "execution_count": 78,
   "id": "255f5221-c67a-41b4-940b-c551810ddeec",
   "metadata": {},
   "outputs": [
    {
     "data": {
      "text/plain": [
       "'be cfbegad cbdgef fgaecd cgeb fdcge agebfd fecdb fabcd edb'"
      ]
     },
     "execution_count": 78,
     "metadata": {},
     "output_type": "execute_result"
    }
   ],
   "source": [
    "val='be cfbegad cbdgef fgaecd cgeb fdcge agebfd fecdb fabcd edb'\n",
    "val"
   ]
  },
  {
   "cell_type": "code",
   "execution_count": null,
   "id": "66d2b283-7b3f-4a7d-86df-8b01f0ce5e9f",
   "metadata": {},
   "outputs": [],
   "source": []
  },
  {
   "cell_type": "markdown",
   "id": "5d644fbb-a1f1-40fa-a2f9-9d194f5daa6b",
   "metadata": {},
   "source": [
    "work one out by hand to hopefully get an idea\n",
    "\n",
    "(2)\n",
    "be = cf\n",
    "\n",
    "(7) - doesn't tell us anything\n",
    "cfbegad=abcdefg\n",
    "\n",
    "(4)\n",
    "cgeb = bcdf\n",
    "\n",
    "(3)\n",
    "edb = acf\n",
    "\n",
    "d -> a. (whatever was in 3 but not in 2 is a)\n",
    "cg = bd (whatever was 4 but not in 2 is bd)\n",
    "\n",
    "(6)\n",
    "cbdgef    = abcefg\n",
    "agebfd    = abdefg     \n",
    "fgaecd    = abcdfg\n",
    "\n",
    "they all share abfg\n",
    "\n",
    "\n",
    "\n",
    "(5)\n",
    "fdcge = acdeg\n",
    "fecdb = acdfg\n",
    "fabcd = abdfg\n",
    "\n",
    "what they all share is agd\n",
    "fcd=agd\n",
    "\n"
   ]
  },
  {
   "cell_type": "code",
   "execution_count": 49,
   "id": "9bd40009-8f36-48ef-b6a3-a8e1f870373d",
   "metadata": {},
   "outputs": [
    {
     "data": {
      "text/plain": [
       "{'a', 'c'}"
      ]
     },
     "execution_count": 49,
     "metadata": {},
     "output_type": "execute_result"
    }
   ],
   "source": [
    "(set(\"cbdgef\")-(set(\"cbdgef\")&set(\"agebfd\"))) | (set(\"agebfd\")-(set(\"cbdgef\")&set(\"agebfd\")))\n",
    "\n"
   ]
  },
  {
   "cell_type": "code",
   "execution_count": 44,
   "id": "ff446153-fc64-4ffa-95ec-c45231b3cba1",
   "metadata": {},
   "outputs": [
    {
     "data": {
      "text/plain": [
       "[('abcefg', 6),\n",
       " ('cf', 2),\n",
       " ('acdeg', 5),\n",
       " ('acdfg', 5),\n",
       " ('bcdf', 4),\n",
       " ('abdfg', 5),\n",
       " ('abdefg', 6),\n",
       " ('acf', 3),\n",
       " ('abcdefg', 7),\n",
       " ('abcdfg', 6)]"
      ]
     },
     "execution_count": 44,
     "metadata": {},
     "output_type": "execute_result"
    }
   ],
   "source": [
    "list(zip(locs,[len(x) for x in locs]))"
   ]
  },
  {
   "cell_type": "code",
   "execution_count": 15,
   "id": "cb866be3-9d97-4c0f-af93-e1f6aad29faa",
   "metadata": {},
   "outputs": [],
   "source": [
    "from itertools import permutations\n",
    "perm = permutations('abcdefg')"
   ]
  },
  {
   "cell_type": "code",
   "execution_count": 51,
   "id": "d2ddac7b-c4ef-40d2-a5a0-fc88c3f6166b",
   "metadata": {},
   "outputs": [],
   "source": [
    "for i,p in enumerate(perm):\n",
    "    pass"
   ]
  },
  {
   "cell_type": "code",
   "execution_count": 52,
   "id": "7b01e40a-26a1-406d-a669-5173fb7aec9c",
   "metadata": {},
   "outputs": [
    {
     "name": "stdout",
     "output_type": "stream",
     "text": [
      "5039\n"
     ]
    }
   ],
   "source": [
    "print(i)"
   ]
  },
  {
   "cell_type": "code",
   "execution_count": 53,
   "id": "50b46cbf-6fa0-42ed-93a8-6a0ca03146b8",
   "metadata": {},
   "outputs": [
    {
     "data": {
      "text/plain": [
       "('g', 'f', 'e', 'd', 'c', 'b', 'a')"
      ]
     },
     "execution_count": 53,
     "metadata": {},
     "output_type": "execute_result"
    }
   ],
   "source": [
    "p"
   ]
  },
  {
   "cell_type": "code",
   "execution_count": 20,
   "id": "8cd7ee41-414b-4323-888b-65b09628a3fd",
   "metadata": {},
   "outputs": [],
   "source": [
    "mapping={a:b for a,b in zip('abcdefg',p)}"
   ]
  },
  {
   "cell_type": "code",
   "execution_count": 54,
   "id": "d8cbad01-955a-4fd4-88e9-13a5402aec39",
   "metadata": {},
   "outputs": [],
   "source": [
    "items=[]\n",
    "for L in locs:\n",
    "    items.append(''.join(sorted([mapping[a] for a in L])))\n",
    "items=set(items)\n"
   ]
  },
  {
   "cell_type": "code",
   "execution_count": 56,
   "id": "5f7341e5-1648-4cd2-8e74-aa9ee84fc109",
   "metadata": {},
   "outputs": [
    {
     "data": {
      "text/plain": [
       "({'abcdefg',\n",
       "  'abcdfg',\n",
       "  'abcefg',\n",
       "  'abdefg',\n",
       "  'abdeg',\n",
       "  'abdfg',\n",
       "  'acdeg',\n",
       "  'bdef',\n",
       "  'be',\n",
       "  'beg'},\n",
       " ['abcefg',\n",
       "  'cf',\n",
       "  'acdeg',\n",
       "  'acdfg',\n",
       "  'bcdf',\n",
       "  'abdfg',\n",
       "  'abdefg',\n",
       "  'acf',\n",
       "  'abcdefg',\n",
       "  'abcdfg'])"
      ]
     },
     "execution_count": 56,
     "metadata": {},
     "output_type": "execute_result"
    }
   ],
   "source": [
    "items,locs"
   ]
  },
  {
   "cell_type": "code",
   "execution_count": 57,
   "id": "8cc19d7a-51f8-4d7e-b19e-b11cbcc5f5b4",
   "metadata": {},
   "outputs": [],
   "source": [
    "val=' '.join(items)"
   ]
  },
  {
   "cell_type": "code",
   "execution_count": 59,
   "id": "8d173014-59dc-4c2b-a4f4-a0d7df05b515",
   "metadata": {},
   "outputs": [
    {
     "data": {
      "text/plain": [
       "'bdef be abcdfg abcdefg abdfg beg abdefg abcefg abdeg acdeg'"
      ]
     },
     "execution_count": 59,
     "metadata": {},
     "output_type": "execute_result"
    }
   ],
   "source": [
    "val"
   ]
  },
  {
   "cell_type": "code",
   "execution_count": null,
   "id": "40f8a1cd-5984-4492-9b58-711235fbb0a9",
   "metadata": {},
   "outputs": [],
   "source": []
  },
  {
   "cell_type": "code",
   "execution_count": 105,
   "id": "e838b80b-e5ea-4fc1-9fdf-b7dbc7f7dfb9",
   "metadata": {},
   "outputs": [
    {
     "name": "stdout",
     "output_type": "stream",
     "text": [
      "True\n"
     ]
    },
    {
     "data": {
      "text/plain": [
       "({'abcdefg',\n",
       "  'abcdf',\n",
       "  'abdefg',\n",
       "  'acdefg',\n",
       "  'bcdef',\n",
       "  'bcdefg',\n",
       "  'bceg',\n",
       "  'bde',\n",
       "  'be',\n",
       "  'cdefg'},\n",
       " {'abcdefg',\n",
       "  'abcdf',\n",
       "  'abdefg',\n",
       "  'acdefg',\n",
       "  'bcdef',\n",
       "  'bcdefg',\n",
       "  'bceg',\n",
       "  'bde',\n",
       "  'be',\n",
       "  'cdefg'})"
      ]
     },
     "execution_count": 105,
     "metadata": {},
     "output_type": "execute_result"
    }
   ],
   "source": [
    "found=False\n",
    "perm = permutations('abcdefg')\n",
    "for i,p in enumerate(perm):\n",
    "    from itertools import permutations\n",
    "    mapping={a:b for a,b in zip('abcdefg',p)}\n",
    "    items=[]\n",
    "    for L in locs:\n",
    "        items.append(''.join(sorted([mapping[a] for a in L])))\n",
    "    items=set(items)\n",
    "\n",
    "    vals=[]\n",
    "    for L in val.split():\n",
    "        vals.append(''.join(sorted(L)))\n",
    "    vals=set(vals)\n",
    "\n",
    "    if vals==items:\n",
    "        found=True\n",
    "        break\n",
    "        \n",
    "print(found)\n",
    "vals,items\n",
    "    "
   ]
  },
  {
   "cell_type": "code",
   "execution_count": 106,
   "id": "3447666f-27ef-4f0f-89c6-921eacdc424c",
   "metadata": {},
   "outputs": [],
   "source": [
    "def find_mapping(val):\n",
    "    found=False\n",
    "    perm = permutations('abcdefg')\n",
    "    locs=['abcefg','cf','acdeg','acdfg','bcdf','abdfg','abdefg','acf','abcdefg','abcdfg']\n",
    "    for i,p in enumerate(perm):\n",
    "        mapping={a:b for a,b in zip('abcdefg',p)}\n",
    "        items=[]\n",
    "        for L in locs:\n",
    "            items.append(''.join(sorted([mapping[a] for a in L])))\n",
    "        items=set(items)\n",
    "\n",
    "        vals=[]\n",
    "        for L in val.split():\n",
    "            vals.append(''.join(sorted(L)))\n",
    "        vals=set(vals)\n",
    "\n",
    "        if vals==items:\n",
    "            found=True\n",
    "            break\n",
    "            \n",
    "    if not found:\n",
    "        raise ValueError(\"Not found!\")\n",
    "        \n",
    "    reverse_mapping={b:a for (a,b) in mapping.items()}\n",
    "        \n",
    "        \n",
    "    return mapping,reverse_mapping"
   ]
  },
  {
   "cell_type": "code",
   "execution_count": 87,
   "id": "bc79e2f9-ca5e-4360-8473-48f29567bfea",
   "metadata": {},
   "outputs": [],
   "source": [
    "line=\"acedgfb cdfbe gcdfa fbcad dab cefabd cdfgeb eafb cagedb ab | cdfeb fcadb cdfeb cdbaf\"\n",
    "input_val=line.split(\"|\")[0].strip()\n",
    "output_val=line.split(\"|\")[1].strip()"
   ]
  },
  {
   "cell_type": "code",
   "execution_count": 89,
   "id": "3763f3bf-2a7b-4cdb-be78-1de7bb32c2a6",
   "metadata": {},
   "outputs": [
    {
     "data": {
      "text/plain": [
       "({'a': 'd', 'b': 'e', 'c': 'a', 'd': 'f', 'e': 'g', 'f': 'b', 'g': 'c'},\n",
       " {'d': 'a', 'e': 'b', 'a': 'c', 'f': 'd', 'g': 'e', 'b': 'f', 'c': 'g'})"
      ]
     },
     "execution_count": 89,
     "metadata": {},
     "output_type": "execute_result"
    }
   ],
   "source": [
    "mapping,reverse_mapping=find_mapping(input_val)\n",
    "mapping,reverse_mapping"
   ]
  },
  {
   "cell_type": "code",
   "execution_count": 103,
   "id": "840e5631-940f-48f6-b74f-c01667eef8c1",
   "metadata": {},
   "outputs": [],
   "source": [
    "def convert_number(S,reverse_mapping):\n",
    "    \n",
    "    Sp=S.split()\n",
    "    \n",
    "    result=[]\n",
    "    for S in Sp:\n",
    "\n",
    "        mapped=''.join(sorted([reverse_mapping[_] for _ in S]))\n",
    "        locs=['abcefg','cf','acdeg','acdfg','bcdf','abdfg','abdefg','acf','abcdefg','abcdfg']\n",
    "    \n",
    "        result.append(locs.index(mapped))\n",
    "        \n",
    "    return sum([r*10**p for r,p in zip(result,range(len(result)-1,-1,-1))])\n",
    "    "
   ]
  },
  {
   "cell_type": "code",
   "execution_count": 104,
   "id": "d4be0a67-2007-4c71-af9d-c5c8ad2e67a6",
   "metadata": {},
   "outputs": [
    {
     "data": {
      "text/plain": [
       "5353"
      ]
     },
     "execution_count": 104,
     "metadata": {},
     "output_type": "execute_result"
    }
   ],
   "source": [
    "convert_number('cdfeb fcadb cdfeb cdbaf',reverse_mapping)"
   ]
  },
  {
   "cell_type": "code",
   "execution_count": 66,
   "id": "77444839-2331-4341-8d96-35d90982739b",
   "metadata": {},
   "outputs": [
    {
     "data": {
      "text/plain": [
       "{'abcdefg',\n",
       " 'abcdfg',\n",
       " 'abcefg',\n",
       " 'abdefg',\n",
       " 'abdeg',\n",
       " 'abdfg',\n",
       " 'acdeg',\n",
       " 'bdef',\n",
       " 'be',\n",
       " 'beg'}"
      ]
     },
     "execution_count": 66,
     "metadata": {},
     "output_type": "execute_result"
    }
   ],
   "source": [
    "vals=[]\n",
    "for L in val.split():\n",
    "    vals.append(''.join(sorted(L)))\n",
    "vals=set(vals)\n",
    "vals"
   ]
  },
  {
   "cell_type": "code",
   "execution_count": 60,
   "id": "ddaf7db2-3e41-4247-a674-0fefc5c4a423",
   "metadata": {},
   "outputs": [
    {
     "data": {
      "text/plain": [
       "('g', 'f', 'e', 'd', 'c', 'b', 'a')"
      ]
     },
     "execution_count": 60,
     "metadata": {},
     "output_type": "execute_result"
    }
   ],
   "source": [
    "p"
   ]
  },
  {
   "cell_type": "code",
   "execution_count": 40,
   "id": "6f98d8d3-75e8-49d6-a14a-cb3beb0fa045",
   "metadata": {},
   "outputs": [
    {
     "data": {
      "text/plain": [
       "True"
      ]
     },
     "execution_count": 40,
     "metadata": {},
     "output_type": "execute_result"
    }
   ],
   "source": [
    "set('ab')==set('ba')"
   ]
  },
  {
   "cell_type": "code",
   "execution_count": 65,
   "id": "f4c3af91-0f25-47e6-9b7a-69415d05d44f",
   "metadata": {},
   "outputs": [
    {
     "data": {
      "text/plain": [
       "[6, 2, 5, 5, 4, 5, 6, 3, 7, 6]"
      ]
     },
     "execution_count": 65,
     "metadata": {},
     "output_type": "execute_result"
    }
   ],
   "source": [
    "z0=set('abcefg')\n",
    "z1=set('cf')\n",
    "z2=set('acdeg')\n",
    "z3=set('acdfg')\n",
    "z4=set('bcdf')\n",
    "z5=set('abdfg')\n",
    "z6=set('abdefg')\n",
    "z7=set('acf')\n",
    "z8=set('abcdefg')\n",
    "z9=set('abcdfg')\n",
    "\n",
    "zs=[z0,z1,z2,z3,z4,z5,z6,z7,z8,z9]\n",
    "[len(_) for _ in zs]"
   ]
  },
  {
   "cell_type": "code",
   "execution_count": null,
   "id": "ad76de4e-0acd-4098-afa8-e98b5ac2bf56",
   "metadata": {},
   "outputs": [],
   "source": [
    "cf,bcdf,acf"
   ]
  },
  {
   "cell_type": "code",
   "execution_count": 69,
   "id": "60048587-4409-457d-b62c-90d96f782bdd",
   "metadata": {},
   "outputs": [
    {
     "data": {
      "text/plain": [
       "({'e'}, {'c', 'e'})"
      ]
     },
     "execution_count": 69,
     "metadata": {},
     "output_type": "execute_result"
    }
   ],
   "source": [
    "(z2-z3) , (z2-z5)"
   ]
  },
  {
   "cell_type": "code",
   "execution_count": 73,
   "id": "b152650a-2380-4210-96ee-11e631ed690c",
   "metadata": {},
   "outputs": [
    {
     "data": {
      "text/plain": [
       "({'a', 'd', 'g'}, {'a', 'c', 'd', 'g'}, {'a', 'd', 'f', 'g'})"
      ]
     },
     "execution_count": 73,
     "metadata": {},
     "output_type": "execute_result"
    }
   ],
   "source": [
    "z2&z5,z2&z3,z3&z5"
   ]
  },
  {
   "cell_type": "code",
   "execution_count": null,
   "id": "ad376f85-eead-4e59-8b55-258c96dcb744",
   "metadata": {},
   "outputs": [],
   "source": []
  },
  {
   "cell_type": "code",
   "execution_count": 14,
   "id": "3d313e5f-1a7d-4e51-83bd-346fbd7d7a76",
   "metadata": {},
   "outputs": [
    {
     "data": {
      "text/plain": [
       "26"
      ]
     },
     "execution_count": 14,
     "metadata": {},
     "output_type": "execute_result"
    }
   ],
   "source": [
    "lines=text.split(\"\\n\")\n",
    "output=[_.split('|')[1] for _ in lines]\n",
    "n=[len(_) for _ in ' '.join(output).split()]\n",
    "\n",
    "n.count(2)+n.count(4)+n.count(3)+n.count(7)"
   ]
  },
  {
   "cell_type": "code",
   "execution_count": 15,
   "id": "87965e26-97c2-42b5-aabe-723fe587def2",
   "metadata": {},
   "outputs": [],
   "source": [
    "with open('data/day8.txt') as fid:\n",
    "    text=fid.read()"
   ]
  },
  {
   "cell_type": "code",
   "execution_count": 21,
   "id": "75695c1d-fb71-4187-8246-4439315e8b48",
   "metadata": {},
   "outputs": [
    {
     "data": {
      "text/plain": [
       "26"
      ]
     },
     "execution_count": 21,
     "metadata": {},
     "output_type": "execute_result"
    }
   ],
   "source": [
    "lines=text.split(\"\\n\")\n",
    "output_vals=[_.split('|')[1] for _ in lines if _]\n",
    "\n",
    "n=[len(_) for _ in ' '.join(output_vals).split()]\n",
    "\n",
    "n.count(2)+n.count(4)+n.count(3)+n.count(7)"
   ]
  },
  {
   "cell_type": "code",
   "execution_count": 23,
   "id": "2846e9f4-ffcc-409f-9ffa-5db9bb5ab2a1",
   "metadata": {},
   "outputs": [
    {
     "data": {
      "text/plain": [
       "['be cfbegad cbdgef fgaecd cgeb fdcge agebfd fecdb fabcd edb',\n",
       " 'edbfga begcd cbg gc gcadebf fbgde acbgfd abcde gfcbed gfec',\n",
       " 'fgaebd cg bdaec gdafb agbcfd gdcbef bgcad gfac gcb cdgabef',\n",
       " 'fbegcd cbd adcefb dageb afcb bc aefdc ecdab fgdeca fcdbega',\n",
       " 'aecbfdg fbg gf bafeg dbefa fcge gcbea fcaegb dgceab fcbdga',\n",
       " 'fgeab ca afcebg bdacfeg cfaedg gcfdb baec bfadeg bafgc acf',\n",
       " 'dbcfg fgd bdegcaf fgec aegbdf ecdfab fbedc dacgb gdcebf gf',\n",
       " 'bdfegc cbegaf gecbf dfcage bdacg ed bedf ced adcbefg gebcd',\n",
       " 'egadfb cdbfeg cegd fecab cgb gbdefca cg fgcdab egfdb bfceg',\n",
       " 'gcafb gcf dcaebfg ecagb gf abcdeg gaef cafbge fdbac fegbdc']"
      ]
     },
     "execution_count": 23,
     "metadata": {},
     "output_type": "execute_result"
    }
   ],
   "source": [
    "input_vals=[_.split('|')[0].strip() for _ in lines if _]\n",
    "input_vals"
   ]
  },
  {
   "cell_type": "code",
   "execution_count": 24,
   "id": "78169d35-b601-430f-bcc3-c6530d46662c",
   "metadata": {},
   "outputs": [],
   "source": [
    "I=input_vals[0]"
   ]
  },
  {
   "cell_type": "code",
   "execution_count": 25,
   "id": "dca4df98-2264-4ebb-acad-49a242fef627",
   "metadata": {},
   "outputs": [
    {
     "data": {
      "text/plain": [
       "'be cfbegad cbdgef fgaecd cgeb fdcge agebfd fecdb fabcd edb'"
      ]
     },
     "execution_count": 25,
     "metadata": {},
     "output_type": "execute_result"
    }
   ],
   "source": [
    "I"
   ]
  },
  {
   "cell_type": "code",
   "execution_count": 26,
   "id": "44f6ce23-5e72-48d3-b203-0883803ba3d0",
   "metadata": {},
   "outputs": [],
   "source": [
    "parts=I.split()"
   ]
  },
  {
   "cell_type": "code",
   "execution_count": 27,
   "id": "9999a9e9-38e5-4a16-8855-c65d7daa5234",
   "metadata": {},
   "outputs": [
    {
     "data": {
      "text/plain": [
       "['be',\n",
       " 'cfbegad',\n",
       " 'cbdgef',\n",
       " 'fgaecd',\n",
       " 'cgeb',\n",
       " 'fdcge',\n",
       " 'agebfd',\n",
       " 'fecdb',\n",
       " 'fabcd',\n",
       " 'edb']"
      ]
     },
     "execution_count": 27,
     "metadata": {},
     "output_type": "execute_result"
    }
   ],
   "source": [
    "parts"
   ]
  },
  {
   "cell_type": "code",
   "execution_count": 28,
   "id": "21ded420-1209-4fcc-a23e-630c3893c520",
   "metadata": {},
   "outputs": [],
   "source": [
    "connections={'a':None,'b':None,'c':None,'d':None,'e':None,'f':None,'g':None}"
   ]
  },
  {
   "cell_type": "code",
   "execution_count": 45,
   "id": "df3fb494-08fe-4256-a290-a3756e4ef273",
   "metadata": {},
   "outputs": [],
   "source": [
    "n1=[len(_) for _ in parts].index(2)  # find the one\n",
    "cf=set(parts[n1])"
   ]
  },
  {
   "cell_type": "code",
   "execution_count": 46,
   "id": "465dadcc-b564-4104-9900-881e5f737b48",
   "metadata": {},
   "outputs": [],
   "source": [
    "n4=[len(_) for _ in parts].index(4)  # find the four\n",
    "bcdf=set(parts[n4])"
   ]
  },
  {
   "cell_type": "code",
   "execution_count": 47,
   "id": "f145d8fd-50f9-4f8f-b240-ee45783ef0fd",
   "metadata": {},
   "outputs": [
    {
     "data": {
      "text/plain": [
       "({'b', 'e'}, {'b', 'c', 'e', 'g'})"
      ]
     },
     "execution_count": 47,
     "metadata": {},
     "output_type": "execute_result"
    }
   ],
   "source": [
    "cf,bcdf"
   ]
  },
  {
   "cell_type": "code",
   "execution_count": 48,
   "id": "ac450b33-c447-49b3-ad00-2f3f308ec4c2",
   "metadata": {},
   "outputs": [],
   "source": [
    "bd=bcdf-(cf&bcdf)"
   ]
  },
  {
   "cell_type": "code",
   "execution_count": 50,
   "id": "7cb22ba1-96ed-4c09-a9ee-23cc7f5c9243",
   "metadata": {},
   "outputs": [],
   "source": [
    "n7=[len(_) for _ in parts].index(3)  # find the seven\n",
    "acf=set(parts[n7])"
   ]
  },
  {
   "cell_type": "code",
   "execution_count": 51,
   "id": "949f7b85-04c8-44ae-9f4e-6306158cae1e",
   "metadata": {},
   "outputs": [
    {
     "data": {
      "text/plain": [
       "{'b', 'd', 'e'}"
      ]
     },
     "execution_count": 51,
     "metadata": {},
     "output_type": "execute_result"
    }
   ],
   "source": [
    "acf"
   ]
  },
  {
   "cell_type": "code",
   "execution_count": 60,
   "id": "fc069b68-5767-40a1-bf86-b12630a1e059",
   "metadata": {},
   "outputs": [
    {
     "data": {
      "text/plain": [
       "{'d'}"
      ]
     },
     "execution_count": 60,
     "metadata": {},
     "output_type": "execute_result"
    }
   ],
   "source": [
    "a=acf-cf\n",
    "a"
   ]
  },
  {
   "cell_type": "code",
   "execution_count": 61,
   "id": "38da2bc6-df11-457f-925d-d8342268286d",
   "metadata": {},
   "outputs": [
    {
     "data": {
      "text/plain": [
       "{'a': 'd', 'b': None, 'c': None, 'd': None, 'e': None, 'f': None, 'g': None}"
      ]
     },
     "execution_count": 61,
     "metadata": {},
     "output_type": "execute_result"
    }
   ],
   "source": [
    "connections['a']=list(a)[0]\n",
    "connections"
   ]
  },
  {
   "cell_type": "code",
   "execution_count": 62,
   "id": "519a1fbf-d130-48a8-a231-76a60e815769",
   "metadata": {},
   "outputs": [],
   "source": [
    "n8=[len(_) for _ in parts].index(7)  # find the seven\n",
    "abcdefg=set(parts[n8])"
   ]
  },
  {
   "cell_type": "code",
   "execution_count": null,
   "id": "aa18baf1-3586-429d-a883-a6f6f30ac5ca",
   "metadata": {},
   "outputs": [],
   "source": []
  }
 ],
 "metadata": {
  "kernelspec": {
   "display_name": "Python 3",
   "language": "python",
   "name": "python3"
  },
  "language_info": {
   "codemirror_mode": {
    "name": "ipython",
    "version": 3
   },
   "file_extension": ".py",
   "mimetype": "text/x-python",
   "name": "python",
   "nbconvert_exporter": "python",
   "pygments_lexer": "ipython3",
   "version": "3.8.10"
  }
 },
 "nbformat": 4,
 "nbformat_minor": 5
}
