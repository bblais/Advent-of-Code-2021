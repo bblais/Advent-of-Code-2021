{
 "cells": [
  {
   "cell_type": "code",
   "execution_count": 16,
   "id": "a9ef4493-e84f-416a-83b8-ed59a5dd9203",
   "metadata": {},
   "outputs": [],
   "source": [
    "text=\"\"\"\n",
    "NNCB\n",
    "\n",
    "CH -> B\n",
    "HH -> N\n",
    "CB -> H\n",
    "NH -> C\n",
    "HB -> C\n",
    "HC -> B\n",
    "HN -> C\n",
    "NN -> C\n",
    "BH -> H\n",
    "NC -> B\n",
    "NB -> B\n",
    "BN -> B\n",
    "BB -> N\n",
    "BC -> B\n",
    "CC -> N\n",
    "CN -> C\n",
    "\"\"\"\n",
    "parts=text.split(\"\\n\\n\")\n",
    "start=parts[0].strip()\n",
    "insertion_rules={}\n",
    "for m in parts[1].strip().split(\"\\n\"):\n",
    "    if not m:"
   ]
  },
  {
   "cell_type": "code",
   "execution_count": 17,
   "id": "110c85b9-05bd-4cb0-b696-dacad8a3dd33",
   "metadata": {},
   "outputs": [],
   "source": [
    "def pairs(S):\n",
    "    for c1,c2 in zip(S[:-1],S[1:]):\n",
    "        yield c1+c2"
   ]
  },
  {
   "cell_type": "code",
   "execution_count": 130,
   "id": "5b1d3e31-a248-4cfb-80a0-e441d5355378",
   "metadata": {},
   "outputs": [],
   "source": [
    "def get_pair_counts(start):\n",
    "    pair_counts={}\n",
    "    for p in pairs(start):\n",
    "        if not p in pair_counts:\n",
    "            pair_counts[p]=1\n",
    "        else:\n",
    "            pair_counts[p]+=1\n",
    "            \n",
    "    charset=set(start)\n",
    "    char_counts={c:start.count(c) for c in charset}\n",
    "    \n",
    "\n",
    "    return pair_counts,char_counts    "
   ]
  },
  {
   "cell_type": "code",
   "execution_count": 131,
   "id": "f3f2d53d-3245-421b-95c5-064b5c3da1ea",
   "metadata": {},
   "outputs": [
    {
     "data": {
      "text/plain": [
       "({'NN': 1, 'NC': 1, 'CB': 1}, {'B': 1, 'N': 2, 'C': 1})"
      ]
     },
     "execution_count": 131,
     "metadata": {},
     "output_type": "execute_result"
    }
   ],
   "source": [
    "pair_counts,char_counts=get_pair_counts(start)\n",
    "pair_counts,char_counts"
   ]
  },
  {
   "cell_type": "code",
   "execution_count": 132,
   "id": "6b994799-d8c8-4d06-89da-ddf824973443",
   "metadata": {},
   "outputs": [],
   "source": [
    "def step_pair(pair_counts,char_counts):\n",
    "    new_pair_counts={}\n",
    "    new_char_counts=char_counts.copy()\n",
    "    \n",
    "    for pair in pair_counts:\n",
    "        insert_char=insertion_rules[pair]\n",
    "        \n",
    "        if insert_char in char_counts:\n",
    "            new_char_counts[insert_char]+=pair_counts[pair]\n",
    "        else:\n",
    "            new_char_counts[insert_char]=pair_counts[pair]\n",
    "            \n",
    "        for p in [pair[0]+insert_char,insert_char+pair[1]]:\n",
    "            if not p in new_pair_counts:\n",
    "                new_pair_counts[p]=pair_counts[pair]\n",
    "            else:\n",
    "                new_pair_counts[p]+=pair_counts[pair]\n",
    "        \n",
    "        \n",
    "    return new_pair_counts,new_char_counts\n",
    "\n",
    "def step(start):\n",
    "    new_str=\"\"\n",
    "    for p in pairs(start):\n",
    "        insert_char=insertion_rules[p]\n",
    "        new_str=new_str+p[0]+insert_char\n",
    "\n",
    "    new_str=new_str+p[1]\n",
    "    return new_str"
   ]
  },
  {
   "cell_type": "code",
   "execution_count": 133,
   "id": "97304ad2-a206-48cd-b1f7-c5d53fe7aa16",
   "metadata": {},
   "outputs": [
    {
     "data": {
      "text/plain": [
       "({'NN': 1, 'NC': 1, 'CB': 1}, {'B': 1, 'N': 2, 'C': 1}, 'NNCB')"
      ]
     },
     "execution_count": 133,
     "metadata": {},
     "output_type": "execute_result"
    }
   ],
   "source": [
    "\n",
    "new_pc,new_c=pair_counts,char_counts\n",
    "new_pc,new_c,start\n"
   ]
  },
  {
   "cell_type": "code",
   "execution_count": 134,
   "id": "7a3353b5-7e63-4046-bd42-38a5dda57a61",
   "metadata": {},
   "outputs": [
    {
     "data": {
      "text/plain": [
       "'NCNBCHB'"
      ]
     },
     "execution_count": 134,
     "metadata": {},
     "output_type": "execute_result"
    }
   ],
   "source": [
    "step(start)"
   ]
  },
  {
   "cell_type": "code",
   "execution_count": 135,
   "id": "42f84353-d3b9-4c18-a53c-61601a3b4c03",
   "metadata": {},
   "outputs": [
    {
     "data": {
      "text/plain": [
       "({'NC': 1, 'CN': 1, 'NB': 1, 'BC': 1, 'CH': 1, 'HB': 1},\n",
       " {'B': 2, 'N': 2, 'C': 2, 'H': 1})"
      ]
     },
     "execution_count": 135,
     "metadata": {},
     "output_type": "execute_result"
    }
   ],
   "source": [
    "step_pair(new_pc,new_c)"
   ]
  },
  {
   "cell_type": "code",
   "execution_count": 136,
   "id": "651f7b25-f56d-4dd7-857e-9ff3edecf670",
   "metadata": {},
   "outputs": [],
   "source": [
    "strings=[]\n",
    "strings.append(start)\n",
    "new_str=start\n",
    "for i in range(2):\n",
    "    new_str=step(new_str)\n",
    "    strings.append(new_str)"
   ]
  },
  {
   "cell_type": "code",
   "execution_count": 137,
   "id": "b01dd532-2a1c-4b3c-b8a4-44a3b21e3ab7",
   "metadata": {},
   "outputs": [
    {
     "data": {
      "text/plain": [
       "'NBCCNBBBCBHCB'"
      ]
     },
     "execution_count": 137,
     "metadata": {},
     "output_type": "execute_result"
    }
   ],
   "source": [
    "strings[-1]"
   ]
  },
  {
   "cell_type": "code",
   "execution_count": 138,
   "id": "4ed0fe65-0b4a-49eb-917f-f5848cd0c640",
   "metadata": {},
   "outputs": [
    {
     "data": {
      "text/plain": [
       "([6, 1, 2, 4], {'B', 'C', 'H', 'N'})"
      ]
     },
     "execution_count": 138,
     "metadata": {},
     "output_type": "execute_result"
    }
   ],
   "source": [
    "charset=set(strings[-1])\n",
    "counts=[strings[-1].count(c) for c in charset]\n",
    "counts,charset"
   ]
  },
  {
   "cell_type": "code",
   "execution_count": 139,
   "id": "5edfdbe4-1706-4a65-b17b-f346ae8f0d0b",
   "metadata": {},
   "outputs": [
    {
     "data": {
      "text/plain": [
       "5"
      ]
     },
     "execution_count": 139,
     "metadata": {},
     "output_type": "execute_result"
    }
   ],
   "source": [
    "max(counts)-min(counts)"
   ]
  },
  {
   "cell_type": "code",
   "execution_count": 140,
   "id": "61872761-6a03-40d3-8c1c-31b24ab65d79",
   "metadata": {},
   "outputs": [
    {
     "name": "stdout",
     "output_type": "stream",
     "text": [
      "{'NN': 1, 'NC': 1, 'CB': 1} {'B': 1, 'N': 2, 'C': 1}\n",
      "{'NB': 2, 'BC': 2, 'CC': 1, 'CN': 1, 'BB': 2, 'CB': 2, 'BH': 1, 'HC': 1} {'B': 6, 'N': 2, 'C': 4, 'H': 1}\n"
     ]
    }
   ],
   "source": [
    "new_pc,new_c=pair_counts,char_counts\n",
    "print(new_pc,new_c)\n",
    "for i in range(2):\n",
    "    new_pc,new_c=step_pair(new_pc,new_c)\n",
    "print(new_pc,new_c)\n",
    "    "
   ]
  },
  {
   "cell_type": "code",
   "execution_count": 141,
   "id": "90db64ea-c731-4b37-a2cb-56ce2b968dec",
   "metadata": {},
   "outputs": [
    {
     "data": {
      "text/plain": [
       "({'NB': 2, 'BC': 2, 'CC': 1, 'CN': 1, 'BB': 2, 'CB': 2, 'BH': 1, 'HC': 1},\n",
       " {'B': 6, 'H': 1, 'N': 2, 'C': 4})"
      ]
     },
     "execution_count": 141,
     "metadata": {},
     "output_type": "execute_result"
    }
   ],
   "source": [
    "get_pair_counts(strings[-1])"
   ]
  },
  {
   "cell_type": "code",
   "execution_count": 142,
   "id": "3e3d3226-8240-4cd5-97ed-97e52b308dcd",
   "metadata": {},
   "outputs": [
    {
     "data": {
      "text/plain": [
       "['CKKOHNSBPCPCHVNKHFFK',\n",
       " 'KO -> C\\nSO -> S\\nBF -> V\\nVN -> B\\nOV -> K\\nVH -> O\\nKV -> N\\nKB -> F\\nNB -> C\\nHS -> K\\nPF -> B\\nHB -> N\\nOC -> H\\nFS -> F\\nVV -> S\\nKF -> C\\nFN -> F\\nKP -> S\\nHO -> N\\nNH -> K\\nOO -> S\\nFB -> C\\nBP -> F\\nCH -> N\\nSN -> O\\nKN -> B\\nCV -> O\\nCC -> B\\nVB -> C\\nPH -> V\\nCO -> K\\nKS -> K\\nBK -> N\\nFH -> S\\nPV -> H\\nCB -> P\\nFO -> F\\nBB -> K\\nOB -> C\\nHH -> F\\nON -> O\\nFK -> B\\nNF -> F\\nSV -> F\\nCP -> H\\nSS -> B\\nOP -> H\\nNS -> O\\nHK -> N\\nBC -> P\\nNV -> V\\nVS -> F\\nPC -> V\\nCS -> F\\nNP -> V\\nPS -> F\\nVC -> F\\nKK -> S\\nPO -> P\\nHF -> H\\nKC -> P\\nSF -> N\\nBV -> N\\nFF -> V\\nFV -> V\\nBO -> N\\nOS -> C\\nOF -> H\\nCN -> S\\nNO -> O\\nNC -> B\\nVK -> C\\nHN -> B\\nPK -> N\\nSK -> S\\nHV -> F\\nBH -> B\\nOK -> S\\nVO -> B\\nBS -> H\\nPP -> N\\nSC -> K\\nBN -> P\\nFC -> S\\nSB -> B\\nSH -> H\\nNN -> V\\nNK -> N\\nVF -> H\\nCF -> F\\nPB -> C\\nSP -> P\\nKH -> C\\nVP -> N\\nCK -> H\\nHP -> P\\nFP -> B\\nHC -> O\\nPN -> F\\nOH -> H\\n']"
      ]
     },
     "execution_count": 142,
     "metadata": {},
     "output_type": "execute_result"
    }
   ],
   "source": [
    "with open('data/day14.txt') as fid:\n",
    "    text=fid.read()\n",
    "parts=text.split(\"\\n\\n\")\n",
    "parts  "
   ]
  },
  {
   "cell_type": "code",
   "execution_count": 143,
   "id": "e2c2d2b4-da03-4a5e-b0a0-fe506735c673",
   "metadata": {},
   "outputs": [],
   "source": [
    "start=parts[0].strip()\n",
    "insertion_rules={}\n",
    "for m in parts[1].strip().split(\"\\n\"):\n",
    "    if not m:\n",
    "        continue\n",
    "    key=m.split(\"->\")[0].strip()\n",
    "    char=m.split(\"->\")[1].strip()    \n",
    "    insertion_rules[key]=char"
   ]
  },
  {
   "cell_type": "code",
   "execution_count": 144,
   "id": "86039333-25b9-4e71-8b59-96abf4e4585d",
   "metadata": {},
   "outputs": [],
   "source": [
    "strings=[]\n",
    "strings.append(start)\n",
    "new_str=start\n",
    "for i in range(10):\n",
    "    new_str=step(new_str)\n",
    "    strings.append(new_str)"
   ]
  },
  {
   "cell_type": "code",
   "execution_count": 145,
   "id": "f0725cf9-ad5c-41fa-8a89-c3f3e8e1ede3",
   "metadata": {},
   "outputs": [],
   "source": [
    "charset=set(strings[-1])\n",
    "counts=[strings[-1].count(c) for c in charset]\n"
   ]
  },
  {
   "cell_type": "code",
   "execution_count": 146,
   "id": "6fe8ea8f-f39b-4036-a9bc-1b2a468159bf",
   "metadata": {},
   "outputs": [
    {
     "data": {
      "text/plain": [
       "3831"
      ]
     },
     "execution_count": 146,
     "metadata": {},
     "output_type": "execute_result"
    }
   ],
   "source": [
    "max(counts)-min(counts)"
   ]
  },
  {
   "cell_type": "code",
   "execution_count": 147,
   "id": "4c8ec1e8-150b-4220-9bf4-5b074156e434",
   "metadata": {},
   "outputs": [
    {
     "data": {
      "text/plain": [
       "({'CK': 1,\n",
       "  'KK': 1,\n",
       "  'KO': 1,\n",
       "  'OH': 1,\n",
       "  'HN': 1,\n",
       "  'NS': 1,\n",
       "  'SB': 1,\n",
       "  'BP': 1,\n",
       "  'PC': 2,\n",
       "  'CP': 1,\n",
       "  'CH': 1,\n",
       "  'HV': 1,\n",
       "  'VN': 1,\n",
       "  'NK': 1,\n",
       "  'KH': 1,\n",
       "  'HF': 1,\n",
       "  'FF': 1,\n",
       "  'FK': 1},\n",
       " {'P': 2,\n",
       "  'V': 1,\n",
       "  'S': 1,\n",
       "  'H': 3,\n",
       "  'N': 2,\n",
       "  'C': 3,\n",
       "  'B': 1,\n",
       "  'F': 2,\n",
       "  'K': 4,\n",
       "  'O': 1})"
      ]
     },
     "execution_count": 147,
     "metadata": {},
     "output_type": "execute_result"
    }
   ],
   "source": [
    "pair_counts,char_counts=get_pair_counts(start)\n",
    "pair_counts,char_counts"
   ]
  },
  {
   "cell_type": "code",
   "execution_count": 148,
   "id": "7ae3922d-2722-49e0-84c6-4c8449781517",
   "metadata": {},
   "outputs": [
    {
     "data": {
      "text/plain": [
       "3831"
      ]
     },
     "execution_count": 148,
     "metadata": {},
     "output_type": "execute_result"
    }
   ],
   "source": [
    "new_pc,new_c=pair_counts,char_counts\n",
    "for i in range(10):\n",
    "    new_pc,new_c=step_pair(new_pc,new_c)  \n",
    "    \n",
    "counts=[new_c[k] for k in new_c]\n",
    "max(counts)-min(counts)"
   ]
  },
  {
   "cell_type": "code",
   "execution_count": 149,
   "id": "0c07fa78-6dbc-4d1a-b426-1ac2ef989082",
   "metadata": {},
   "outputs": [
    {
     "data": {
      "text/plain": [
       "5725739914282"
      ]
     },
     "execution_count": 149,
     "metadata": {},
     "output_type": "execute_result"
    }
   ],
   "source": [
    "new_pc,new_c=pair_counts,char_counts\n",
    "for i in range(40):\n",
    "    new_pc,new_c=step_pair(new_pc,new_c)  \n",
    "    \n",
    "counts=[new_c[k] for k in new_c]\n",
    "max(counts)-min(counts)"
   ]
  },
  {
   "cell_type": "code",
   "execution_count": null,
   "id": "1e9dc4b5-e7b0-4735-8086-a7689ad27969",
   "metadata": {},
   "outputs": [],
   "source": []
  }
 ],
 "metadata": {
  "kernelspec": {
   "display_name": "Python 3",
   "language": "python",
   "name": "python3"
  },
  "language_info": {
   "codemirror_mode": {
    "name": "ipython",
    "version": 3
   },
   "file_extension": ".py",
   "mimetype": "text/x-python",
   "name": "python",
   "nbconvert_exporter": "python",
   "pygments_lexer": "ipython3",
   "version": "3.8.10"
  }
 },
 "nbformat": 4,
 "nbformat_minor": 5
}
