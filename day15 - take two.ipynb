{
 "cells": [
  {
   "cell_type": "markdown",
   "id": "327a1055-37ea-472c-8dc7-8ad0d9dc1ec9",
   "metadata": {},
   "source": [
    "https://www.geeksforgeeks.org/minimum-cost-path-left-right-bottom-moves-allowed/"
   ]
  },
  {
   "cell_type": "markdown",
   "id": "f55b7c3a-f637-4d4a-89e8-f005a2a3370e",
   "metadata": {},
   "source": [
    "```c++\n",
    "// C++ program to get least cost path in a grid from\n",
    "// top-left to bottom-right\n",
    "#include <bits/stdc++.h>\n",
    "using namespace std;\n",
    " \n",
    "#define ROW 5\n",
    "#define COL 5\n",
    " \n",
    "// structure for information of each cell\n",
    "struct cell\n",
    "{\n",
    "    int x, y;\n",
    "    int distance;\n",
    "    cell(int x, int y, int distance) :\n",
    "        x(x), y(y), distance(distance) {}\n",
    "};\n",
    " \n",
    "// Utility method for comparing two cells\n",
    "bool operator<(const cell& a, const cell& b)\n",
    "{\n",
    "    if (a.distance == b.distance)\n",
    "    {\n",
    "        if (a.x != b.x)\n",
    "            return (a.x < b.x);\n",
    "        else\n",
    "            return (a.y < b.y);\n",
    "    }\n",
    "    return (a.distance < b.distance);\n",
    "}\n",
    " \n",
    "// Utility method to check whether a point is\n",
    "// inside the grid or not\n",
    "bool isInsideGrid(int i, int j)\n",
    "{\n",
    "    return (i >= 0 && i < ROW && j >= 0 && j < COL);\n",
    "}\n",
    " \n",
    "// Method returns minimum cost to reach bottom\n",
    "// right from top left\n",
    "int shortest(int grid[ROW][COL], int row, int col)\n",
    "{\n",
    "    int dis[row][col];\n",
    " \n",
    "    // initializing distance array by INT_MAX\n",
    "    for (int i = 0; i < row; i++)\n",
    "        for (int j = 0; j < col; j++)\n",
    "            dis[i][j] = INT_MAX;\n",
    " \n",
    "    // direction arrays for simplification of getting\n",
    "    // neighbour\n",
    "    int dx[] = {-1, 0, 1, 0};\n",
    "    int dy[] = {0, 1, 0, -1};\n",
    " \n",
    "    set<cell> st;\n",
    " \n",
    "    // insert (0, 0) cell with 0 distance\n",
    "    st.insert(cell(0, 0, 0));\n",
    " \n",
    "    // initialize distance of (0, 0) with its grid value\n",
    "    dis[0][0] = grid[0][0];\n",
    " \n",
    "    // loop for standard dijkstra's algorithm\n",
    "    while (!st.empty())\n",
    "    {\n",
    "        // get the cell with minimum distance and delete\n",
    "        // it from the set\n",
    "        cell k = *st.begin();\n",
    "        st.erase(st.begin());\n",
    " \n",
    "        // looping through all neighbours\n",
    "        for (int i = 0; i < 4; i++)\n",
    "        {\n",
    "            int x = k.x + dx[i];\n",
    "            int y = k.y + dy[i];\n",
    " \n",
    "            // if not inside boundary, ignore them\n",
    "            if (!isInsideGrid(x, y))\n",
    "                continue;\n",
    " \n",
    "            // If distance from current cell is smaller, then\n",
    "            // update distance of neighbour cell\n",
    "            if (dis[x][y] > dis[k.x][k.y] + grid[x][y])\n",
    "            {\n",
    "                // If cell is already there in set, then\n",
    "                // remove its previous entry\n",
    "                if (dis[x][y] != INT_MAX)\n",
    "                    st.erase(st.find(cell(x, y, dis[x][y])));\n",
    " \n",
    "                // update the distance and insert new updated\n",
    "                // cell in set\n",
    "                dis[x][y] = dis[k.x][k.y] + grid[x][y];\n",
    "                st.insert(cell(x, y, dis[x][y]));\n",
    "            }\n",
    "        }\n",
    "    }\n",
    " \n",
    "    // uncomment below code to print distance\n",
    "    // of each cell from (0, 0)\n",
    "    /*\n",
    "    for (int i = 0; i < row; i++, cout << endl)\n",
    "        for (int j = 0; j < col; j++)\n",
    "            cout << dis[i][j] << \" \";\n",
    "    */\n",
    "    // dis[row - 1][col - 1] will represent final\n",
    "    // distance of bottom right cell from top left cell\n",
    "    return dis[row - 1][col - 1];\n",
    "}\n",
    " \n",
    "// Driver code to test above methods\n",
    "int main()\n",
    "{\n",
    "    int grid[ROW][COL] =\n",
    "    {\n",
    "        31, 100, 65, 12, 18,\n",
    "        10, 13, 47, 157, 6,\n",
    "        100, 113, 174, 11, 33,\n",
    "        88, 124, 41, 20, 140,\n",
    "        99, 32, 111, 41, 20\n",
    "    };\n",
    " \n",
    "    cout << shortest(grid, ROW, COL) << endl;\n",
    "    return 0;\n",
    "}\n",
    "```"
   ]
  },
  {
   "cell_type": "code",
   "execution_count": 3,
   "id": "5fc148f6-a8ac-479e-8965-df84d33c7623",
   "metadata": {},
   "outputs": [
    {
     "name": "stdout",
     "output_type": "stream",
     "text": [
      "Populating the interactive namespace from numpy and matplotlib\n"
     ]
    }
   ],
   "source": [
    "%pylab inline"
   ]
  },
  {
   "cell_type": "code",
   "execution_count": 5,
   "id": "1b0ccf11-0ce8-4027-8c76-69e50973a6ad",
   "metadata": {},
   "outputs": [
    {
     "data": {
      "text/plain": [
       "array([[ 31, 100,  65,  12,  18],\n",
       "       [ 10,  13,  47, 157,   6],\n",
       "       [100, 113, 174,  11,  33],\n",
       "       [ 88, 124,  41,  20, 140],\n",
       "       [ 99,  32, 111,  41,  20]])"
      ]
     },
     "execution_count": 5,
     "metadata": {},
     "output_type": "execute_result"
    }
   ],
   "source": [
    "from dataclasses import dataclass\n",
    "\n",
    "@dataclass\n",
    "class cell:\n",
    "    x:int\n",
    "    y:int\n",
    "    distance:float\n",
    "    \n",
    "    def __lt__(self, other):\n",
    "        \n",
    "        if self.distance==other.distance:\n",
    "            if self.x!=other.x:\n",
    "                return self.x<other.x\n",
    "            else:\n",
    "                return self.y<other.y\n",
    "        else:\n",
    "            return self.distance<other.distance\n",
    "        \n",
    "    \n",
    "arr=array([    31, 100, 65, 12, 18,\n",
    "        10, 13, 47, 157, 6,\n",
    "        100, 113, 174, 11, 33,\n",
    "        88, 124, 41, 20, 140,\n",
    "        99, 32, 111, 41, 20])\n",
    "arr=arr.reshape(5,5)\n",
    "arr"
   ]
  },
  {
   "cell_type": "code",
   "execution_count": 9,
   "id": "fde9adc7-8c94-4024-9066-b89f797394ac",
   "metadata": {},
   "outputs": [
    {
     "data": {
      "text/plain": [
       "9223372036854775807"
      ]
     },
     "execution_count": 9,
     "metadata": {},
     "output_type": "execute_result"
    }
   ],
   "source": [
    "iinfo(arr.dtype).max"
   ]
  },
  {
   "cell_type": "code",
   "execution_count": 29,
   "id": "4f1326d8-caca-4c98-befa-8f437700c901",
   "metadata": {},
   "outputs": [],
   "source": [
    "def shortest(arr,r,c):\n",
    "    maxval=9223372036854775807\n",
    "    distances=ones((r,c),int)*maxval\n",
    "    R,C=arr.shape\n",
    "    \n",
    "    S=[]\n",
    "    S.append(cell(0,0,0))\n",
    "    distances[0,0]=arr[0,0]\n",
    "\n",
    "    while S:\n",
    "\n",
    "        k=S.pop()\n",
    "        for x,y in [[k.x-1,k.y],[k.x+1,k.y],[k.x,k.y-1],[k.x,k.y+1]]:\n",
    "            if x<0 or y<0 or x>=C or y>=R:\n",
    "                continue\n",
    "                \n",
    "            if distances[y,x]> distances[k.y,k.x]+ arr[y,x]:\n",
    "                if distances[y,x]!=maxval:\n",
    "                    findcell=[kk for kk in S if kk.x==x and kk.y==y and kk.distance==distances[y,x]]\n",
    "                    if findcell:\n",
    "                        assert len(findcell)==1,(findcell,S,x,y)\n",
    "                        S.remove(findcell[0])\n",
    "                    \n",
    "                distances[y,x]=distances[k.y,k.x]+ arr[y,x]\n",
    "                S.append(cell(x,y,distances[y,x]))\n",
    "                \n",
    "    return distances[r-1,c-1]\n"
   ]
  },
  {
   "cell_type": "code",
   "execution_count": 30,
   "id": "2be32557-a208-4b11-9569-dd29da4a13cf",
   "metadata": {},
   "outputs": [
    {
     "data": {
      "text/plain": [
       "327"
      ]
     },
     "execution_count": 30,
     "metadata": {},
     "output_type": "execute_result"
    }
   ],
   "source": [
    "R,C=arr.shape\n",
    "shortest(arr,R,C)"
   ]
  },
  {
   "cell_type": "code",
   "execution_count": 31,
   "id": "c7be96c6-0eb7-49e1-88eb-f3a4b550426b",
   "metadata": {},
   "outputs": [
    {
     "data": {
      "text/plain": [
       "array([[1, 1, 6, 3, 7, 5, 1, 7, 4, 2],\n",
       "       [1, 3, 8, 1, 3, 7, 3, 6, 7, 2],\n",
       "       [2, 1, 3, 6, 5, 1, 1, 3, 2, 8],\n",
       "       [3, 6, 9, 4, 9, 3, 1, 5, 6, 9],\n",
       "       [7, 4, 6, 3, 4, 1, 7, 1, 1, 1],\n",
       "       [1, 3, 1, 9, 1, 2, 8, 1, 3, 7],\n",
       "       [1, 3, 5, 9, 9, 1, 2, 4, 2, 1],\n",
       "       [3, 1, 2, 5, 4, 2, 1, 6, 3, 9],\n",
       "       [1, 2, 9, 3, 1, 3, 8, 5, 2, 1],\n",
       "       [2, 3, 1, 1, 9, 4, 4, 5, 8, 1]])"
      ]
     },
     "execution_count": 31,
     "metadata": {},
     "output_type": "execute_result"
    }
   ],
   "source": [
    "text=\"\"\"\n",
    "1163751742\n",
    "1381373672\n",
    "2136511328\n",
    "3694931569\n",
    "7463417111\n",
    "1319128137\n",
    "1359912421\n",
    "3125421639\n",
    "1293138521\n",
    "2311944581\n",
    "\"\"\".strip()\n",
    "lines=text.strip().split('\\n')\n",
    "arr_str=[[int(_) for _ in line] for line in lines]\n",
    "arr=array(arr_str)\n",
    "arr"
   ]
  },
  {
   "cell_type": "code",
   "execution_count": 33,
   "id": "d995b1cb-c14c-4720-9a92-b21832452882",
   "metadata": {},
   "outputs": [
    {
     "data": {
      "text/plain": [
       "40"
      ]
     },
     "execution_count": 33,
     "metadata": {},
     "output_type": "execute_result"
    }
   ],
   "source": [
    "R,C=arr.shape\n",
    "shortest(arr,R,C)-arr[0,0]  # take off the start"
   ]
  },
  {
   "cell_type": "code",
   "execution_count": 35,
   "id": "eac0b129-8e82-4cd7-801b-b8ef0401e7b7",
   "metadata": {},
   "outputs": [
    {
     "data": {
      "text/plain": [
       "array([[3, 5, 7, ..., 1, 2, 8],\n",
       "       [1, 7, 1, ..., 6, 8, 8],\n",
       "       [2, 1, 5, ..., 5, 2, 2],\n",
       "       ...,\n",
       "       [6, 5, 1, ..., 5, 3, 4],\n",
       "       [3, 9, 9, ..., 7, 2, 1],\n",
       "       [5, 9, 9, ..., 4, 6, 2]])"
      ]
     },
     "execution_count": 35,
     "metadata": {},
     "output_type": "execute_result"
    }
   ],
   "source": [
    "with open('data/day15.txt') as fid:\n",
    "    text=fid.read()\n",
    "lines=text.strip().split('\\n')\n",
    "arr_str=[[int(_) for _ in line] for line in lines]\n",
    "arr=array(arr_str)\n",
    "arr    "
   ]
  },
  {
   "cell_type": "code",
   "execution_count": 36,
   "id": "defa5319-1d28-4aeb-8c8e-116ccb5f5417",
   "metadata": {},
   "outputs": [
    {
     "ename": "KeyboardInterrupt",
     "evalue": "",
     "output_type": "error",
     "traceback": [
      "\u001b[0;31m---------------------------------------------------------------------------\u001b[0m",
      "\u001b[0;31mKeyboardInterrupt\u001b[0m                         Traceback (most recent call last)",
      "\u001b[0;32m<ipython-input-36-bda74e79c2c5>\u001b[0m in \u001b[0;36m<module>\u001b[0;34m\u001b[0m\n\u001b[1;32m      1\u001b[0m \u001b[0mR\u001b[0m\u001b[0;34m,\u001b[0m\u001b[0mC\u001b[0m\u001b[0;34m=\u001b[0m\u001b[0marr\u001b[0m\u001b[0;34m.\u001b[0m\u001b[0mshape\u001b[0m\u001b[0;34m\u001b[0m\u001b[0;34m\u001b[0m\u001b[0m\n\u001b[0;32m----> 2\u001b[0;31m \u001b[0mshortest\u001b[0m\u001b[0;34m(\u001b[0m\u001b[0marr\u001b[0m\u001b[0;34m,\u001b[0m\u001b[0mR\u001b[0m\u001b[0;34m,\u001b[0m\u001b[0mC\u001b[0m\u001b[0;34m)\u001b[0m\u001b[0;34m-\u001b[0m\u001b[0marr\u001b[0m\u001b[0;34m[\u001b[0m\u001b[0;36m0\u001b[0m\u001b[0;34m,\u001b[0m\u001b[0;36m0\u001b[0m\u001b[0;34m]\u001b[0m  \u001b[0;31m# take off the start\u001b[0m\u001b[0;34m\u001b[0m\u001b[0;34m\u001b[0m\u001b[0m\n\u001b[0m",
      "\u001b[0;32m<ipython-input-29-2444a43d6b42>\u001b[0m in \u001b[0;36mshortest\u001b[0;34m(arr, r, c)\u001b[0m\n\u001b[1;32m     17\u001b[0m             \u001b[0;32mif\u001b[0m \u001b[0mdistances\u001b[0m\u001b[0;34m[\u001b[0m\u001b[0my\u001b[0m\u001b[0;34m,\u001b[0m\u001b[0mx\u001b[0m\u001b[0;34m]\u001b[0m\u001b[0;34m>\u001b[0m \u001b[0mdistances\u001b[0m\u001b[0;34m[\u001b[0m\u001b[0mk\u001b[0m\u001b[0;34m.\u001b[0m\u001b[0my\u001b[0m\u001b[0;34m,\u001b[0m\u001b[0mk\u001b[0m\u001b[0;34m.\u001b[0m\u001b[0mx\u001b[0m\u001b[0;34m]\u001b[0m\u001b[0;34m+\u001b[0m \u001b[0marr\u001b[0m\u001b[0;34m[\u001b[0m\u001b[0my\u001b[0m\u001b[0;34m,\u001b[0m\u001b[0mx\u001b[0m\u001b[0;34m]\u001b[0m\u001b[0;34m:\u001b[0m\u001b[0;34m\u001b[0m\u001b[0;34m\u001b[0m\u001b[0m\n\u001b[1;32m     18\u001b[0m                 \u001b[0;32mif\u001b[0m \u001b[0mdistances\u001b[0m\u001b[0;34m[\u001b[0m\u001b[0my\u001b[0m\u001b[0;34m,\u001b[0m\u001b[0mx\u001b[0m\u001b[0;34m]\u001b[0m\u001b[0;34m!=\u001b[0m\u001b[0mmaxval\u001b[0m\u001b[0;34m:\u001b[0m\u001b[0;34m\u001b[0m\u001b[0;34m\u001b[0m\u001b[0m\n\u001b[0;32m---> 19\u001b[0;31m                     \u001b[0mfindcell\u001b[0m\u001b[0;34m=\u001b[0m\u001b[0;34m[\u001b[0m\u001b[0mkk\u001b[0m \u001b[0;32mfor\u001b[0m \u001b[0mkk\u001b[0m \u001b[0;32min\u001b[0m \u001b[0mS\u001b[0m \u001b[0;32mif\u001b[0m \u001b[0mkk\u001b[0m\u001b[0;34m.\u001b[0m\u001b[0mx\u001b[0m\u001b[0;34m==\u001b[0m\u001b[0mx\u001b[0m \u001b[0;32mand\u001b[0m \u001b[0mkk\u001b[0m\u001b[0;34m.\u001b[0m\u001b[0my\u001b[0m\u001b[0;34m==\u001b[0m\u001b[0my\u001b[0m \u001b[0;32mand\u001b[0m \u001b[0mkk\u001b[0m\u001b[0;34m.\u001b[0m\u001b[0mdistance\u001b[0m\u001b[0;34m==\u001b[0m\u001b[0mdistances\u001b[0m\u001b[0;34m[\u001b[0m\u001b[0my\u001b[0m\u001b[0;34m,\u001b[0m\u001b[0mx\u001b[0m\u001b[0;34m]\u001b[0m\u001b[0;34m]\u001b[0m\u001b[0;34m\u001b[0m\u001b[0;34m\u001b[0m\u001b[0m\n\u001b[0m\u001b[1;32m     20\u001b[0m                     \u001b[0;32mif\u001b[0m \u001b[0mfindcell\u001b[0m\u001b[0;34m:\u001b[0m\u001b[0;34m\u001b[0m\u001b[0;34m\u001b[0m\u001b[0m\n\u001b[1;32m     21\u001b[0m                         \u001b[0;32massert\u001b[0m \u001b[0mlen\u001b[0m\u001b[0;34m(\u001b[0m\u001b[0mfindcell\u001b[0m\u001b[0;34m)\u001b[0m\u001b[0;34m==\u001b[0m\u001b[0;36m1\u001b[0m\u001b[0;34m,\u001b[0m\u001b[0;34m(\u001b[0m\u001b[0mfindcell\u001b[0m\u001b[0;34m,\u001b[0m\u001b[0mS\u001b[0m\u001b[0;34m,\u001b[0m\u001b[0mx\u001b[0m\u001b[0;34m,\u001b[0m\u001b[0my\u001b[0m\u001b[0;34m)\u001b[0m\u001b[0;34m\u001b[0m\u001b[0;34m\u001b[0m\u001b[0m\n",
      "\u001b[0;32m<ipython-input-29-2444a43d6b42>\u001b[0m in \u001b[0;36m<listcomp>\u001b[0;34m(.0)\u001b[0m\n\u001b[1;32m     17\u001b[0m             \u001b[0;32mif\u001b[0m \u001b[0mdistances\u001b[0m\u001b[0;34m[\u001b[0m\u001b[0my\u001b[0m\u001b[0;34m,\u001b[0m\u001b[0mx\u001b[0m\u001b[0;34m]\u001b[0m\u001b[0;34m>\u001b[0m \u001b[0mdistances\u001b[0m\u001b[0;34m[\u001b[0m\u001b[0mk\u001b[0m\u001b[0;34m.\u001b[0m\u001b[0my\u001b[0m\u001b[0;34m,\u001b[0m\u001b[0mk\u001b[0m\u001b[0;34m.\u001b[0m\u001b[0mx\u001b[0m\u001b[0;34m]\u001b[0m\u001b[0;34m+\u001b[0m \u001b[0marr\u001b[0m\u001b[0;34m[\u001b[0m\u001b[0my\u001b[0m\u001b[0;34m,\u001b[0m\u001b[0mx\u001b[0m\u001b[0;34m]\u001b[0m\u001b[0;34m:\u001b[0m\u001b[0;34m\u001b[0m\u001b[0;34m\u001b[0m\u001b[0m\n\u001b[1;32m     18\u001b[0m                 \u001b[0;32mif\u001b[0m \u001b[0mdistances\u001b[0m\u001b[0;34m[\u001b[0m\u001b[0my\u001b[0m\u001b[0;34m,\u001b[0m\u001b[0mx\u001b[0m\u001b[0;34m]\u001b[0m\u001b[0;34m!=\u001b[0m\u001b[0mmaxval\u001b[0m\u001b[0;34m:\u001b[0m\u001b[0;34m\u001b[0m\u001b[0;34m\u001b[0m\u001b[0m\n\u001b[0;32m---> 19\u001b[0;31m                     \u001b[0mfindcell\u001b[0m\u001b[0;34m=\u001b[0m\u001b[0;34m[\u001b[0m\u001b[0mkk\u001b[0m \u001b[0;32mfor\u001b[0m \u001b[0mkk\u001b[0m \u001b[0;32min\u001b[0m \u001b[0mS\u001b[0m \u001b[0;32mif\u001b[0m \u001b[0mkk\u001b[0m\u001b[0;34m.\u001b[0m\u001b[0mx\u001b[0m\u001b[0;34m==\u001b[0m\u001b[0mx\u001b[0m \u001b[0;32mand\u001b[0m \u001b[0mkk\u001b[0m\u001b[0;34m.\u001b[0m\u001b[0my\u001b[0m\u001b[0;34m==\u001b[0m\u001b[0my\u001b[0m \u001b[0;32mand\u001b[0m \u001b[0mkk\u001b[0m\u001b[0;34m.\u001b[0m\u001b[0mdistance\u001b[0m\u001b[0;34m==\u001b[0m\u001b[0mdistances\u001b[0m\u001b[0;34m[\u001b[0m\u001b[0my\u001b[0m\u001b[0;34m,\u001b[0m\u001b[0mx\u001b[0m\u001b[0;34m]\u001b[0m\u001b[0;34m]\u001b[0m\u001b[0;34m\u001b[0m\u001b[0;34m\u001b[0m\u001b[0m\n\u001b[0m\u001b[1;32m     20\u001b[0m                     \u001b[0;32mif\u001b[0m \u001b[0mfindcell\u001b[0m\u001b[0;34m:\u001b[0m\u001b[0;34m\u001b[0m\u001b[0;34m\u001b[0m\u001b[0m\n\u001b[1;32m     21\u001b[0m                         \u001b[0;32massert\u001b[0m \u001b[0mlen\u001b[0m\u001b[0;34m(\u001b[0m\u001b[0mfindcell\u001b[0m\u001b[0;34m)\u001b[0m\u001b[0;34m==\u001b[0m\u001b[0;36m1\u001b[0m\u001b[0;34m,\u001b[0m\u001b[0;34m(\u001b[0m\u001b[0mfindcell\u001b[0m\u001b[0;34m,\u001b[0m\u001b[0mS\u001b[0m\u001b[0;34m,\u001b[0m\u001b[0mx\u001b[0m\u001b[0;34m,\u001b[0m\u001b[0my\u001b[0m\u001b[0;34m)\u001b[0m\u001b[0;34m\u001b[0m\u001b[0;34m\u001b[0m\u001b[0m\n",
      "\u001b[0;31mKeyboardInterrupt\u001b[0m: "
     ]
    }
   ],
   "source": [
    "R,C=arr.shape\n",
    "shortest(arr,R,C)-arr[0,0]  # take off the start"
   ]
  },
  {
   "cell_type": "code",
   "execution_count": null,
   "id": "766a6607-84e1-4bd3-adcb-ffd5f778b0ac",
   "metadata": {},
   "outputs": [],
   "source": []
  }
 ],
 "metadata": {
  "kernelspec": {
   "display_name": "Python 3",
   "language": "python",
   "name": "python3"
  },
  "language_info": {
   "codemirror_mode": {
    "name": "ipython",
    "version": 3
   },
   "file_extension": ".py",
   "mimetype": "text/x-python",
   "name": "python",
   "nbconvert_exporter": "python",
   "pygments_lexer": "ipython3",
   "version": "3.8.10"
  }
 },
 "nbformat": 4,
 "nbformat_minor": 5
}
