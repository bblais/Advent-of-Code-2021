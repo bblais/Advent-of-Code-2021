{
 "cells": [
  {
   "cell_type": "code",
   "execution_count": 53,
   "id": "9536111c-e046-48f7-a9e2-95910a9c1c2c",
   "metadata": {},
   "outputs": [
    {
     "name": "stdout",
     "output_type": "stream",
     "text": [
      "Populating the interactive namespace from numpy and matplotlib\n"
     ]
    },
    {
     "name": "stderr",
     "output_type": "stream",
     "text": [
      "/Users/bblais/opt/anaconda3/envs/py3/lib/python3.8/site-packages/IPython/core/magics/pylab.py:159: UserWarning: pylab import has clobbered these variables: ['text']\n",
      "`%matplotlib` prevents importing * from pylab and numpy\n",
      "  warn(\"pylab import has clobbered these variables: %s\"  % clobbered +\n"
     ]
    }
   ],
   "source": [
    "%pylab inline"
   ]
  },
  {
   "cell_type": "code",
   "execution_count": 1,
   "id": "ebc90ac4-14af-4743-be0f-aa5d0e90b9e6",
   "metadata": {},
   "outputs": [],
   "source": [
    "D={}"
   ]
  },
  {
   "cell_type": "code",
   "execution_count": 58,
   "id": "5076fc8f-d6ee-467c-981e-066eecf49168",
   "metadata": {},
   "outputs": [],
   "source": [
    "text=\"\"\"\n",
    "start-A\n",
    "start-b\n",
    "A-c\n",
    "A-b\n",
    "b-d\n",
    "A-end\n",
    "b-end\n",
    "\"\"\""
   ]
  },
  {
   "cell_type": "code",
   "execution_count": 59,
   "id": "a319cbe4-80fa-4f97-af76-ac1af548ecfb",
   "metadata": {},
   "outputs": [],
   "source": [
    "lines=text.strip().split('\\n')"
   ]
  },
  {
   "cell_type": "code",
   "execution_count": 60,
   "id": "e3bb8f8c-5327-4620-a21c-26405922870e",
   "metadata": {},
   "outputs": [
    {
     "data": {
      "text/plain": [
       "{'start': ['A', 'b'],\n",
       " 'A': ['c', 'b', 'end'],\n",
       " 'c': ['A'],\n",
       " 'b': ['A', 'd', 'end'],\n",
       " 'd': ['b']}"
      ]
     },
     "execution_count": 60,
     "metadata": {},
     "output_type": "execute_result"
    }
   ],
   "source": [
    "D={}\n",
    "for line in lines:\n",
    "    parts=line.split('-')\n",
    "            \n",
    "    if not parts[0] in D:\n",
    "        D[parts[0]]=[]\n",
    "    D[parts[0]].append(parts[1])\n",
    "    if parts[0]!='start' and parts[1]!='end':\n",
    "        if not parts[1] in D:\n",
    "            D[parts[1]]=[]\n",
    "        D[parts[1]].append(parts[0])\n",
    "        \n",
    "D"
   ]
  },
  {
   "cell_type": "code",
   "execution_count": 41,
   "id": "3f8f3d15-8c31-436e-b431-37a8fc08d7d9",
   "metadata": {},
   "outputs": [],
   "source": [
    "\n",
    "def paths(path_so_far):\n",
    "    \n",
    "    next_nodes=D[path_so_far[-1]]\n",
    "    \n",
    "    saved_paths=[]\n",
    "    for node in next_nodes:\n",
    "        \n",
    "        if node==\"end\":\n",
    "            saved_paths.append(path_so_far+[node])\n",
    "            continue\n",
    "        \n",
    "        if node.lower()==node and node in path_so_far:  # already visited:\n",
    "            continue\n",
    "        \n",
    "        saved_paths.extend(paths(path_so_far+[node]))\n",
    "        \n",
    "        \n",
    "    return saved_paths\n",
    "                           \n",
    "                           \n",
    "        \n",
    "        \n",
    "            \n",
    "    \n",
    "    "
   ]
  },
  {
   "cell_type": "code",
   "execution_count": 42,
   "id": "1c2f9f90-2d8a-416e-ae15-37c912a8bb9c",
   "metadata": {},
   "outputs": [],
   "source": [
    "result=paths([\"start\"])"
   ]
  },
  {
   "cell_type": "code",
   "execution_count": 43,
   "id": "3e36ada9-b1cc-4cb2-8db0-7e1efec1710f",
   "metadata": {},
   "outputs": [
    {
     "data": {
      "text/plain": [
       "10"
      ]
     },
     "execution_count": 43,
     "metadata": {},
     "output_type": "execute_result"
    }
   ],
   "source": [
    "len(result)"
   ]
  },
  {
   "cell_type": "code",
   "execution_count": 44,
   "id": "595c680f-0d3f-415f-b977-8cf2c8370b96",
   "metadata": {},
   "outputs": [],
   "source": [
    "text=\"\"\"\n",
    "dc-end\n",
    "HN-start\n",
    "start-kj\n",
    "dc-start\n",
    "dc-HN\n",
    "LN-dc\n",
    "HN-end\n",
    "kj-sa\n",
    "kj-HN\n",
    "kj-dc\n",
    "\"\"\"\n",
    "lines=text.strip().split('\\n')"
   ]
  },
  {
   "cell_type": "code",
   "execution_count": 45,
   "id": "a48e86fa-62d8-4df1-b9fb-a0ccee913ee6",
   "metadata": {},
   "outputs": [
    {
     "data": {
      "text/plain": [
       "{'dc': ['end', 'start', 'HN', 'LN', 'kj'],\n",
       " 'HN': ['start', 'dc', 'end', 'kj'],\n",
       " 'start': ['HN', 'kj', 'dc'],\n",
       " 'LN': ['dc'],\n",
       " 'kj': ['sa', 'HN', 'dc'],\n",
       " 'sa': ['kj']}"
      ]
     },
     "execution_count": 45,
     "metadata": {},
     "output_type": "execute_result"
    }
   ],
   "source": [
    "D={}\n",
    "for line in lines:\n",
    "    parts=line.split('-')\n",
    "            \n",
    "    if not parts[0] in D:\n",
    "        D[parts[0]]=[]\n",
    "    D[parts[0]].append(parts[1])\n",
    "    if parts[0]!='start' and parts[1]!='end':\n",
    "        if not parts[1] in D:\n",
    "            D[parts[1]]=[]\n",
    "        D[parts[1]].append(parts[0])\n",
    "        \n",
    "D"
   ]
  },
  {
   "cell_type": "code",
   "execution_count": 46,
   "id": "bdba657b-7cb7-4f22-a6fe-0c9ea4e76570",
   "metadata": {},
   "outputs": [
    {
     "data": {
      "text/plain": [
       "19"
      ]
     },
     "execution_count": 46,
     "metadata": {},
     "output_type": "execute_result"
    }
   ],
   "source": [
    "result=paths([\"start\"])\n",
    "len(result)"
   ]
  },
  {
   "cell_type": "code",
   "execution_count": 47,
   "id": "782a62cf-cb50-4434-a8cd-8c1377da23cd",
   "metadata": {},
   "outputs": [],
   "source": [
    "text=\"\"\"\n",
    "KF-sr\n",
    "OO-vy\n",
    "start-FP\n",
    "FP-end\n",
    "vy-mi\n",
    "vy-KF\n",
    "vy-na\n",
    "start-sr\n",
    "FP-lh\n",
    "sr-FP\n",
    "na-FP\n",
    "end-KF\n",
    "na-mi\n",
    "lh-KF\n",
    "end-lh\n",
    "na-start\n",
    "wp-KF\n",
    "mi-KF\n",
    "vy-sr\n",
    "vy-lh\n",
    "sr-mi\n",
    "\"\"\""
   ]
  },
  {
   "cell_type": "code",
   "execution_count": 48,
   "id": "3b540658-cf40-4889-9133-ec0a84af7345",
   "metadata": {},
   "outputs": [
    {
     "data": {
      "text/plain": [
       "{'KF': ['sr', 'vy', 'end', 'lh', 'wp', 'mi'],\n",
       " 'sr': ['KF', 'FP', 'vy', 'mi'],\n",
       " 'OO': ['vy'],\n",
       " 'vy': ['OO', 'mi', 'KF', 'na', 'sr', 'lh'],\n",
       " 'start': ['FP', 'sr', 'na'],\n",
       " 'FP': ['end', 'lh', 'sr', 'na'],\n",
       " 'mi': ['vy', 'na', 'KF', 'sr'],\n",
       " 'na': ['vy', 'FP', 'mi', 'start'],\n",
       " 'lh': ['FP', 'KF', 'end', 'vy'],\n",
       " 'end': ['KF', 'lh'],\n",
       " 'wp': ['KF']}"
      ]
     },
     "execution_count": 48,
     "metadata": {},
     "output_type": "execute_result"
    }
   ],
   "source": [
    "lines=text.strip().split('\\n')\n",
    "D={}\n",
    "for line in lines:\n",
    "    parts=line.split('-')\n",
    "            \n",
    "    if not parts[0] in D:\n",
    "        D[parts[0]]=[]\n",
    "    D[parts[0]].append(parts[1])\n",
    "    if parts[0]!='start' and parts[1]!='end':\n",
    "        if not parts[1] in D:\n",
    "            D[parts[1]]=[]\n",
    "        D[parts[1]].append(parts[0])\n",
    "        \n",
    "D"
   ]
  },
  {
   "cell_type": "code",
   "execution_count": 49,
   "id": "ba70c801-6d22-4bae-8f0f-e8dcbfca0fcc",
   "metadata": {},
   "outputs": [
    {
     "data": {
      "text/plain": [
       "4885"
      ]
     },
     "execution_count": 49,
     "metadata": {},
     "output_type": "execute_result"
    }
   ],
   "source": [
    "result=paths([\"start\"])\n",
    "len(result)"
   ]
  },
  {
   "cell_type": "markdown",
   "id": "b27787d3-f360-4121-8456-dd86f403b006",
   "metadata": {},
   "source": [
    "## Part 2"
   ]
  },
  {
   "cell_type": "code",
   "execution_count": 76,
   "id": "3ef4f38f-0031-4a11-9976-3d6d8b2dbe6f",
   "metadata": {},
   "outputs": [],
   "source": [
    "text=\"\"\"\n",
    "start-A\n",
    "start-b\n",
    "A-c\n",
    "A-b\n",
    "b-d\n",
    "A-end\n",
    "b-end\n",
    "\"\"\""
   ]
  },
  {
   "cell_type": "code",
   "execution_count": 77,
   "id": "3985e477-cda1-4184-8fcd-35dbc0d19732",
   "metadata": {},
   "outputs": [
    {
     "data": {
      "text/plain": [
       "{'start': ['A', 'b'],\n",
       " 'A': ['c', 'b', 'end'],\n",
       " 'c': ['A'],\n",
       " 'b': ['A', 'd', 'end'],\n",
       " 'd': ['b']}"
      ]
     },
     "execution_count": 77,
     "metadata": {},
     "output_type": "execute_result"
    }
   ],
   "source": [
    "lines=text.strip().split('\\n')\n",
    "D={}\n",
    "for line in lines:\n",
    "    parts=line.split('-')\n",
    "            \n",
    "    if not parts[0] in D:\n",
    "        D[parts[0]]=[]\n",
    "    D[parts[0]].append(parts[1])\n",
    "    if parts[0]!='start' and parts[1]!='end':\n",
    "        if not parts[1] in D:\n",
    "            D[parts[1]]=[]\n",
    "        D[parts[1]].append(parts[0])\n",
    "        \n",
    "D"
   ]
  },
  {
   "cell_type": "code",
   "execution_count": 78,
   "id": "4d80efee-730d-4327-8f3b-744356fd165e",
   "metadata": {},
   "outputs": [],
   "source": [
    "\n",
    "def new_paths(path_so_far):\n",
    "    \n",
    "    next_nodes=D[path_so_far[-1]]\n",
    "    \n",
    "    saved_paths=[]\n",
    "    for node in next_nodes:\n",
    "        \n",
    "        if node==\"end\":\n",
    "            saved_paths.append(path_so_far+[node])\n",
    "            continue\n",
    "        \n",
    "        new_path=path_so_far+[node]\n",
    "        counts={}\n",
    "        for n in new_path:\n",
    "            if n.lower()==n:\n",
    "                counts[n]=new_path.count(n)\n",
    "\n",
    "        c=array([counts[_] for _ in counts])\n",
    "        if any(c>2):\n",
    "            continue\n",
    "        if (c==2).sum()>1:\n",
    "            continue\n",
    "                \n",
    "        \n",
    "        saved_paths.extend(new_paths(new_path))\n",
    "        \n",
    "        \n",
    "    return saved_paths\n",
    "                           \n",
    "                           \n",
    "        \n",
    "        \n",
    "            \n",
    "    \n",
    "    "
   ]
  },
  {
   "cell_type": "code",
   "execution_count": 79,
   "id": "d3e87fbf-e440-4329-9f3a-0113ea5668d8",
   "metadata": {},
   "outputs": [
    {
     "data": {
      "text/plain": [
       "36"
      ]
     },
     "execution_count": 79,
     "metadata": {},
     "output_type": "execute_result"
    }
   ],
   "source": [
    "result=new_paths([\"start\"])\n",
    "len(result)"
   ]
  },
  {
   "cell_type": "code",
   "execution_count": 80,
   "id": "7791fe9c-a836-4b67-aecd-9a5aebd8b1f1",
   "metadata": {},
   "outputs": [
    {
     "data": {
      "text/plain": [
       "[['start', 'A', 'c', 'A', 'c', 'A', 'b', 'A', 'end'],\n",
       " ['start', 'A', 'c', 'A', 'c', 'A', 'b', 'end'],\n",
       " ['start', 'A', 'c', 'A', 'c', 'A', 'end'],\n",
       " ['start', 'A', 'c', 'A', 'b', 'A', 'c', 'A', 'end'],\n",
       " ['start', 'A', 'c', 'A', 'b', 'A', 'b', 'A', 'end'],\n",
       " ['start', 'A', 'c', 'A', 'b', 'A', 'b', 'end'],\n",
       " ['start', 'A', 'c', 'A', 'b', 'A', 'end'],\n",
       " ['start', 'A', 'c', 'A', 'b', 'd', 'b', 'A', 'end'],\n",
       " ['start', 'A', 'c', 'A', 'b', 'd', 'b', 'end'],\n",
       " ['start', 'A', 'c', 'A', 'b', 'end'],\n",
       " ['start', 'A', 'c', 'A', 'end'],\n",
       " ['start', 'A', 'b', 'A', 'c', 'A', 'c', 'A', 'end'],\n",
       " ['start', 'A', 'b', 'A', 'c', 'A', 'b', 'A', 'end'],\n",
       " ['start', 'A', 'b', 'A', 'c', 'A', 'b', 'end'],\n",
       " ['start', 'A', 'b', 'A', 'c', 'A', 'end'],\n",
       " ['start', 'A', 'b', 'A', 'b', 'A', 'c', 'A', 'end'],\n",
       " ['start', 'A', 'b', 'A', 'b', 'A', 'end'],\n",
       " ['start', 'A', 'b', 'A', 'b', 'end'],\n",
       " ['start', 'A', 'b', 'A', 'end'],\n",
       " ['start', 'A', 'b', 'd', 'b', 'A', 'c', 'A', 'end'],\n",
       " ['start', 'A', 'b', 'd', 'b', 'A', 'end'],\n",
       " ['start', 'A', 'b', 'd', 'b', 'end'],\n",
       " ['start', 'A', 'b', 'end'],\n",
       " ['start', 'A', 'end'],\n",
       " ['start', 'b', 'A', 'c', 'A', 'c', 'A', 'end'],\n",
       " ['start', 'b', 'A', 'c', 'A', 'b', 'A', 'end'],\n",
       " ['start', 'b', 'A', 'c', 'A', 'b', 'end'],\n",
       " ['start', 'b', 'A', 'c', 'A', 'end'],\n",
       " ['start', 'b', 'A', 'b', 'A', 'c', 'A', 'end'],\n",
       " ['start', 'b', 'A', 'b', 'A', 'end'],\n",
       " ['start', 'b', 'A', 'b', 'end'],\n",
       " ['start', 'b', 'A', 'end'],\n",
       " ['start', 'b', 'd', 'b', 'A', 'c', 'A', 'end'],\n",
       " ['start', 'b', 'd', 'b', 'A', 'end'],\n",
       " ['start', 'b', 'd', 'b', 'end'],\n",
       " ['start', 'b', 'end']]"
      ]
     },
     "execution_count": 80,
     "metadata": {},
     "output_type": "execute_result"
    }
   ],
   "source": [
    "result"
   ]
  },
  {
   "cell_type": "code",
   "execution_count": 81,
   "id": "0c5faf8d-b8fa-4040-892d-a8604c9f0a2b",
   "metadata": {},
   "outputs": [],
   "source": [
    "text=\"\"\"\n",
    "KF-sr\n",
    "OO-vy\n",
    "start-FP\n",
    "FP-end\n",
    "vy-mi\n",
    "vy-KF\n",
    "vy-na\n",
    "start-sr\n",
    "FP-lh\n",
    "sr-FP\n",
    "na-FP\n",
    "end-KF\n",
    "na-mi\n",
    "lh-KF\n",
    "end-lh\n",
    "na-start\n",
    "wp-KF\n",
    "mi-KF\n",
    "vy-sr\n",
    "vy-lh\n",
    "sr-mi\n",
    "\"\"\""
   ]
  },
  {
   "cell_type": "code",
   "execution_count": 82,
   "id": "231c2da5-d6b4-473b-9434-ab43bd2bb8e6",
   "metadata": {},
   "outputs": [
    {
     "data": {
      "text/plain": [
       "{'KF': ['sr', 'vy', 'end', 'lh', 'wp', 'mi'],\n",
       " 'sr': ['KF', 'FP', 'vy', 'mi'],\n",
       " 'OO': ['vy'],\n",
       " 'vy': ['OO', 'mi', 'KF', 'na', 'sr', 'lh'],\n",
       " 'start': ['FP', 'sr', 'na'],\n",
       " 'FP': ['end', 'lh', 'sr', 'na'],\n",
       " 'mi': ['vy', 'na', 'KF', 'sr'],\n",
       " 'na': ['vy', 'FP', 'mi', 'start'],\n",
       " 'lh': ['FP', 'KF', 'end', 'vy'],\n",
       " 'end': ['KF', 'lh'],\n",
       " 'wp': ['KF']}"
      ]
     },
     "execution_count": 82,
     "metadata": {},
     "output_type": "execute_result"
    }
   ],
   "source": [
    "lines=text.strip().split('\\n')\n",
    "D={}\n",
    "for line in lines:\n",
    "    parts=line.split('-')\n",
    "            \n",
    "    if not parts[0] in D:\n",
    "        D[parts[0]]=[]\n",
    "    D[parts[0]].append(parts[1])\n",
    "    if parts[0]!='start' and parts[1]!='end':\n",
    "        if not parts[1] in D:\n",
    "            D[parts[1]]=[]\n",
    "        D[parts[1]].append(parts[0])\n",
    "        \n",
    "D"
   ]
  },
  {
   "cell_type": "code",
   "execution_count": 83,
   "id": "e5edf8ad-8b91-4ba2-b2d9-5b68e007ffc5",
   "metadata": {},
   "outputs": [
    {
     "data": {
      "text/plain": [
       "119716"
      ]
     },
     "execution_count": 83,
     "metadata": {},
     "output_type": "execute_result"
    }
   ],
   "source": [
    "result=new_paths([\"start\"])\n",
    "len(result)"
   ]
  },
  {
   "cell_type": "code",
   "execution_count": 84,
   "id": "116b53d5-a2f0-4d9b-b010-05505c546472",
   "metadata": {},
   "outputs": [
    {
     "data": {
      "text/plain": [
       "[['start', 'FP', 'end'],\n",
       " ['start', 'FP', 'lh', 'FP', 'end'],\n",
       " ['start', 'FP', 'lh', 'FP', 'lh', 'FP', 'end'],\n",
       " ['start',\n",
       "  'FP',\n",
       "  'lh',\n",
       "  'FP',\n",
       "  'lh',\n",
       "  'FP',\n",
       "  'sr',\n",
       "  'KF',\n",
       "  'vy',\n",
       "  'mi',\n",
       "  'na',\n",
       "  'FP',\n",
       "  'end'],\n",
       " ['start', 'FP', 'lh', 'FP', 'lh', 'FP', 'sr', 'KF', 'vy', 'mi', 'KF', 'end'],\n",
       " ['start',\n",
       "  'FP',\n",
       "  'lh',\n",
       "  'FP',\n",
       "  'lh',\n",
       "  'FP',\n",
       "  'sr',\n",
       "  'KF',\n",
       "  'vy',\n",
       "  'mi',\n",
       "  'KF',\n",
       "  'wp',\n",
       "  'KF',\n",
       "  'end'],\n",
       " ['start', 'FP', 'lh', 'FP', 'lh', 'FP', 'sr', 'KF', 'vy', 'KF', 'end'],\n",
       " ['start',\n",
       "  'FP',\n",
       "  'lh',\n",
       "  'FP',\n",
       "  'lh',\n",
       "  'FP',\n",
       "  'sr',\n",
       "  'KF',\n",
       "  'vy',\n",
       "  'KF',\n",
       "  'wp',\n",
       "  'KF',\n",
       "  'end'],\n",
       " ['start',\n",
       "  'FP',\n",
       "  'lh',\n",
       "  'FP',\n",
       "  'lh',\n",
       "  'FP',\n",
       "  'sr',\n",
       "  'KF',\n",
       "  'vy',\n",
       "  'KF',\n",
       "  'wp',\n",
       "  'KF',\n",
       "  'mi',\n",
       "  'na',\n",
       "  'FP',\n",
       "  'end'],\n",
       " ['start',\n",
       "  'FP',\n",
       "  'lh',\n",
       "  'FP',\n",
       "  'lh',\n",
       "  'FP',\n",
       "  'sr',\n",
       "  'KF',\n",
       "  'vy',\n",
       "  'KF',\n",
       "  'wp',\n",
       "  'KF',\n",
       "  'mi',\n",
       "  'KF',\n",
       "  'end']]"
      ]
     },
     "execution_count": 84,
     "metadata": {},
     "output_type": "execute_result"
    }
   ],
   "source": [
    "result[:10]"
   ]
  },
  {
   "cell_type": "markdown",
   "id": "6696fee9-1339-491d-97bb-4ecf1bef9882",
   "metadata": {},
   "source": [
    "## check if they are all valid"
   ]
  },
  {
   "cell_type": "code",
   "execution_count": 85,
   "id": "7855b4f3-872f-4bf5-aeb4-ab490c7c311c",
   "metadata": {},
   "outputs": [
    {
     "data": {
      "text/plain": [
       "{'KF': ['sr', 'vy', 'end', 'lh', 'wp', 'mi'],\n",
       " 'sr': ['KF', 'FP', 'vy', 'mi'],\n",
       " 'OO': ['vy'],\n",
       " 'vy': ['OO', 'mi', 'KF', 'na', 'sr', 'lh'],\n",
       " 'start': ['FP', 'sr', 'na'],\n",
       " 'FP': ['end', 'lh', 'sr', 'na'],\n",
       " 'mi': ['vy', 'na', 'KF', 'sr'],\n",
       " 'na': ['vy', 'FP', 'mi', 'start'],\n",
       " 'lh': ['FP', 'KF', 'end', 'vy'],\n",
       " 'end': ['KF', 'lh'],\n",
       " 'wp': ['KF']}"
      ]
     },
     "execution_count": 85,
     "metadata": {},
     "output_type": "execute_result"
    }
   ],
   "source": [
    "D"
   ]
  },
  {
   "cell_type": "code",
   "execution_count": 86,
   "id": "0b49ba29-ac61-4ebe-9213-7a1a5ec80cb6",
   "metadata": {},
   "outputs": [],
   "source": [
    "from tqdm import tqdm"
   ]
  },
  {
   "cell_type": "code",
   "execution_count": 88,
   "id": "3dd59549-09d8-4489-9325-c47777499fec",
   "metadata": {},
   "outputs": [
    {
     "name": "stderr",
     "output_type": "stream",
     "text": [
      "100%|██████████| 119716/119716 [00:00<00:00, 333414.10it/s]\n"
     ]
    }
   ],
   "source": [
    "for res in tqdm(result):\n",
    "    for node,next_node in zip(res[:-1],res[1:]):\n",
    "        if next_node not in D[node]:\n",
    "            raise ValueError\n",
    "        "
   ]
  },
  {
   "cell_type": "code",
   "execution_count": 91,
   "id": "8dcdb8d4-8651-4014-a9f9-6c2bf958cddd",
   "metadata": {},
   "outputs": [
    {
     "data": {
      "text/plain": [
       "['KF', 'sr', 'OO', 'vy', 'start', 'FP', 'mi', 'na', 'lh', 'end', 'wp']"
      ]
     },
     "execution_count": 91,
     "metadata": {},
     "output_type": "execute_result"
    }
   ],
   "source": [
    "keys=list(D.keys())\n",
    "keys"
   ]
  },
  {
   "cell_type": "code",
   "execution_count": 92,
   "id": "7f0a9434-76a7-44e3-b6f7-8b6f3affeaaf",
   "metadata": {},
   "outputs": [],
   "source": [
    "for key in D:\n",
    "    for c in D[key]:\n",
    "        if c not in keys:\n",
    "            raise ValueError"
   ]
  },
  {
   "cell_type": "code",
   "execution_count": 94,
   "id": "0b677b89-ae13-4038-ba9d-1908d2067713",
   "metadata": {},
   "outputs": [
    {
     "data": {
      "text/plain": [
       "['sr', 'vy', 'mi', 'na', 'lh', 'wp']"
      ]
     },
     "execution_count": 94,
     "metadata": {},
     "output_type": "execute_result"
    }
   ],
   "source": [
    "lower_keys=[k for k in keys if k.lower()==k]\n",
    "lower_keys.remove('start')\n",
    "lower_keys.remove('end')\n",
    "lower_keys"
   ]
  },
  {
   "cell_type": "code",
   "execution_count": 95,
   "id": "0268ca7e-0441-4cff-b4a7-cbe9d091dd02",
   "metadata": {},
   "outputs": [
    {
     "name": "stderr",
     "output_type": "stream",
     "text": [
      "  1%|          | 853/119716 [00:00<00:00, 792763.42it/s]\n"
     ]
    },
    {
     "ename": "AssertionError",
     "evalue": "",
     "output_type": "error",
     "traceback": [
      "\u001b[0;31m---------------------------------------------------------------------------\u001b[0m",
      "\u001b[0;31mAssertionError\u001b[0m                            Traceback (most recent call last)",
      "\u001b[0;32m<ipython-input-95-f43327ce138c>\u001b[0m in \u001b[0;36m<module>\u001b[0;34m\u001b[0m\n\u001b[1;32m      1\u001b[0m \u001b[0;32mfor\u001b[0m \u001b[0mres\u001b[0m \u001b[0;32min\u001b[0m \u001b[0mtqdm\u001b[0m\u001b[0;34m(\u001b[0m\u001b[0mresult\u001b[0m\u001b[0;34m)\u001b[0m\u001b[0;34m:\u001b[0m\u001b[0;34m\u001b[0m\u001b[0;34m\u001b[0m\u001b[0m\n\u001b[0;32m----> 2\u001b[0;31m     \u001b[0;32massert\u001b[0m \u001b[0mres\u001b[0m\u001b[0;34m.\u001b[0m\u001b[0mcount\u001b[0m\u001b[0;34m(\u001b[0m\u001b[0;34m\"start\"\u001b[0m\u001b[0;34m)\u001b[0m\u001b[0;34m==\u001b[0m\u001b[0;36m1\u001b[0m\u001b[0;34m\u001b[0m\u001b[0;34m\u001b[0m\u001b[0m\n\u001b[0m\u001b[1;32m      3\u001b[0m     \u001b[0;32massert\u001b[0m \u001b[0mres\u001b[0m\u001b[0;34m.\u001b[0m\u001b[0mcount\u001b[0m\u001b[0;34m(\u001b[0m\u001b[0;34m\"end\"\u001b[0m\u001b[0;34m)\u001b[0m\u001b[0;34m==\u001b[0m\u001b[0;36m1\u001b[0m\u001b[0;34m\u001b[0m\u001b[0;34m\u001b[0m\u001b[0m\n",
      "\u001b[0;31mAssertionError\u001b[0m: "
     ]
    }
   ],
   "source": [
    "for res in tqdm(result):\n",
    "    assert res.count(\"start\")==1\n",
    "    assert res.count(\"end\")==1"
   ]
  },
  {
   "cell_type": "code",
   "execution_count": 96,
   "id": "a683d3af-74b9-4e7d-94aa-9032a2a3474b",
   "metadata": {},
   "outputs": [
    {
     "data": {
      "text/plain": [
       "['start', 'FP', 'lh', 'FP', 'sr', 'KF', 'vy', 'mi', 'na', 'start', 'FP', 'end']"
      ]
     },
     "execution_count": 96,
     "metadata": {},
     "output_type": "execute_result"
    }
   ],
   "source": [
    "res"
   ]
  },
  {
   "cell_type": "markdown",
   "id": "76ff32cd-245f-4094-a2e0-71dee1b3e63e",
   "metadata": {},
   "source": [
    "## fix the duplicate start"
   ]
  },
  {
   "cell_type": "code",
   "execution_count": 97,
   "id": "a45b773b-c281-4b9c-b48c-12a82d8d6efe",
   "metadata": {},
   "outputs": [
    {
     "data": {
      "text/plain": [
       "{'KF': ['sr', 'vy', 'end', 'lh', 'wp', 'mi'],\n",
       " 'sr': ['KF', 'FP', 'vy', 'mi'],\n",
       " 'OO': ['vy'],\n",
       " 'vy': ['OO', 'mi', 'KF', 'na', 'sr', 'lh'],\n",
       " 'start': ['FP', 'sr', 'na'],\n",
       " 'FP': ['end', 'lh', 'sr', 'na'],\n",
       " 'mi': ['vy', 'na', 'KF', 'sr'],\n",
       " 'na': ['vy', 'FP', 'mi'],\n",
       " 'lh': ['FP', 'KF', 'end', 'vy'],\n",
       " 'end': ['KF', 'lh'],\n",
       " 'wp': ['KF']}"
      ]
     },
     "execution_count": 97,
     "metadata": {},
     "output_type": "execute_result"
    }
   ],
   "source": [
    "lines=text.strip().split('\\n')\n",
    "D={}\n",
    "for line in lines:\n",
    "    parts=line.split('-')\n",
    "            \n",
    "    if parts[1]==\"start\":\n",
    "        parts=parts[1],parts[0]  # swap it\n",
    "    if not parts[0] in D:\n",
    "        D[parts[0]]=[]\n",
    "    D[parts[0]].append(parts[1])\n",
    "    if parts[0]!='start' and parts[1]!='end':\n",
    "        if not parts[1] in D:\n",
    "            D[parts[1]]=[]\n",
    "        D[parts[1]].append(parts[0])\n",
    "        \n",
    "D"
   ]
  },
  {
   "cell_type": "code",
   "execution_count": 98,
   "id": "19db3b4f-a636-4ca5-8f38-1f2cced95c14",
   "metadata": {},
   "outputs": [
    {
     "data": {
      "text/plain": [
       "117095"
      ]
     },
     "execution_count": 98,
     "metadata": {},
     "output_type": "execute_result"
    }
   ],
   "source": [
    "result=new_paths([\"start\"])\n",
    "len(result)"
   ]
  },
  {
   "cell_type": "code",
   "execution_count": null,
   "id": "cb924bd9-50cc-4cad-8d8f-18111f7fec04",
   "metadata": {},
   "outputs": [],
   "source": []
  }
 ],
 "metadata": {
  "kernelspec": {
   "display_name": "Python 3",
   "language": "python",
   "name": "python3"
  },
  "language_info": {
   "codemirror_mode": {
    "name": "ipython",
    "version": 3
   },
   "file_extension": ".py",
   "mimetype": "text/x-python",
   "name": "python",
   "nbconvert_exporter": "python",
   "pygments_lexer": "ipython3",
   "version": "3.8.10"
  }
 },
 "nbformat": 4,
 "nbformat_minor": 5
}
