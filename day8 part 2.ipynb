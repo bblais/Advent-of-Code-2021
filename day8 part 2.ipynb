{
 "cells": [
  {
   "cell_type": "code",
   "execution_count": 1,
   "id": "3558f483-5de8-436e-b08f-5b4331f446c6",
   "metadata": {},
   "outputs": [],
   "source": [
    "text=\"\"\"be cfbegad cbdgef fgaecd cgeb fdcge agebfd fecdb fabcd edb |fdgacbe cefdb cefbgd gcbe\n",
    "edbfga begcd cbg gc gcadebf fbgde acbgfd abcde gfcbed gfec |fcgedb cgb dgebacf gc\n",
    "fgaebd cg bdaec gdafb agbcfd gdcbef bgcad gfac gcb cdgabef |cg cg fdcagb cbg\n",
    "fbegcd cbd adcefb dageb afcb bc aefdc ecdab fgdeca fcdbega |efabcd cedba gadfec cb\n",
    "aecbfdg fbg gf bafeg dbefa fcge gcbea fcaegb dgceab fcbdga |gecf egdcabf bgf bfgea\n",
    "fgeab ca afcebg bdacfeg cfaedg gcfdb baec bfadeg bafgc acf |gebdcfa ecba ca fadegcb\n",
    "dbcfg fgd bdegcaf fgec aegbdf ecdfab fbedc dacgb gdcebf gf |cefg dcbef fcge gbcadfe\n",
    "bdfegc cbegaf gecbf dfcage bdacg ed bedf ced adcbefg gebcd |ed bcgafe cdgba cbgef\n",
    "egadfb cdbfeg cegd fecab cgb gbdefca cg fgcdab egfdb bfceg |gbdfcae bgc cg cgb\n",
    "gcafb gcf dcaebfg ecagb gf abcdeg gaef cafbge fdbac fegbdc |fgae cfgab fg bagce\"\"\""
   ]
  },
  {
   "cell_type": "code",
   "execution_count": 7,
   "id": "67de05b2-bb1b-4069-a14b-7ce20df7b675",
   "metadata": {},
   "outputs": [],
   "source": [
    "def find_mapping(val):\n",
    "    from itertools import permutations\n",
    "    found=False\n",
    "    perm = permutations('abcdefg')\n",
    "    locs=['abcefg','cf','acdeg','acdfg','bcdf','abdfg','abdefg','acf','abcdefg','abcdfg']\n",
    "    for i,p in enumerate(perm):\n",
    "        mapping={a:b for a,b in zip('abcdefg',p)}\n",
    "        items=[]\n",
    "        for L in locs:\n",
    "            items.append(''.join(sorted([mapping[a] for a in L])))\n",
    "        items=set(items)\n",
    "\n",
    "        vals=[]\n",
    "        for L in val.split():\n",
    "            vals.append(''.join(sorted(L)))\n",
    "        vals=set(vals)\n",
    "\n",
    "        if vals==items:\n",
    "            found=True\n",
    "            break\n",
    "            \n",
    "    if not found:\n",
    "        raise ValueError(\"Not found!\")\n",
    "        \n",
    "    reverse_mapping={b:a for (a,b) in mapping.items()}\n",
    "        \n",
    "        \n",
    "    return mapping,reverse_mapping"
   ]
  },
  {
   "cell_type": "code",
   "execution_count": 8,
   "id": "eb79203e-2588-476b-8bba-2be51724d166",
   "metadata": {},
   "outputs": [],
   "source": [
    "def convert_number(S,reverse_mapping):\n",
    "    \n",
    "    Sp=S.split()\n",
    "    \n",
    "    result=[]\n",
    "    for S in Sp:\n",
    "\n",
    "        mapped=''.join(sorted([reverse_mapping[_] for _ in S]))\n",
    "        locs=['abcefg','cf','acdeg','acdfg','bcdf','abdfg','abdefg','acf','abcdefg','abcdfg']\n",
    "    \n",
    "        result.append(locs.index(mapped))\n",
    "        \n",
    "    return sum([r*10**p for r,p in zip(result,range(len(result)-1,-1,-1))])\n",
    "    "
   ]
  },
  {
   "cell_type": "code",
   "execution_count": 9,
   "id": "2f64307d-d5da-4d96-a780-01bdb0d6e115",
   "metadata": {},
   "outputs": [],
   "source": [
    "line=\"acedgfb cdfbe gcdfa fbcad dab cefabd cdfgeb eafb cagedb ab | cdfeb fcadb cdfeb cdbaf\"\n",
    "input_val=line.split(\"|\")[0].strip()\n",
    "output_val=line.split(\"|\")[1].strip()"
   ]
  },
  {
   "cell_type": "code",
   "execution_count": 11,
   "id": "f7e033aa-f490-4915-b53f-e089a1edbdb4",
   "metadata": {},
   "outputs": [
    {
     "data": {
      "text/plain": [
       "5353"
      ]
     },
     "execution_count": 11,
     "metadata": {},
     "output_type": "execute_result"
    }
   ],
   "source": [
    "mapping,reverse_mapping=find_mapping(input_val)\n",
    "convert_number(output_val,reverse_mapping)"
   ]
  },
  {
   "cell_type": "code",
   "execution_count": 17,
   "id": "f5667455-6dd4-4b92-aca8-8af8bf8960b3",
   "metadata": {},
   "outputs": [],
   "source": [
    "with open('data/day8.txt') as fid:\n",
    "    text=fid.read()"
   ]
  },
  {
   "cell_type": "code",
   "execution_count": 13,
   "id": "225e6cb3-28e5-4d0b-b960-2b8279487eac",
   "metadata": {},
   "outputs": [],
   "source": [
    "text=\"\"\"be cfbegad cbdgef fgaecd cgeb fdcge agebfd fecdb fabcd edb |fdgacbe cefdb cefbgd gcbe\n",
    "edbfga begcd cbg gc gcadebf fbgde acbgfd abcde gfcbed gfec |fcgedb cgb dgebacf gc\n",
    "fgaebd cg bdaec gdafb agbcfd gdcbef bgcad gfac gcb cdgabef |cg cg fdcagb cbg\n",
    "fbegcd cbd adcefb dageb afcb bc aefdc ecdab fgdeca fcdbega |efabcd cedba gadfec cb\n",
    "aecbfdg fbg gf bafeg dbefa fcge gcbea fcaegb dgceab fcbdga |gecf egdcabf bgf bfgea\n",
    "fgeab ca afcebg bdacfeg cfaedg gcfdb baec bfadeg bafgc acf |gebdcfa ecba ca fadegcb\n",
    "dbcfg fgd bdegcaf fgec aegbdf ecdfab fbedc dacgb gdcebf gf |cefg dcbef fcge gbcadfe\n",
    "bdfegc cbegaf gecbf dfcage bdacg ed bedf ced adcbefg gebcd |ed bcgafe cdgba cbgef\n",
    "egadfb cdbfeg cegd fecab cgb gbdefca cg fgcdab egfdb bfceg |gbdfcae bgc cg cgb\n",
    "gcafb gcf dcaebfg ecagb gf abcdeg gaef cafbge fdbac fegbdc |fgae cfgab fg bagce\"\"\""
   ]
  },
  {
   "cell_type": "code",
   "execution_count": 14,
   "id": "e795d0dc-6919-434e-a562-138d34f4fae4",
   "metadata": {},
   "outputs": [],
   "source": [
    "vals=[]\n",
    "for line in text.split('\\n'):\n",
    "    input_val=line.split(\"|\")[0].strip()\n",
    "    output_val=line.split(\"|\")[1].strip()    \n",
    "    mapping,reverse_mapping=find_mapping(input_val)\n",
    "    vals.append(convert_number(output_val,reverse_mapping))\n",
    "    \n",
    "    "
   ]
  },
  {
   "cell_type": "code",
   "execution_count": 15,
   "id": "6a7197bf-9b50-4949-be0d-8859aafbea42",
   "metadata": {},
   "outputs": [
    {
     "data": {
      "text/plain": [
       "[8394, 9781, 1197, 9361, 4873, 8418, 4548, 1625, 8717, 4315]"
      ]
     },
     "execution_count": 15,
     "metadata": {},
     "output_type": "execute_result"
    }
   ],
   "source": [
    "vals"
   ]
  },
  {
   "cell_type": "code",
   "execution_count": 16,
   "id": "77938259-c4ce-4660-9dca-d18f677c1f06",
   "metadata": {},
   "outputs": [
    {
     "data": {
      "text/plain": [
       "61229"
      ]
     },
     "execution_count": 16,
     "metadata": {},
     "output_type": "execute_result"
    }
   ],
   "source": [
    "sum(vals)"
   ]
  },
  {
   "cell_type": "code",
   "execution_count": 18,
   "id": "06e0a404-c592-460c-8190-d446b2c7b0d0",
   "metadata": {},
   "outputs": [],
   "source": [
    "with open('data/day8.txt') as fid:\n",
    "    text=fid.read()"
   ]
  },
  {
   "cell_type": "code",
   "execution_count": 20,
   "id": "08d6a7d5-3978-4994-beaa-514e81484469",
   "metadata": {},
   "outputs": [],
   "source": [
    "from tqdm import tqdm"
   ]
  },
  {
   "cell_type": "code",
   "execution_count": 23,
   "id": "e9a19189-3faf-423b-a5e8-0afdff53086e",
   "metadata": {},
   "outputs": [
    {
     "name": "stderr",
     "output_type": "stream",
     "text": [
      "100%|██████████| 200/200 [00:07<00:00, 26.52it/s]"
     ]
    },
    {
     "name": "stdout",
     "output_type": "stream",
     "text": [
      "1010460\n"
     ]
    },
    {
     "name": "stderr",
     "output_type": "stream",
     "text": [
      "\n"
     ]
    }
   ],
   "source": [
    "vals=[]\n",
    "for line in tqdm(text.strip().split('\\n')):\n",
    "    input_val=line.split(\"|\")[0].strip()\n",
    "    output_val=line.split(\"|\")[1].strip()    \n",
    "    mapping,reverse_mapping=find_mapping(input_val)\n",
    "    vals.append(convert_number(output_val,reverse_mapping))\n",
    "    \n",
    "print(sum(vals))"
   ]
  },
  {
   "cell_type": "code",
   "execution_count": 22,
   "id": "28228446-84f8-4d9f-ab35-7fc1ee101dc0",
   "metadata": {},
   "outputs": [
    {
     "data": {
      "text/plain": [
       "''"
      ]
     },
     "execution_count": 22,
     "metadata": {},
     "output_type": "execute_result"
    }
   ],
   "source": [
    "line"
   ]
  },
  {
   "cell_type": "code",
   "execution_count": null,
   "id": "6be8657e-8b15-4c9f-86d5-da41e2faa2af",
   "metadata": {},
   "outputs": [],
   "source": []
  }
 ],
 "metadata": {
  "kernelspec": {
   "display_name": "Python 3",
   "language": "python",
   "name": "python3"
  },
  "language_info": {
   "codemirror_mode": {
    "name": "ipython",
    "version": 3
   },
   "file_extension": ".py",
   "mimetype": "text/x-python",
   "name": "python",
   "nbconvert_exporter": "python",
   "pygments_lexer": "ipython3",
   "version": "3.8.10"
  }
 },
 "nbformat": 4,
 "nbformat_minor": 5
}
