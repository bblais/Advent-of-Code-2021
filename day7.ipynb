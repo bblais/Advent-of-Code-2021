{
 "cells": [
  {
   "cell_type": "code",
   "execution_count": 1,
   "id": "5629d882-ac49-4757-a1bc-63148fd82f4b",
   "metadata": {},
   "outputs": [
    {
     "name": "stdout",
     "output_type": "stream",
     "text": [
      "Populating the interactive namespace from numpy and matplotlib\n"
     ]
    }
   ],
   "source": [
    "%pylab inline"
   ]
  },
  {
   "cell_type": "code",
   "execution_count": 11,
   "id": "e4877223-34b4-4b00-b57b-626825720336",
   "metadata": {},
   "outputs": [
    {
     "name": "stdout",
     "output_type": "stream",
     "text": [
      "1101,1,29,67,1102,0,1,65,1008,65,35,66,1005,66,28,1,67,65,20,4,0,1001,65,1,65,1106,0,8,99,35,67,101,99,105,32,110,39,101,115,116,32,112,97,115,32,117,110,101,32,105,110,116,99,111,100,101,32,112,114,111,103,114,97,109,10,867,253,111,269,117,150,421,508,1073,136,247,10,1427,802,2,492,1302,228,2,48,113,0,741,34,107,559,514,283,372,78,423,405,1303,360,281,1850,367,892,1021,930,318,80,709,349,32,203,94,1359,456,783,62,34,1487,245,294,749,250,1441,8,1388,604,324,483,696,119,294,1478,529,189,454,785,703,13,1099,790,402,251,919,116,318,201,893,571,3,45,756,41,65,92,21,1903,219,32,191,1037,177,480,232,389,1342,1178,1320,955,1020,655,276,203,221,316,689,621,270,911,537,230,327,662,552,410,1608,385,7,26,227,71,1646,257,725,531,413,8,19,1029,182,1518,270,124,113,569,468,126,505,376,367,113,425,4,80,1883,433,1167,768,231,393,528,69,422,17,350,858,1028,659,972,108,542,602,1577,11,1481,127,466,415,567,1178,38,137,777,446,965,832,1347,642,716,176,264,487,32,425,354,104,230,756,310,711,228,580,520,677,781,45,926,1063,126,235,262,199,330,874,1570,221,107,803,810,1723,266,99,940,21,38,1680,44,32,17,907,403,413,628,968,138,12,24,483,114,658,206,24,61,561,882,532,1280,255,805,75,237,321,310,1022,545,1515,609,65,791,933,233,846,506,704,628,516,868,726,134,6,243,1048,227,259,1599,117,114,461,365,63,1559,62,98,884,11,426,915,192,901,4,1481,122,424,307,250,256,693,162,1217,834,516,644,898,396,1073,642,480,361,1434,607,23,818,515,6,288,443,324,4,1559,659,409,415,82,41,1233,657,93,1405,17,94,18,379,32,8,419,1511,766,234,818,916,775,4,1009,282,372,317,371,945,1314,261,485,529,1076,298,223,40,434,401,117,1030,153,2,19,27,41,544,477,1117,588,206,155,12,1197,1518,305,51,921,775,296,1187,57,517,2,36,145,92,67,68,559,771,1,69,250,612,94,1638,1327,501,434,114,6,1468,429,28,1163,207,576,50,1759,216,9,50,432,598,664,1087,409,828,1115,169,120,318,21,1245,314,338,47,469,231,236,892,671,373,991,1136,488,341,168,143,850,1135,42,449,666,814,16,232,505,122,1316,803,1093,977,79,5,936,512,217,942,1333,13,13,1861,2,267,74,1096,1058,107,461,78,418,861,547,25,1398,255,562,344,820,1171,1376,494,17,116,1333,256,20,1425,1668,79,604,1614,223,45,18,917,30,965,866,1331,91,141,1120,829,3,0,498,57,78,1579,467,185,1399,683,590,11,913,33,540,536,459,367,175,176,946,130,324,634,671,554,277,570,968,409,468,419,1249,1039,45,238,4,808,1022,10,151,1158,32,38,1054,969,90,70,1194,1582,512,876,289,1042,91,1872,305,996,349,17,517,968,1493,637,142,141,226,590,181,811,608,4,135,97,389,385,929,1143,1319,684,509,437,133,843,101,118,71,120,80,25,33,259,894,1050,1450,583,1665,372,128,586,282,1147,1160,1643,1488,339,445,268,1577,101,8,308,719,210,288,332,1034,47,1303,31,59,16,270,104,68,1107,736,420,108,367,461,791,279,863,645,2,999,453,682,21,764,244,435,1238,36,1193,37,346,35,70,114,78,67,1245,15,1002,83,450,353,50,396,1068,26,21,429,551,13,498,117,731,601,23,1218,271,26,958,852,139,331,92,560,218,1243,410,109,296,35,588,6,645,87,64,188,497,28,693,18,88,196,62,7,33,311,1102,187,829,664,630,331,304,1249,21,309,1238,64,155,38,134,291,77,90,32,765,332,87,257,755,93,181,174,118,584,98,825,292,428,187,731,813,784,1222,117,345,1380,31,1447,269,672,747,1112,147,32,690,1258,253,763,92,1427,503,4,40,289,41,733,240,884,201,136,594,560,3,1083,1282,686,918,667,1535,702,158,65,1055,100,481,457,1565,1067,641,289,18,1537,62,545,401,1238,528,713,1042,430,144,390,220,953,42,817,18,26,137,1870,999,557,234,586,1316,87,104,369,39,215,595,922,1194,187,1056,382,397,387,872,191,464,1841,883,162,119,38,916,2,676,1524,315,1217,63,382,328,591,372,138,883,733,910,635,1059,87,773,630,1179,169,947,401,20,820,119,575,1117,48,268,45,896,772,293,217,73,732,26,528,1121,382,813,419,424,221,107,145,264,526,589,482,51,1399,954,292,276,248,1276,218,1005,296,360,60,5,499,661,192,199,250,1001,496,281,361,664,248,1090,86,203,241,61,329,1551,182,790,787,408,442,603,681,522,478,1072,527,1094,104,1267,418,730,217,1198,859\n",
      "\n"
     ]
    },
    {
     "data": {
      "text/plain": [
       "array([1101,    1,   29,   67, 1102,    0,    1,   65, 1008,   65,   35,\n",
       "         66, 1005,   66,   28,    1,   67,   65,   20,    4,    0, 1001,\n",
       "         65,    1,   65, 1106,    0,    8,   99,   35,   67,  101,   99,\n",
       "        105,   32,  110,   39,  101,  115,  116,   32,  112,   97,  115,\n",
       "         32,  117,  110,  101,   32,  105,  110,  116,   99,  111,  100,\n",
       "        101,   32,  112,  114,  111,  103,  114,   97,  109,   10,  867,\n",
       "        253,  111,  269,  117,  150,  421,  508, 1073,  136,  247,   10,\n",
       "       1427,  802,    2,  492, 1302,  228,    2,   48,  113,    0,  741,\n",
       "         34,  107,  559,  514,  283,  372,   78,  423,  405, 1303,  360,\n",
       "        281, 1850,  367,  892, 1021,  930,  318,   80,  709,  349,   32,\n",
       "        203,   94, 1359,  456,  783,   62,   34, 1487,  245,  294,  749,\n",
       "        250, 1441,    8, 1388,  604,  324,  483,  696,  119,  294, 1478,\n",
       "        529,  189,  454,  785,  703,   13, 1099,  790,  402,  251,  919,\n",
       "        116,  318,  201,  893,  571,    3,   45,  756,   41,   65,   92,\n",
       "         21, 1903,  219,   32,  191, 1037,  177,  480,  232,  389, 1342,\n",
       "       1178, 1320,  955, 1020,  655,  276,  203,  221,  316,  689,  621,\n",
       "        270,  911,  537,  230,  327,  662,  552,  410, 1608,  385,    7,\n",
       "         26,  227,   71, 1646,  257,  725,  531,  413,    8,   19, 1029,\n",
       "        182, 1518,  270,  124,  113,  569,  468,  126,  505,  376,  367,\n",
       "        113,  425,    4,   80, 1883,  433, 1167,  768,  231,  393,  528,\n",
       "         69,  422,   17,  350,  858, 1028,  659,  972,  108,  542,  602,\n",
       "       1577,   11, 1481,  127,  466,  415,  567, 1178,   38,  137,  777,\n",
       "        446,  965,  832, 1347,  642,  716,  176,  264,  487,   32,  425,\n",
       "        354,  104,  230,  756,  310,  711,  228,  580,  520,  677,  781,\n",
       "         45,  926, 1063,  126,  235,  262,  199,  330,  874, 1570,  221,\n",
       "        107,  803,  810, 1723,  266,   99,  940,   21,   38, 1680,   44,\n",
       "         32,   17,  907,  403,  413,  628,  968,  138,   12,   24,  483,\n",
       "        114,  658,  206,   24,   61,  561,  882,  532, 1280,  255,  805,\n",
       "         75,  237,  321,  310, 1022,  545, 1515,  609,   65,  791,  933,\n",
       "        233,  846,  506,  704,  628,  516,  868,  726,  134,    6,  243,\n",
       "       1048,  227,  259, 1599,  117,  114,  461,  365,   63, 1559,   62,\n",
       "         98,  884,   11,  426,  915,  192,  901,    4, 1481,  122,  424,\n",
       "        307,  250,  256,  693,  162, 1217,  834,  516,  644,  898,  396,\n",
       "       1073,  642,  480,  361, 1434,  607,   23,  818,  515,    6,  288,\n",
       "        443,  324,    4, 1559,  659,  409,  415,   82,   41, 1233,  657,\n",
       "         93, 1405,   17,   94,   18,  379,   32,    8,  419, 1511,  766,\n",
       "        234,  818,  916,  775,    4, 1009,  282,  372,  317,  371,  945,\n",
       "       1314,  261,  485,  529, 1076,  298,  223,   40,  434,  401,  117,\n",
       "       1030,  153,    2,   19,   27,   41,  544,  477, 1117,  588,  206,\n",
       "        155,   12, 1197, 1518,  305,   51,  921,  775,  296, 1187,   57,\n",
       "        517,    2,   36,  145,   92,   67,   68,  559,  771,    1,   69,\n",
       "        250,  612,   94, 1638, 1327,  501,  434,  114,    6, 1468,  429,\n",
       "         28, 1163,  207,  576,   50, 1759,  216,    9,   50,  432,  598,\n",
       "        664, 1087,  409,  828, 1115,  169,  120,  318,   21, 1245,  314,\n",
       "        338,   47,  469,  231,  236,  892,  671,  373,  991, 1136,  488,\n",
       "        341,  168,  143,  850, 1135,   42,  449,  666,  814,   16,  232,\n",
       "        505,  122, 1316,  803, 1093,  977,   79,    5,  936,  512,  217,\n",
       "        942, 1333,   13,   13, 1861,    2,  267,   74, 1096, 1058,  107,\n",
       "        461,   78,  418,  861,  547,   25, 1398,  255,  562,  344,  820,\n",
       "       1171, 1376,  494,   17,  116, 1333,  256,   20, 1425, 1668,   79,\n",
       "        604, 1614,  223,   45,   18,  917,   30,  965,  866, 1331,   91,\n",
       "        141, 1120,  829,    3,    0,  498,   57,   78, 1579,  467,  185,\n",
       "       1399,  683,  590,   11,  913,   33,  540,  536,  459,  367,  175,\n",
       "        176,  946,  130,  324,  634,  671,  554,  277,  570,  968,  409,\n",
       "        468,  419, 1249, 1039,   45,  238,    4,  808, 1022,   10,  151,\n",
       "       1158,   32,   38, 1054,  969,   90,   70, 1194, 1582,  512,  876,\n",
       "        289, 1042,   91, 1872,  305,  996,  349,   17,  517,  968, 1493,\n",
       "        637,  142,  141,  226,  590,  181,  811,  608,    4,  135,   97,\n",
       "        389,  385,  929, 1143, 1319,  684,  509,  437,  133,  843,  101,\n",
       "        118,   71,  120,   80,   25,   33,  259,  894, 1050, 1450,  583,\n",
       "       1665,  372,  128,  586,  282, 1147, 1160, 1643, 1488,  339,  445,\n",
       "        268, 1577,  101,    8,  308,  719,  210,  288,  332, 1034,   47,\n",
       "       1303,   31,   59,   16,  270,  104,   68, 1107,  736,  420,  108,\n",
       "        367,  461,  791,  279,  863,  645,    2,  999,  453,  682,   21,\n",
       "        764,  244,  435, 1238,   36, 1193,   37,  346,   35,   70,  114,\n",
       "         78,   67, 1245,   15, 1002,   83,  450,  353,   50,  396, 1068,\n",
       "         26,   21,  429,  551,   13,  498,  117,  731,  601,   23, 1218,\n",
       "        271,   26,  958,  852,  139,  331,   92,  560,  218, 1243,  410,\n",
       "        109,  296,   35,  588,    6,  645,   87,   64,  188,  497,   28,\n",
       "        693,   18,   88,  196,   62,    7,   33,  311, 1102,  187,  829,\n",
       "        664,  630,  331,  304, 1249,   21,  309, 1238,   64,  155,   38,\n",
       "        134,  291,   77,   90,   32,  765,  332,   87,  257,  755,   93,\n",
       "        181,  174,  118,  584,   98,  825,  292,  428,  187,  731,  813,\n",
       "        784, 1222,  117,  345, 1380,   31, 1447,  269,  672,  747, 1112,\n",
       "        147,   32,  690, 1258,  253,  763,   92, 1427,  503,    4,   40,\n",
       "        289,   41,  733,  240,  884,  201,  136,  594,  560,    3, 1083,\n",
       "       1282,  686,  918,  667, 1535,  702,  158,   65, 1055,  100,  481,\n",
       "        457, 1565, 1067,  641,  289,   18, 1537,   62,  545,  401, 1238,\n",
       "        528,  713, 1042,  430,  144,  390,  220,  953,   42,  817,   18,\n",
       "         26,  137, 1870,  999,  557,  234,  586, 1316,   87,  104,  369,\n",
       "         39,  215,  595,  922, 1194,  187, 1056,  382,  397,  387,  872,\n",
       "        191,  464, 1841,  883,  162,  119,   38,  916,    2,  676, 1524,\n",
       "        315, 1217,   63,  382,  328,  591,  372,  138,  883,  733,  910,\n",
       "        635, 1059,   87,  773,  630, 1179,  169,  947,  401,   20,  820,\n",
       "        119,  575, 1117,   48,  268,   45,  896,  772,  293,  217,   73,\n",
       "        732,   26,  528, 1121,  382,  813,  419,  424,  221,  107,  145,\n",
       "        264,  526,  589,  482,   51, 1399,  954,  292,  276,  248, 1276,\n",
       "        218, 1005,  296,  360,   60,    5,  499,  661,  192,  199,  250,\n",
       "       1001,  496,  281,  361,  664,  248, 1090,   86,  203,  241,   61,\n",
       "        329, 1551,  182,  790,  787,  408,  442,  603,  681,  522,  478,\n",
       "       1072,  527, 1094,  104, 1267,  418,  730,  217, 1198,  859])"
      ]
     },
     "execution_count": 11,
     "metadata": {},
     "output_type": "execute_result"
    }
   ],
   "source": [
    "text=open('data/day7.txt').read()\n",
    "a=array([int(_) for _ in text.split(',')])\n",
    "print(text)\n",
    "a"
   ]
  },
  {
   "cell_type": "code",
   "execution_count": 12,
   "id": "08442c90-0d4b-468a-b7d9-5d9716eed11f",
   "metadata": {},
   "outputs": [
    {
     "data": {
      "text/plain": [
       "array([16,  1,  2,  0,  4,  2,  7,  1,  2, 14])"
      ]
     },
     "execution_count": 12,
     "metadata": {},
     "output_type": "execute_result"
    }
   ],
   "source": [
    "a=array([16,1,2,0,4,2,7,1,2,14])\n",
    "a"
   ]
  },
  {
   "cell_type": "code",
   "execution_count": 13,
   "id": "f4fdfe8f-e917-4192-b862-ab386cc257ca",
   "metadata": {},
   "outputs": [
    {
     "data": {
      "text/plain": [
       "([49,\n",
       "  41,\n",
       "  37,\n",
       "  39,\n",
       "  41,\n",
       "  45,\n",
       "  49,\n",
       "  53,\n",
       "  59,\n",
       "  65,\n",
       "  71,\n",
       "  77,\n",
       "  83,\n",
       "  89,\n",
       "  95,\n",
       "  103,\n",
       "  111,\n",
       "  121,\n",
       "  131,\n",
       "  141],\n",
       " 2)"
      ]
     },
     "execution_count": 13,
     "metadata": {},
     "output_type": "execute_result"
    },
    {
     "data": {
      "image/png": "[encoded data removed]",
      "text/plain": [
       "<Figure size 432x288 with 1 Axes>"
      ]
     },
     "metadata": {
      "needs_background": "light"
     },
     "output_type": "display_data"
    }
   ],
   "source": [
    "a=array([16,1,2,0,4,2,7,1,2,14])\n",
    "fuel=[]\n",
    "for x in range(20):\n",
    "    fuel.append(abs(x-a).sum())\n",
    "    \n",
    "plot(fuel,'-o')\n",
    "fuel,argmin(fuel)"
   ]
  },
  {
   "cell_type": "code",
   "execution_count": 16,
   "id": "abfedcd0-8d4f-41b9-9d10-5d1c5191291d",
   "metadata": {},
   "outputs": [
    {
     "data": {
      "text/plain": [
       "(367, 356179)"
      ]
     },
     "execution_count": 16,
     "metadata": {},
     "output_type": "execute_result"
    },
    {
     "data": {
      "image/png": "[encoded data removed]",
      "text/plain": [
       "<Figure size 432x288 with 1 Axes>"
      ]
     },
     "metadata": {
      "needs_background": "light"
     },
     "output_type": "display_data"
    }
   ],
   "source": [
    "a=array([int(_) for _ in text.split(',')])\n",
    "fuel=[]\n",
    "for x in range(2000):\n",
    "    fuel.append(abs(x-a).sum())\n",
    "    \n",
    "plot(fuel,'-o')\n",
    "argmin(fuel),min(fuel)"
   ]
  },
  {
   "cell_type": "markdown",
   "id": "6e2f6cbf-7236-49b5-917b-d724c54d765b",
   "metadata": {},
   "source": [
    "    1 step in horizontal position costs 1 more unit of fuel than the last: the first step costs 1, the second step costs 2, the third step costs 3, and so on."
   ]
  },
  {
   "cell_type": "code",
   "execution_count": 19,
   "id": "c328e417-125d-46b5-bbe8-32fc616d660f",
   "metadata": {},
   "outputs": [
    {
     "data": {
      "text/plain": [
       "55"
      ]
     },
     "execution_count": 19,
     "metadata": {},
     "output_type": "execute_result"
    }
   ],
   "source": [
    "N=10\n",
    "(1+N)*N//2"
   ]
  },
  {
   "cell_type": "code",
   "execution_count": 22,
   "id": "0da64123-6814-4da2-83ce-f434a813eafe",
   "metadata": {},
   "outputs": [
    {
     "data": {
      "text/plain": [
       "55"
      ]
     },
     "execution_count": 22,
     "metadata": {},
     "output_type": "execute_result"
    }
   ],
   "source": [
    "sum(range(1,10+1))"
   ]
  },
  {
   "cell_type": "code",
   "execution_count": null,
   "id": "f7568b6b-708b-4af1-abbb-ece1a0986280",
   "metadata": {},
   "outputs": [],
   "source": [
    "a=array([16,1,2,0,4,2,7,1,2,14])\n",
    "x=5\n",
    "N=abs(x-a)\n",
    "F=(1+N)*N//2"
   ]
  },
  {
   "cell_type": "code",
   "execution_count": 23,
   "id": "b8a46092-3d21-4eba-9c57-9aff8735b66e",
   "metadata": {},
   "outputs": [
    {
     "data": {
      "text/plain": [
       "([290,\n",
       "  242,\n",
       "  206,\n",
       "  183,\n",
       "  170,\n",
       "  168,\n",
       "  176,\n",
       "  194,\n",
       "  223,\n",
       "  262,\n",
       "  311,\n",
       "  370,\n",
       "  439,\n",
       "  518,\n",
       "  607,\n",
       "  707,\n",
       "  817,\n",
       "  938,\n",
       "  1069,\n",
       "  1210],\n",
       " 5)"
      ]
     },
     "execution_count": 23,
     "metadata": {},
     "output_type": "execute_result"
    },
    {
     "data": {
      "image/png": "[encoded data removed]",
      "text/plain": [
       "<Figure size 432x288 with 1 Axes>"
      ]
     },
     "metadata": {
      "needs_background": "light"
     },
     "output_type": "display_data"
    }
   ],
   "source": [
    "a=array([16,1,2,0,4,2,7,1,2,14])\n",
    "fuel=[]\n",
    "for x in range(20):\n",
    "    N=abs(x-a)\n",
    "    F=(1+N)*N//2\n",
    "    \n",
    "    \n",
    "    fuel.append(F.sum())\n",
    "    \n",
    "plot(fuel,'-o')\n",
    "fuel,argmin(fuel)"
   ]
  },
  {
   "cell_type": "code",
   "execution_count": 24,
   "id": "b8a538a1-618e-4cf2-a77f-289fd699d532",
   "metadata": {},
   "outputs": [
    {
     "data": {
      "text/plain": [
       "(489, 99788435)"
      ]
     },
     "execution_count": 24,
     "metadata": {},
     "output_type": "execute_result"
    },
    {
     "data": {
      "image/png": "[encoded data removed]",
      "text/plain": [
       "<Figure size 432x288 with 1 Axes>"
      ]
     },
     "metadata": {
      "needs_background": "light"
     },
     "output_type": "display_data"
    }
   ],
   "source": [
    "a=array([int(_) for _ in text.split(',')])\n",
    "fuel=[]\n",
    "for x in range(2000):\n",
    "    N=abs(x-a)\n",
    "    F=(1+N)*N//2\n",
    "    \n",
    "    \n",
    "    fuel.append(F.sum())\n",
    "    \n",
    "plot(fuel,'-o')\n",
    "argmin(fuel),min(fuel)"
   ]
  },
  {
   "cell_type": "code",
   "execution_count": null,
   "id": "3ae5cebd-cc82-4558-84c6-84d8f84e2eef",
   "metadata": {},
   "outputs": [],
   "source": []
  }
 ],
 "metadata": {
  "kernelspec": {
   "display_name": "Python 3",
   "language": "python",
   "name": "python3"
  },
  "language_info": {
   "codemirror_mode": {
    "name": "ipython",
    "version": 3
   },
   "file_extension": ".py",
   "mimetype": "text/x-python",
   "name": "python",
   "nbconvert_exporter": "python",
   "pygments_lexer": "ipython3",
   "version": "3.8.10"
  }
 },
 "nbformat": 4,
 "nbformat_minor": 5
}
