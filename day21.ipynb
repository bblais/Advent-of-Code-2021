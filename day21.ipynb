{
 "cells": [
  {
   "cell_type": "code",
   "execution_count": 13,
   "id": "0711e711-78e4-411c-8eff-18fc5ec33ec5",
   "metadata": {},
   "outputs": [],
   "source": [
    "def rand100(N=None):\n",
    "    \n",
    "    if N is None:        \n",
    "        while True:\n",
    "            for i in range(1,100+1):\n",
    "                yield i\n",
    "    else:\n",
    "        count=0\n",
    "        i=1\n",
    "        while count<N:\n",
    "            yield i\n",
    "            count+=1\n",
    "            i+=1\n",
    "            if i>100:\n",
    "                i=1"
   ]
  },
  {
   "cell_type": "code",
   "execution_count": 16,
   "id": "a5864fb9-60f5-4b43-bdbf-417d6702086d",
   "metadata": {},
   "outputs": [
    {
     "name": "stdout",
     "output_type": "stream",
     "text": [
      "1 2 3 4 5 6 7 8 9 10 11 12 13 14 15 16 17 18 19 20 21 22 23 24 25 26 27 28 29 30 31 32 33 34 35 36 37 38 39 40 41 42 43 44 45 46 47 48 49 50 51 52 53 54 55 56 57 58 59 60 61 62 63 64 65 66 67 68 69 70 71 72 73 74 75 76 77 78 79 80 81 82 83 84 85 86 87 88 89 90 91 92 93 94 95 96 97 98 99 100 1 2 3 4 5 6 7 8 9 10 11 12 13 14 15 16 17 18 19 20 21 22 23 24 25 26 27 28 29 30 31 32 33 34 35 36 37 38 39 40 41 42 43 44 45 46 47 48 49 50 51 52 53 54 55 56 57 58 59 60 61 62 63 64 65 66 67 68 69 70 71 72 73 74 75 76 77 78 79 80 81 82 83 84 85 86 87 88 89 90 91 92 93 94 95 96 97 98 99 100 1 2 3 4 5 6 7 8 9 10 11 12 13 14 15 16 17 18 19 20 21 22 23 24 25 26 27 28 29 30 31 32 33 34 35 36 37 38 39 40 41 42 43 44 45 46 47 48 49 50 51 52 53 54 55 56 57 58 59 60 61 62 63 64 65 66 67 68 69 70 71 72 73 74 75 76 77 78 79 80 81 82 83 84 85 86 87 88 89 90 91 92 93 94 95 96 97 98 99 100 1 2 3 4 5 6 7 8 9 10 11 12 13 14 15 16 17 18 19 20 21 22 23 24 25 26 27 28 29 30 31 32 33 34 35 36 37 38 39 40 41 42 43 44 45 46 47 48 49 50 51 52 53 54 55 56 57 58 59 60 61 62 63 64 65 66 67 68 69 70 71 72 73 74 75 76 77 78 79 80 81 82 83 84 85 86 87 88 89 90 91 92 93 94 95 96 97 98 99 100 1 2 3 4 5 6 7 8 9 10 11 12 13 14 15 16 17 18 19 20 21 22 23 24 25 26 27 28 29 30 31 32 33 34 35 36 37 38 39 40 41 42 43 44 45 46 47 48 49 50 51 52 53 54 55 56 57 58 59 60 61 62 63 64 65 66 67 68 69 70 71 72 73 74 75 76 77 78 79 80 81 82 83 84 85 86 87 88 89 90 91 92 93 94 95 96 97 98 99 100 1 2 3 4 5 6 7 8 9 10 11 12 13 14 15 16 17 18 19 20 21 22 23 24 25 26 27 28 29 30 31 32 33 34 35 36 37 38 39 40 41 42 43 44 45 46 47 48 49 50 51 52 53 54 55 56 57 58 59 60 61 62 63 64 65 66 67 68 69 70 71 72 73 74 75 76 77 78 79 80 81 82 83 84 85 86 87 88 89 90 91 92 93 94 95 96 97 98 99 100 1 2 3 4 5 6 7 8 9 10 11 12 13 14 15 16 17 18 19 20 21 22 23 24 25 26 27 28 29 30 31 32 33 34 35 36 37 38 39 40 41 42 43 44 45 46 47 48 49 50 51 52 53 54 55 56 57 58 59 60 61 62 63 64 65 66 67 68 69 70 71 72 73 74 75 76 77 78 79 80 81 82 83 84 85 86 87 88 89 90 91 92 93 94 95 96 97 98 99 100 1 2 3 4 5 6 7 8 9 10 11 12 13 14 15 16 17 18 19 20 21 22 23 24 25 26 27 28 29 30 31 32 33 34 35 36 37 38 39 40 41 42 43 44 45 46 47 48 49 50 51 52 53 54 55 56 57 58 59 60 61 62 63 64 65 66 67 68 69 70 71 72 73 74 75 76 77 78 79 80 81 82 83 84 85 86 87 88 89 90 91 92 93 94 95 96 97 98 99 100 1 2 3 4 5 6 7 8 9 10 11 12 13 14 15 16 17 18 19 20 21 22 23 24 25 26 27 28 29 30 31 32 33 34 35 36 37 38 39 40 41 42 43 44 45 46 47 48 49 50 51 52 53 54 55 56 57 58 59 60 61 62 63 64 65 66 67 68 69 70 71 72 73 74 75 76 77 78 79 80 81 82 83 84 85 86 87 88 89 90 91 92 93 94 95 96 97 98 99 100 1 2 3 4 5 6 7 8 9 10 11 12 13 14 15 16 17 18 19 20 21 22 23 24 25 26 27 28 29 30 31 32 33 34 35 36 37 38 39 40 41 42 43 44 45 46 47 48 49 50 51 52 53 54 55 56 57 58 59 60 61 62 63 64 65 66 67 68 69 70 71 72 73 74 75 76 77 78 79 80 81 82 83 84 85 86 87 88 89 90 91 92 93 \n"
     ]
    }
   ],
   "source": [
    "for r in rand100(993):\n",
    "    print(r,end=\" \")\n",
    "print()\n",
    "    "
   ]
  },
  {
   "cell_type": "code",
   "execution_count": 17,
   "id": "dce885d2-13ca-4395-96dc-fce38b10098d",
   "metadata": {},
   "outputs": [],
   "source": [
    "r100=rand100()"
   ]
  },
  {
   "cell_type": "code",
   "execution_count": 21,
   "id": "bac70dc3-d9e6-4c94-ae01-b78c4c275084",
   "metadata": {},
   "outputs": [
    {
     "data": {
      "text/plain": [
       "4"
      ]
     },
     "execution_count": 21,
     "metadata": {},
     "output_type": "execute_result"
    }
   ],
   "source": [
    "next(r100)"
   ]
  },
  {
   "cell_type": "code",
   "execution_count": 31,
   "id": "0192e631-cc7e-4446-8254-827f6a65ea9c",
   "metadata": {},
   "outputs": [
    {
     "name": "stdout",
     "output_type": "stream",
     "text": [
      "Player  1 wins\n",
      "[1000, 745]\n",
      "739785\n"
     ]
    }
   ],
   "source": [
    "R=rand100()\n",
    "\n",
    "player=1\n",
    "other_player=2\n",
    "scores=[0,0]\n",
    "locs=[4,8]\n",
    "die_count=0\n",
    "while True:\n",
    "    move=next(R)+next(R)+next(R)\n",
    "    die_count+=3\n",
    "    \n",
    "    locs[player-1]+=move\n",
    "    locs[player-1]=(locs[player-1]-1)%10 + 1\n",
    "\n",
    "    \n",
    "    scores[player-1]+=locs[player-1]\n",
    "    \n",
    "#     print(player,move,locs[player-1],scores[player-1])\n",
    "\n",
    "    if scores[player-1]>=1000:\n",
    "        print(\"Player \",player, \"wins\")\n",
    "        break\n",
    "\n",
    "    player,other_player=other_player,player\n",
    "    \n",
    "    \n",
    "    \n",
    "print(scores)\n",
    "print(die_count*scores[other_player-1])"
   ]
  },
  {
   "cell_type": "code",
   "execution_count": 29,
   "id": "2962427d-c28b-4171-9c10-abbcad3d444d",
   "metadata": {},
   "outputs": [
    {
     "data": {
      "text/plain": [
       "993"
      ]
     },
     "execution_count": 29,
     "metadata": {},
     "output_type": "execute_result"
    }
   ],
   "source": [
    "die_count"
   ]
  },
  {
   "cell_type": "code",
   "execution_count": 32,
   "id": "79e361bb-1628-4c6d-be00-604f1ab88310",
   "metadata": {},
   "outputs": [
    {
     "name": "stdout",
     "output_type": "stream",
     "text": [
      "Player  1 wins\n",
      "[1008, 784]\n",
      "675024\n"
     ]
    }
   ],
   "source": [
    "R=rand100()\n",
    "\n",
    "player=1\n",
    "other_player=2\n",
    "scores=[0,0]\n",
    "locs=[7,4]\n",
    "die_count=0\n",
    "while True:\n",
    "    move=next(R)+next(R)+next(R)\n",
    "    die_count+=3\n",
    "    \n",
    "    locs[player-1]+=move\n",
    "    locs[player-1]=(locs[player-1]-1)%10 + 1\n",
    "\n",
    "    \n",
    "    scores[player-1]+=locs[player-1]\n",
    "    \n",
    "#     print(player,move,locs[player-1],scores[player-1])\n",
    "\n",
    "    if scores[player-1]>=1000:\n",
    "        print(\"Player \",player, \"wins\")\n",
    "        break\n",
    "\n",
    "    player,other_player=other_player,player\n",
    "    \n",
    "    \n",
    "    \n",
    "print(scores)\n",
    "print(die_count*scores[other_player-1])"
   ]
  },
  {
   "cell_type": "code",
   "execution_count": null,
   "id": "dc0668f7-8c35-48c5-9c87-56b899780430",
   "metadata": {},
   "outputs": [],
   "source": []
  }
 ],
 "metadata": {
  "kernelspec": {
   "display_name": "Python 3",
   "language": "python",
   "name": "python3"
  },
  "language_info": {
   "codemirror_mode": {
    "name": "ipython",
    "version": 3
   },
   "file_extension": ".py",
   "mimetype": "text/x-python",
   "name": "python",
   "nbconvert_exporter": "python",
   "pygments_lexer": "ipython3",
   "version": "3.8.10"
  }
 },
 "nbformat": 4,
 "nbformat_minor": 5
}
