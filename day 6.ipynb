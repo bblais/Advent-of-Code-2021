{
 "cells": [
  {
   "cell_type": "code",
   "execution_count": 1,
   "id": "38dc842c-452a-47e2-9619-3b1cce1ed6a2",
   "metadata": {},
   "outputs": [
    {
     "name": "stdout",
     "output_type": "stream",
     "text": [
      "Populating the interactive namespace from numpy and matplotlib\n"
     ]
    }
   ],
   "source": [
    "%pylab inline"
   ]
  },
  {
   "cell_type": "markdown",
   "id": "e703ea79-0657-4a92-8562-8b9dc24d632d",
   "metadata": {},
   "source": [
    "    Initial state: 3,4,3,1,2\n",
    "    After  1 day:  2,3,2,0,1\n",
    "    After  2 days: 1,2,1,6,0,8\n",
    "    After  3 days: 0,1,0,5,6,7,8\n",
    "    After  4 days: 6,0,6,4,5,6,7,8,8\n",
    "    After  5 days: 5,6,5,3,4,5,6,7,7,8\n",
    "    After  6 days: 4,5,4,2,3,4,5,6,6,7\n",
    "    After  7 days: 3,4,3,1,2,3,4,5,5,6\n",
    "    After  8 days: 2,3,2,0,1,2,3,4,4,5\n",
    "    After  9 days: 1,2,1,6,0,1,2,3,3,4,8\n",
    "    After 10 days: 0,1,0,5,6,0,1,2,2,3,7,8\n",
    "    After 11 days: 6,0,6,4,5,6,0,1,1,2,6,7,8,8,8\n",
    "    After 12 days: 5,6,5,3,4,5,6,0,0,1,5,6,7,7,7,8,8\n",
    "    After 13 days: 4,5,4,2,3,4,5,6,6,0,4,5,6,6,6,7,7,8,8\n",
    "    After 14 days: 3,4,3,1,2,3,4,5,5,6,3,4,5,5,5,6,6,7,7,8\n",
    "    After 15 days: 2,3,2,0,1,2,3,4,4,5,2,3,4,4,4,5,5,6,6,7\n",
    "    After 16 days: 1,2,1,6,0,1,2,3,3,4,1,2,3,3,3,4,4,5,5,6,8\n",
    "    After 17 days: 0,1,0,5,6,0,1,2,2,3,0,1,2,2,2,3,3,4,4,5,7,8\n",
    "    After 18 days: 6,0,6,4,5,6,0,1,1,2,6,0,1,1,1,2,2,3,3,4,6,7,8,8,8,8"
   ]
  },
  {
   "cell_type": "code",
   "execution_count": 4,
   "id": "b1c53989-29f6-494a-814d-56ce892e2432",
   "metadata": {},
   "outputs": [
    {
     "data": {
      "text/plain": [
       "array([3, 4, 3, 1, 2])"
      ]
     },
     "execution_count": 4,
     "metadata": {},
     "output_type": "execute_result"
    }
   ],
   "source": [
    "a=array([3,4,3,1,2])\n",
    "a"
   ]
  },
  {
   "cell_type": "code",
   "execution_count": 5,
   "id": "0fd1cb9d-a215-4170-afde-6c474e162999",
   "metadata": {},
   "outputs": [
    {
     "data": {
      "text/plain": [
       "array([2, 3, 2, 0, 1])"
      ]
     },
     "execution_count": 5,
     "metadata": {},
     "output_type": "execute_result"
    }
   ],
   "source": [
    "a-=1\n",
    "a"
   ]
  },
  {
   "cell_type": "code",
   "execution_count": 6,
   "id": "bb8bb868-b4bb-4f7b-b1a5-ea0a0bfb35f0",
   "metadata": {},
   "outputs": [],
   "source": [
    "a-=1"
   ]
  },
  {
   "cell_type": "code",
   "execution_count": 7,
   "id": "a2b12b31-1a63-4b1b-853e-ca84d052a01f",
   "metadata": {},
   "outputs": [
    {
     "data": {
      "text/plain": [
       "array([ 1,  2,  1, -1,  0])"
      ]
     },
     "execution_count": 7,
     "metadata": {},
     "output_type": "execute_result"
    }
   ],
   "source": [
    "a"
   ]
  },
  {
   "cell_type": "code",
   "execution_count": 9,
   "id": "306a5b52-816e-4aab-aacf-02351164cf06",
   "metadata": {},
   "outputs": [],
   "source": [
    "a[a==-1]=6"
   ]
  },
  {
   "cell_type": "code",
   "execution_count": 10,
   "id": "da91dd2e-ea0d-4d66-a09c-943baa8058fe",
   "metadata": {},
   "outputs": [
    {
     "data": {
      "text/plain": [
       "array([1, 2, 1, 6, 0])"
      ]
     },
     "execution_count": 10,
     "metadata": {},
     "output_type": "execute_result"
    }
   ],
   "source": [
    "a"
   ]
  },
  {
   "cell_type": "code",
   "execution_count": 11,
   "id": "ac703eb5-4c67-4cc4-bffd-ad8338130983",
   "metadata": {},
   "outputs": [],
   "source": [
    "a=r_[a,8]"
   ]
  },
  {
   "cell_type": "code",
   "execution_count": 12,
   "id": "ae632b93-52b7-41e3-9bb3-8350fe462346",
   "metadata": {},
   "outputs": [
    {
     "data": {
      "text/plain": [
       "array([1, 2, 1, 6, 0, 8])"
      ]
     },
     "execution_count": 12,
     "metadata": {},
     "output_type": "execute_result"
    }
   ],
   "source": [
    "a"
   ]
  },
  {
   "cell_type": "code",
   "execution_count": 13,
   "id": "958ca4dd-d12c-4ec7-a390-b87d6865f0e0",
   "metadata": {},
   "outputs": [],
   "source": [
    "def step(a):\n",
    "    a=a.copy()\n",
    "    a-=1\n",
    "    N=len(a[a==-1])\n",
    "    if N:\n",
    "        a[a==-1]=6\n",
    "        a=r_[a,[8]*N]\n",
    "    return a"
   ]
  },
  {
   "cell_type": "code",
   "execution_count": 15,
   "id": "c77661db-9e94-47de-941d-2dd0650c8ce8",
   "metadata": {},
   "outputs": [
    {
     "name": "stdout",
     "output_type": "stream",
     "text": [
      "[3 4 3 1 2]\n",
      "[2 3 2 0 1]\n",
      "[1 2 1 6 0 8]\n",
      "[0 1 0 5 6 7 8]\n",
      "[6 0 6 4 5 6 7 8 8]\n",
      "[5 6 5 3 4 5 6 7 7 8]\n",
      "[4 5 4 2 3 4 5 6 6 7]\n",
      "[3 4 3 1 2 3 4 5 5 6]\n",
      "[2 3 2 0 1 2 3 4 4 5]\n",
      "[1 2 1 6 0 1 2 3 3 4 8]\n",
      "[0 1 0 5 6 0 1 2 2 3 7 8]\n",
      "[6 0 6 4 5 6 0 1 1 2 6 7 8 8 8]\n",
      "[5 6 5 3 4 5 6 0 0 1 5 6 7 7 7 8 8]\n",
      "[4 5 4 2 3 4 5 6 6 0 4 5 6 6 6 7 7 8 8]\n",
      "[3 4 3 1 2 3 4 5 5 6 3 4 5 5 5 6 6 7 7 8]\n",
      "[2 3 2 0 1 2 3 4 4 5 2 3 4 4 4 5 5 6 6 7]\n",
      "[1 2 1 6 0 1 2 3 3 4 1 2 3 3 3 4 4 5 5 6 8]\n",
      "[0 1 0 5 6 0 1 2 2 3 0 1 2 2 2 3 3 4 4 5 7 8]\n",
      "[6 0 6 4 5 6 0 1 1 2 6 0 1 1 1 2 2 3 3 4 6 7 8 8 8 8]\n"
     ]
    }
   ],
   "source": [
    "a=array([3,4,3,1,2])\n",
    "print(a)\n",
    "for i in range(18):\n",
    "    a=step(a)\n",
    "    print(a)"
   ]
  },
  {
   "cell_type": "code",
   "execution_count": 20,
   "id": "9b48ff35-1bdc-43de-a413-584ce92700e1",
   "metadata": {},
   "outputs": [
    {
     "name": "stdout",
     "output_type": "stream",
     "text": [
      "5934\n"
     ]
    }
   ],
   "source": [
    "a=array([3,4,3,1,2])\n",
    "for i in range(80):\n",
    "    a=step(a)\n",
    "print(len(a))"
   ]
  },
  {
   "cell_type": "code",
   "execution_count": 48,
   "id": "ade15522-cecc-4b95-8e95-bf9e7d38aa1a",
   "metadata": {},
   "outputs": [
    {
     "name": "stdout",
     "output_type": "stream",
     "text": [
      "33893\n"
     ]
    },
    {
     "data": {
      "text/plain": [
       "[<matplotlib.lines.Line2D at 0x19ca2c5b0>]"
      ]
     },
     "execution_count": 48,
     "metadata": {},
     "output_type": "execute_result"
    },
    {
     "data": {
      "image/png": "[encoded data removed]",
      "text/plain": [
       "<Figure size 432x288 with 1 Axes>"
      ]
     },
     "metadata": {
      "needs_background": "light"
     },
     "output_type": "display_data"
    }
   ],
   "source": [
    "a=array([3,4,3,1,2])\n",
    "N=[len(a)]\n",
    "for i in range(100):\n",
    "    a=step(a)\n",
    "    N.append(len(a))\n",
    "print(len(a))\n",
    "N=array(N)\n",
    "plot(N)"
   ]
  },
  {
   "cell_type": "code",
   "execution_count": 49,
   "id": "1a29dc0f-b839-425e-b219-9233be0217df",
   "metadata": {},
   "outputs": [
    {
     "data": {
      "text/plain": [
       "array([0.08727819, 1.70403646])"
      ]
     },
     "execution_count": 49,
     "metadata": {},
     "output_type": "execute_result"
    },
    {
     "data": {
      "image/png": "[encoded data removed]",
      "text/plain": [
       "<Figure size 432x288 with 1 Axes>"
      ]
     },
     "metadata": {
      "needs_background": "light"
     },
     "output_type": "display_data"
    }
   ],
   "source": [
    "plot(log(N))\n",
    "polyfit(arange(len(N)),log(N),1)"
   ]
  },
  {
   "cell_type": "code",
   "execution_count": 52,
   "id": "f542126a-1f3f-432f-af7b-db0666c00759",
   "metadata": {},
   "outputs": [
    {
     "data": {
      "text/plain": [
       "2665134.171251109"
      ]
     },
     "execution_count": 52,
     "metadata": {},
     "output_type": "execute_result"
    }
   ],
   "source": [
    "exp(0.08727819*150+1.70403646)"
   ]
  },
  {
   "cell_type": "code",
   "execution_count": 50,
   "id": "ffd7147f-3962-4936-96a9-51f569ef3d44",
   "metadata": {},
   "outputs": [
    {
     "name": "stdout",
     "output_type": "stream",
     "text": [
      "2621894\n"
     ]
    },
    {
     "data": {
      "text/plain": [
       "[<matplotlib.lines.Line2D at 0x19caff1c0>]"
      ]
     },
     "execution_count": 50,
     "metadata": {},
     "output_type": "execute_result"
    },
    {
     "data": {
      "image/png": "[encoded data removed]",
      "text/plain": [
       "<Figure size 432x288 with 1 Axes>"
      ]
     },
     "metadata": {
      "needs_background": "light"
     },
     "output_type": "display_data"
    }
   ],
   "source": [
    "a=array([3,4,3,1,2])\n",
    "N=[len(a)]\n",
    "for i in range(150):\n",
    "    a=step(a)\n",
    "    N.append(len(a))\n",
    "print(len(a))\n",
    "N=array(N)\n",
    "plot(N)"
   ]
  },
  {
   "cell_type": "code",
   "execution_count": 51,
   "id": "0e854489-3d2e-4022-b28e-f4b662ce6b48",
   "metadata": {},
   "outputs": [
    {
     "data": {
      "text/plain": [
       "array([0.08719049, 1.70753732])"
      ]
     },
     "execution_count": 51,
     "metadata": {},
     "output_type": "execute_result"
    },
    {
     "data": {
      "image/png": "[encoded data removed]",
      "text/plain": [
       "<Figure size 432x288 with 1 Axes>"
      ]
     },
     "metadata": {
      "needs_background": "light"
     },
     "output_type": "display_data"
    }
   ],
   "source": [
    "plot(log(N))\n",
    "polyfit(arange(len(N)),log(N),1)"
   ]
  },
  {
   "cell_type": "code",
   "execution_count": 45,
   "id": "3263ec88-e0bb-4fdf-900d-ef4a2fca4ee4",
   "metadata": {},
   "outputs": [
    {
     "data": {
      "text/plain": [
       "array([87.        , 77.91494253, 77.35797952])"
      ]
     },
     "execution_count": 45,
     "metadata": {},
     "output_type": "execute_result"
    }
   ],
   "source": [
    "N1=N[:-50:50]\n",
    "N2=N[50::50]\n",
    "N2/N1"
   ]
  },
  {
   "cell_type": "code",
   "execution_count": 16,
   "id": "1c0bdbd0-f8d1-460b-b0bb-8b865dc07efc",
   "metadata": {},
   "outputs": [],
   "source": [
    "text=open('data/day6.txt').read()"
   ]
  },
  {
   "cell_type": "code",
   "execution_count": 19,
   "id": "a6e93c1c-1a4e-4da5-92c4-805265ca60af",
   "metadata": {},
   "outputs": [
    {
     "name": "stdout",
     "output_type": "stream",
     "text": [
      "1,1,1,1,1,5,1,1,1,5,1,1,3,1,5,1,4,1,5,1,2,5,1,1,1,1,3,1,4,5,1,1,2,1,1,1,2,4,3,2,1,1,2,1,5,4,4,1,4,1,1,1,4,1,3,1,1,1,2,1,1,1,1,1,1,1,5,4,4,2,4,5,2,1,5,3,1,3,3,1,1,5,4,1,1,3,5,1,1,1,4,4,2,4,1,1,4,1,1,2,1,1,1,2,1,5,2,5,1,1,1,4,1,2,1,1,1,2,2,1,3,1,4,4,1,1,3,1,4,1,1,1,2,5,5,1,4,1,4,4,1,4,1,2,4,1,1,4,1,3,4,4,1,1,5,3,1,1,5,1,3,4,2,1,3,1,3,1,1,1,1,1,1,1,1,1,4,5,1,1,1,1,3,1,1,5,1,1,4,1,1,3,1,1,5,2,1,4,4,1,4,1,2,1,1,1,1,2,1,4,1,1,2,5,1,4,4,1,1,1,4,1,1,1,5,3,1,4,1,4,1,1,3,5,3,5,5,5,1,5,1,1,1,1,1,1,1,1,2,3,3,3,3,4,2,1,1,4,5,3,1,1,5,5,1,1,2,1,4,1,3,5,1,1,1,5,2,2,1,4,2,1,1,4,1,3,1,1,1,3,1,5,1,5,1,1,4,1,2,1\n",
      "\n"
     ]
    },
    {
     "data": {
      "text/plain": [
       "array([1, 1, 1, 1, 1, 5, 1, 1, 1, 5, 1, 1, 3, 1, 5, 1, 4, 1, 5, 1, 2, 5,\n",
       "       1, 1, 1, 1, 3, 1, 4, 5, 1, 1, 2, 1, 1, 1, 2, 4, 3, 2, 1, 1, 2, 1,\n",
       "       5, 4, 4, 1, 4, 1, 1, 1, 4, 1, 3, 1, 1, 1, 2, 1, 1, 1, 1, 1, 1, 1,\n",
       "       5, 4, 4, 2, 4, 5, 2, 1, 5, 3, 1, 3, 3, 1, 1, 5, 4, 1, 1, 3, 5, 1,\n",
       "       1, 1, 4, 4, 2, 4, 1, 1, 4, 1, 1, 2, 1, 1, 1, 2, 1, 5, 2, 5, 1, 1,\n",
       "       1, 4, 1, 2, 1, 1, 1, 2, 2, 1, 3, 1, 4, 4, 1, 1, 3, 1, 4, 1, 1, 1,\n",
       "       2, 5, 5, 1, 4, 1, 4, 4, 1, 4, 1, 2, 4, 1, 1, 4, 1, 3, 4, 4, 1, 1,\n",
       "       5, 3, 1, 1, 5, 1, 3, 4, 2, 1, 3, 1, 3, 1, 1, 1, 1, 1, 1, 1, 1, 1,\n",
       "       4, 5, 1, 1, 1, 1, 3, 1, 1, 5, 1, 1, 4, 1, 1, 3, 1, 1, 5, 2, 1, 4,\n",
       "       4, 1, 4, 1, 2, 1, 1, 1, 1, 2, 1, 4, 1, 1, 2, 5, 1, 4, 4, 1, 1, 1,\n",
       "       4, 1, 1, 1, 5, 3, 1, 4, 1, 4, 1, 1, 3, 5, 3, 5, 5, 5, 1, 5, 1, 1,\n",
       "       1, 1, 1, 1, 1, 1, 2, 3, 3, 3, 3, 4, 2, 1, 1, 4, 5, 3, 1, 1, 5, 5,\n",
       "       1, 1, 2, 1, 4, 1, 3, 5, 1, 1, 1, 5, 2, 2, 1, 4, 2, 1, 1, 4, 1, 3,\n",
       "       1, 1, 1, 3, 1, 5, 1, 5, 1, 1, 4, 1, 2, 1])"
      ]
     },
     "execution_count": 19,
     "metadata": {},
     "output_type": "execute_result"
    }
   ],
   "source": [
    "a=array([int(_) for _ in text.split(',')])\n",
    "print(text)\n",
    "a"
   ]
  },
  {
   "cell_type": "code",
   "execution_count": 22,
   "id": "826c75a1-b048-46ba-9dfa-e5d687ea2f8f",
   "metadata": {},
   "outputs": [
    {
     "name": "stdout",
     "output_type": "stream",
     "text": [
      "374994\n"
     ]
    }
   ],
   "source": [
    "a=array([int(_) for _ in text.split(',')])\n",
    "for i in range(80):\n",
    "    a=step(a)\n",
    "print(len(a))"
   ]
  },
  {
   "cell_type": "code",
   "execution_count": 30,
   "id": "9dff0203-e705-4486-bb79-2a6fa5bc7c8c",
   "metadata": {},
   "outputs": [
    {
     "name": "stdout",
     "output_type": "stream",
     "text": [
      "29004419\n"
     ]
    },
    {
     "data": {
      "text/plain": [
       "[<matplotlib.lines.Line2D at 0x1086e8370>]"
      ]
     },
     "execution_count": 30,
     "metadata": {},
     "output_type": "execute_result"
    },
    {
     "data": {
      "image/png": "[encoded data removed]",
      "text/plain": [
       "<Figure size 432x288 with 1 Axes>"
      ]
     },
     "metadata": {
      "needs_background": "light"
     },
     "output_type": "display_data"
    }
   ],
   "source": [
    "a=array([int(_) for _ in text.split(',')])\n",
    "N=[len(a)]\n",
    "for i in range(130):\n",
    "    a=step(a)\n",
    "    N.append(len(a))\n",
    "print(len(a))\n",
    "plot(N)"
   ]
  },
  {
   "cell_type": "code",
   "execution_count": 29,
   "id": "d7c42727-2f69-4198-b6f8-3cc1694d2a51",
   "metadata": {},
   "outputs": [
    {
     "data": {
      "text/plain": [
       "3"
      ]
     },
     "execution_count": 29,
     "metadata": {},
     "output_type": "execute_result"
    }
   ],
   "source": [
    "a[10]"
   ]
  },
  {
   "cell_type": "markdown",
   "id": "3bec9afe-322f-4664-b5ea-8bede2204781",
   "metadata": {},
   "source": [
    "## a different representation -- because this one blows up"
   ]
  },
  {
   "cell_type": "code",
   "execution_count": 56,
   "id": "cb258392-ff3d-44a6-bbc4-7e72df4b5b4d",
   "metadata": {},
   "outputs": [
    {
     "data": {
      "text/plain": [
       "([3, 4, 3, 1, 2], [0, 1, 1, 2, 1, 0, 0, 0, 0])"
      ]
     },
     "execution_count": 56,
     "metadata": {},
     "output_type": "execute_result"
    }
   ],
   "source": [
    "a=[3,4,3,1,2]\n",
    "N=[0]*9\n",
    "for i in range(8+1):\n",
    "    N[i]=a.count(i)\n",
    "    \n",
    "a,N"
   ]
  },
  {
   "cell_type": "code",
   "execution_count": 57,
   "id": "c947e154-f08a-4b87-97c3-a269abd9bf74",
   "metadata": {},
   "outputs": [
    {
     "data": {
      "text/plain": [
       "(0, [1, 1, 2, 1, 0, 0, 0, 0, 0])"
      ]
     },
     "execution_count": 57,
     "metadata": {},
     "output_type": "execute_result"
    }
   ],
   "source": [
    "N0=N[0]\n",
    "N1=N[1:]+[0]\n",
    "N0,N1"
   ]
  },
  {
   "cell_type": "code",
   "execution_count": 58,
   "id": "6ceaf55e-5141-4ddd-8232-b0fbc50f9b0d",
   "metadata": {},
   "outputs": [],
   "source": [
    "N1[6]+=N0\n",
    "N1[8]+=N0"
   ]
  },
  {
   "cell_type": "code",
   "execution_count": 65,
   "id": "385b7aa2-7efb-48b9-a85b-2c0e926a1206",
   "metadata": {},
   "outputs": [],
   "source": [
    "def a2N(a):\n",
    "    a=list(a)\n",
    "    N=[0]*9\n",
    "    for i in range(8+1):\n",
    "        N[i]=a.count(i)    \n",
    "    return N"
   ]
  },
  {
   "cell_type": "code",
   "execution_count": 66,
   "id": "b575ac1a-9fe1-492f-8559-4bea7e85cb9d",
   "metadata": {},
   "outputs": [],
   "source": [
    "def stepN(N):\n",
    "    N0=N[0]\n",
    "    N1=N[1:]+[0]    \n",
    "    N1[6]+=N0\n",
    "    N1[8]+=N0    \n",
    "    return N1"
   ]
  },
  {
   "cell_type": "code",
   "execution_count": 69,
   "id": "5118beda-67fc-42c5-aa7c-9f9baae6faf4",
   "metadata": {},
   "outputs": [
    {
     "name": "stdout",
     "output_type": "stream",
     "text": [
      "[3 4 3 1 2] [0, 1, 1, 2, 1, 0, 0, 0, 0]\n",
      "[2 3 2 0 1] [1, 1, 2, 1, 0, 0, 0, 0, 0] [1, 1, 2, 1, 0, 0, 0, 0, 0]\n",
      "[1 2 1 6 0 8] [1, 2, 1, 0, 0, 0, 1, 0, 1] [1, 2, 1, 0, 0, 0, 1, 0, 1]\n",
      "[0 1 0 5 6 7 8] [2, 1, 0, 0, 0, 1, 1, 1, 1] [2, 1, 0, 0, 0, 1, 1, 1, 1]\n",
      "[6 0 6 4 5 6 7 8 8] [1, 0, 0, 0, 1, 1, 3, 1, 2] [1, 0, 0, 0, 1, 1, 3, 1, 2]\n",
      "[5 6 5 3 4 5 6 7 7 8] [0, 0, 0, 1, 1, 3, 2, 2, 1] [0, 0, 0, 1, 1, 3, 2, 2, 1]\n",
      "[4 5 4 2 3 4 5 6 6 7] [0, 0, 1, 1, 3, 2, 2, 1, 0] [0, 0, 1, 1, 3, 2, 2, 1, 0]\n",
      "[3 4 3 1 2 3 4 5 5 6] [0, 1, 1, 3, 2, 2, 1, 0, 0] [0, 1, 1, 3, 2, 2, 1, 0, 0]\n",
      "[2 3 2 0 1 2 3 4 4 5] [1, 1, 3, 2, 2, 1, 0, 0, 0] [1, 1, 3, 2, 2, 1, 0, 0, 0]\n",
      "[1 2 1 6 0 1 2 3 3 4 8] [1, 3, 2, 2, 1, 0, 1, 0, 1] [1, 3, 2, 2, 1, 0, 1, 0, 1]\n",
      "[0 1 0 5 6 0 1 2 2 3 7 8] [3, 2, 2, 1, 0, 1, 1, 1, 1] [3, 2, 2, 1, 0, 1, 1, 1, 1]\n",
      "[6 0 6 4 5 6 0 1 1 2 6 7 8 8 8] [2, 2, 1, 0, 1, 1, 4, 1, 3] [2, 2, 1, 0, 1, 1, 4, 1, 3]\n",
      "[5 6 5 3 4 5 6 0 0 1 5 6 7 7 7 8 8] [2, 1, 0, 1, 1, 4, 3, 3, 2] [2, 1, 0, 1, 1, 4, 3, 3, 2]\n",
      "[4 5 4 2 3 4 5 6 6 0 4 5 6 6 6 7 7 8 8] [1, 0, 1, 1, 4, 3, 5, 2, 2] [1, 0, 1, 1, 4, 3, 5, 2, 2]\n",
      "[3 4 3 1 2 3 4 5 5 6 3 4 5 5 5 6 6 7 7 8] [0, 1, 1, 4, 3, 5, 3, 2, 1] [0, 1, 1, 4, 3, 5, 3, 2, 1]\n",
      "[2 3 2 0 1 2 3 4 4 5 2 3 4 4 4 5 5 6 6 7] [1, 1, 4, 3, 5, 3, 2, 1, 0] [1, 1, 4, 3, 5, 3, 2, 1, 0]\n",
      "[1 2 1 6 0 1 2 3 3 4 1 2 3 3 3 4 4 5 5 6 8] [1, 4, 3, 5, 3, 2, 2, 0, 1] [1, 4, 3, 5, 3, 2, 2, 0, 1]\n",
      "[0 1 0 5 6 0 1 2 2 3 0 1 2 2 2 3 3 4 4 5 7 8] [4, 3, 5, 3, 2, 2, 1, 1, 1] [4, 3, 5, 3, 2, 2, 1, 1, 1]\n",
      "[6 0 6 4 5 6 0 1 1 2 6 0 1 1 1 2 2 3 3 4 6 7 8 8 8 8] [3, 5, 3, 2, 2, 1, 5, 1, 4] [3, 5, 3, 2, 2, 1, 5, 1, 4]\n"
     ]
    }
   ],
   "source": [
    "a=array([3,4,3,1,2])\n",
    "N=a2N(a)\n",
    "print(a,N)\n",
    "for i in range(18):\n",
    "    a=step(a)\n",
    "    N=stepN(N)\n",
    "    print(a,a2N(a),N)"
   ]
  },
  {
   "cell_type": "code",
   "execution_count": 70,
   "id": "6b6c62fa-0138-4ff6-aadf-ad02faee3860",
   "metadata": {},
   "outputs": [
    {
     "data": {
      "text/plain": [
       "26"
      ]
     },
     "execution_count": 70,
     "metadata": {},
     "output_type": "execute_result"
    }
   ],
   "source": [
    "sum(N)"
   ]
  },
  {
   "cell_type": "code",
   "execution_count": 73,
   "id": "aa3c72cb-ec68-475c-87bf-14b304514342",
   "metadata": {},
   "outputs": [
    {
     "name": "stdout",
     "output_type": "stream",
     "text": [
      "5934 5934 5934\n"
     ]
    }
   ],
   "source": [
    "a=array([3,4,3,1,2])\n",
    "N=a2N(a)\n",
    "for i in range(80):\n",
    "    a=step(a)\n",
    "    N=stepN(N)\n",
    "print(len(a),sum(a2N(a)),sum(N))"
   ]
  },
  {
   "cell_type": "markdown",
   "id": "09671c04-6651-4fd1-afab-b2759fcf1c1d",
   "metadata": {},
   "source": [
    "## on to the solution"
   ]
  },
  {
   "cell_type": "code",
   "execution_count": 74,
   "id": "b1e4c136-f0d7-430f-93f0-35dc289f45c7",
   "metadata": {},
   "outputs": [],
   "source": [
    "text=open('data/day6.txt').read()"
   ]
  },
  {
   "cell_type": "code",
   "execution_count": 75,
   "id": "bd516a64-4b83-4bf6-9522-44f2e6809ee0",
   "metadata": {},
   "outputs": [
    {
     "name": "stdout",
     "output_type": "stream",
     "text": [
      "374994 374994 374994\n"
     ]
    }
   ],
   "source": [
    "a=array([int(_) for _ in text.split(',')])\n",
    "N=a2N(a)\n",
    "for i in range(80):\n",
    "    a=step(a)\n",
    "    N=stepN(N)\n",
    "    \n",
    "print(len(a),sum(a2N(a)),sum(N))"
   ]
  },
  {
   "cell_type": "code",
   "execution_count": 77,
   "id": "0f48996a-c2fd-4e84-87ab-fa1b98631cf6",
   "metadata": {},
   "outputs": [
    {
     "name": "stdout",
     "output_type": "stream",
     "text": [
      "26984457539\n"
     ]
    }
   ],
   "source": [
    "#a=array([int(_) for _ in text.split(',')])\n",
    "a=array([3,4,3,1,2])\n",
    "N=a2N(a)\n",
    "for i in range(256):\n",
    "    N=stepN(N)\n",
    "    \n",
    "print(sum(N))"
   ]
  },
  {
   "cell_type": "code",
   "execution_count": 78,
   "id": "4bbf61ae-110d-4e0d-a100-68ed49a6bcfe",
   "metadata": {},
   "outputs": [
    {
     "name": "stdout",
     "output_type": "stream",
     "text": [
      "1686252324092\n"
     ]
    }
   ],
   "source": [
    "a=array([int(_) for _ in text.split(',')])\n",
    "#a=array([3,4,3,1,2])\n",
    "N=a2N(a)\n",
    "for i in range(256):\n",
    "    N=stepN(N)\n",
    "    \n",
    "print(sum(N))"
   ]
  },
  {
   "cell_type": "code",
   "execution_count": null,
   "id": "48f2b00f-fe89-4575-ad83-cea3908e4909",
   "metadata": {},
   "outputs": [],
   "source": []
  }
 ],
 "metadata": {
  "kernelspec": {
   "display_name": "Python 3",
   "language": "python",
   "name": "python3"
  },
  "language_info": {
   "codemirror_mode": {
    "name": "ipython",
    "version": 3
   },
   "file_extension": ".py",
   "mimetype": "text/x-python",
   "name": "python",
   "nbconvert_exporter": "python",
   "pygments_lexer": "ipython3",
   "version": "3.8.10"
  }
 },
 "nbformat": 4,
 "nbformat_minor": 5
}
