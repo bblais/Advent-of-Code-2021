{
 "cells": [
  {
   "cell_type": "code",
   "execution_count": 47,
   "id": "1d41da52-c581-45e1-9dee-a21627b2d185",
   "metadata": {},
   "outputs": [
    {
     "name": "stdout",
     "output_type": "stream",
     "text": [
      "Populating the interactive namespace from numpy and matplotlib\n"
     ]
    },
    {
     "name": "stderr",
     "output_type": "stream",
     "text": [
      "/Users/bblais/opt/anaconda3/envs/py3/lib/python3.8/site-packages/IPython/core/magics/pylab.py:159: UserWarning: pylab import has clobbered these variables: ['text']\n",
      "`%matplotlib` prevents importing * from pylab and numpy\n",
      "  warn(\"pylab import has clobbered these variables: %s\"  % clobbered +\n"
     ]
    }
   ],
   "source": [
    "%pylab inline"
   ]
  },
  {
   "cell_type": "code",
   "execution_count": 57,
   "id": "897891f8-5d66-4d34-a945-d0ee4f6e29b5",
   "metadata": {},
   "outputs": [],
   "source": [
    "text=\"\"\"\n",
    "6,10\n",
    "0,14\n",
    "9,10\n",
    "0,3\n",
    "10,4\n",
    "4,11\n",
    "6,0\n",
    "6,12\n",
    "4,1\n",
    "0,13\n",
    "10,12\n",
    "3,4\n",
    "3,0\n",
    "8,4\n",
    "1,10\n",
    "2,14\n",
    "8,10\n",
    "9,0\n",
    "\n",
    "fold along y=7\n",
    "fold along x=5\n",
    "\"\"\""
   ]
  },
  {
   "cell_type": "code",
   "execution_count": 58,
   "id": "bd8c2fae-692b-4ec0-8c8b-00b979758414",
   "metadata": {},
   "outputs": [
    {
     "data": {
      "text/plain": [
       "['\\n6,10\\n0,14\\n9,10\\n0,3\\n10,4\\n4,11\\n6,0\\n6,12\\n4,1\\n0,13\\n10,12\\n3,4\\n3,0\\n8,4\\n1,10\\n2,14\\n8,10\\n9,0',\n",
       " 'fold along y=7\\nfold along x=5\\n']"
      ]
     },
     "execution_count": 58,
     "metadata": {},
     "output_type": "execute_result"
    }
   ],
   "source": [
    "parts=text.split(\"\\n\\n\")\n",
    "parts"
   ]
  },
  {
   "cell_type": "code",
   "execution_count": 67,
   "id": "3c645533-d0d9-42e4-ac7a-dd4bdbe3f9f1",
   "metadata": {},
   "outputs": [
    {
     "data": {
      "text/plain": [
       "array([[ 6, 10],\n",
       "       [ 0, 14],\n",
       "       [ 9, 10],\n",
       "       [ 0,  3],\n",
       "       [10,  4],\n",
       "       [ 4, 11],\n",
       "       [ 6,  0],\n",
       "       [ 6, 12],\n",
       "       [ 4,  1],\n",
       "       [ 0, 13],\n",
       "       [10, 12],\n",
       "       [ 3,  4],\n",
       "       [ 3,  0],\n",
       "       [ 8,  4],\n",
       "       [ 1, 10],\n",
       "       [ 2, 14],\n",
       "       [ 8, 10],\n",
       "       [ 9,  0]])"
      ]
     },
     "execution_count": 67,
     "metadata": {},
     "output_type": "execute_result"
    }
   ],
   "source": [
    "arr_xy=array([(int(x),int(y)) for x, y in  [_.split(\",\") for _ in parts[0].strip().split('\\n')]])\n",
    "arr_xy"
   ]
  },
  {
   "cell_type": "code",
   "execution_count": 69,
   "id": "d445fc98-8a2f-47c9-aa54-3e1020fa2bb3",
   "metadata": {},
   "outputs": [
    {
     "data": {
      "text/plain": [
       "array([10, 14])"
      ]
     },
     "execution_count": 69,
     "metadata": {},
     "output_type": "execute_result"
    }
   ],
   "source": [
    "arr_xy.max(axis=0)"
   ]
  },
  {
   "cell_type": "code",
   "execution_count": 74,
   "id": "bea21d4c-9a6b-4570-86b2-a2b1c533e1a0",
   "metadata": {},
   "outputs": [],
   "source": []
  },
  {
   "cell_type": "code",
   "execution_count": 81,
   "id": "092f077b-423f-4cbf-9d82-236cf572c3f6",
   "metadata": {},
   "outputs": [],
   "source": [
    "C,R=arr_xy.max(axis=0)+1\n",
    "im=zeros((R,C),int)"
   ]
  },
  {
   "cell_type": "code",
   "execution_count": 82,
   "id": "fb863d73-c651-46f4-ab46-9a91274f3cf9",
   "metadata": {},
   "outputs": [
    {
     "name": "stdout",
     "output_type": "stream",
     "text": [
      "6 10\n",
      "0 14\n",
      "9 10\n",
      "0 3\n",
      "10 4\n",
      "4 11\n",
      "6 0\n",
      "6 12\n",
      "4 1\n",
      "0 13\n",
      "10 12\n",
      "3 4\n",
      "3 0\n",
      "8 4\n",
      "1 10\n",
      "2 14\n",
      "8 10\n",
      "9 0\n"
     ]
    }
   ],
   "source": [
    "for x,y in arr_xy:\n",
    "    print(x,y)\n",
    "    im[y,x]=1"
   ]
  },
  {
   "cell_type": "code",
   "execution_count": 83,
   "id": "6144697b-80a8-4e91-8ef4-2e0cc61e0a2b",
   "metadata": {},
   "outputs": [
    {
     "data": {
      "text/plain": [
       "array([[0, 0, 0, 1, 0, 0, 1, 0, 0, 1, 0],\n",
       "       [0, 0, 0, 0, 1, 0, 0, 0, 0, 0, 0],\n",
       "       [0, 0, 0, 0, 0, 0, 0, 0, 0, 0, 0],\n",
       "       [1, 0, 0, 0, 0, 0, 0, 0, 0, 0, 0],\n",
       "       [0, 0, 0, 1, 0, 0, 0, 0, 1, 0, 1],\n",
       "       [0, 0, 0, 0, 0, 0, 0, 0, 0, 0, 0],\n",
       "       [0, 0, 0, 0, 0, 0, 0, 0, 0, 0, 0],\n",
       "       [0, 0, 0, 0, 0, 0, 0, 0, 0, 0, 0],\n",
       "       [0, 0, 0, 0, 0, 0, 0, 0, 0, 0, 0],\n",
       "       [0, 0, 0, 0, 0, 0, 0, 0, 0, 0, 0],\n",
       "       [0, 1, 0, 0, 0, 0, 1, 0, 1, 1, 0],\n",
       "       [0, 0, 0, 0, 1, 0, 0, 0, 0, 0, 0],\n",
       "       [0, 0, 0, 0, 0, 0, 1, 0, 0, 0, 1],\n",
       "       [1, 0, 0, 0, 0, 0, 0, 0, 0, 0, 0],\n",
       "       [1, 0, 1, 0, 0, 0, 0, 0, 0, 0, 0]])"
      ]
     },
     "execution_count": 83,
     "metadata": {},
     "output_type": "execute_result"
    }
   ],
   "source": [
    "im"
   ]
  },
  {
   "cell_type": "code",
   "execution_count": 84,
   "id": "5887f73a-53a7-48be-9319-a9f9d0ae22ab",
   "metadata": {},
   "outputs": [
    {
     "data": {
      "text/plain": [
       "<matplotlib.image.AxesImage at 0x19da6be50>"
      ]
     },
     "execution_count": 84,
     "metadata": {},
     "output_type": "execute_result"
    },
    {
     "data": {
      "image/png": "[encoded data removed]",
      "text/plain": [
       "<Figure size 432x288 with 1 Axes>"
      ]
     },
     "metadata": {
      "needs_background": "light"
     },
     "output_type": "display_data"
    }
   ],
   "source": [
    "imshow(im)"
   ]
  },
  {
   "cell_type": "code",
   "execution_count": 85,
   "id": "0612d83b-e07f-4bf2-8b8c-bfcdbbc19ba6",
   "metadata": {},
   "outputs": [],
   "source": [
    "def fold(arr,x=None,y=None):\n",
    "    \n",
    "    if not y is None:\n",
    "        assert all(arr[y,:]==0)\n",
    "        top=arr[:y,:]\n",
    "        bottom=flipud(arr[y+1:,:])\n",
    "        \n",
    "        arr2=top+bottom\n",
    "        arr2[arr2>1]=1\n",
    "        \n",
    "        return arr2\n",
    "    \n",
    "    if not x is None:\n",
    "        assert all(arr[:,x]==0)\n",
    "        left=arr[:,:x]\n",
    "        right=fliplr(arr[:,x+1:])\n",
    "        \n",
    "        arr2=left+right\n",
    "        arr2[arr2>1]=1\n",
    "        \n",
    "        return arr2\n",
    "        \n",
    "    raise ValueError(\"You can't get there from here\")\n",
    "        \n",
    "        "
   ]
  },
  {
   "cell_type": "code",
   "execution_count": 86,
   "id": "821a4007-bc63-4624-a492-7649a54489ce",
   "metadata": {},
   "outputs": [
    {
     "data": {
      "text/plain": [
       "array([[0, 0, 0, 1, 0, 0, 1, 0, 0, 1, 0],\n",
       "       [0, 0, 0, 0, 1, 0, 0, 0, 0, 0, 0],\n",
       "       [0, 0, 0, 0, 0, 0, 0, 0, 0, 0, 0],\n",
       "       [1, 0, 0, 0, 0, 0, 0, 0, 0, 0, 0],\n",
       "       [0, 0, 0, 1, 0, 0, 0, 0, 1, 0, 1],\n",
       "       [0, 0, 0, 0, 0, 0, 0, 0, 0, 0, 0],\n",
       "       [0, 0, 0, 0, 0, 0, 0, 0, 0, 0, 0],\n",
       "       [0, 0, 0, 0, 0, 0, 0, 0, 0, 0, 0],\n",
       "       [0, 0, 0, 0, 0, 0, 0, 0, 0, 0, 0],\n",
       "       [0, 0, 0, 0, 0, 0, 0, 0, 0, 0, 0],\n",
       "       [0, 1, 0, 0, 0, 0, 1, 0, 1, 1, 0],\n",
       "       [0, 0, 0, 0, 1, 0, 0, 0, 0, 0, 0],\n",
       "       [0, 0, 0, 0, 0, 0, 1, 0, 0, 0, 1],\n",
       "       [1, 0, 0, 0, 0, 0, 0, 0, 0, 0, 0],\n",
       "       [1, 0, 1, 0, 0, 0, 0, 0, 0, 0, 0]])"
      ]
     },
     "execution_count": 86,
     "metadata": {},
     "output_type": "execute_result"
    }
   ],
   "source": [
    "im"
   ]
  },
  {
   "cell_type": "code",
   "execution_count": 87,
   "id": "b4ab7d14-dd70-4311-95e2-6c35ada3016c",
   "metadata": {},
   "outputs": [],
   "source": [
    "y=7\n",
    "arr=im\n",
    "assert all(arr[y,:]==0)\n",
    "top=arr[:y,:]\n",
    "bottom=flipud(arr[y+1:,:])\n",
    "\n",
    "arr2=top+bottom\n",
    "arr2[arr2>1]=1\n",
    "        \n",
    "\n"
   ]
  },
  {
   "cell_type": "code",
   "execution_count": 88,
   "id": "6e20c480-4606-4159-bfd2-88a283b0c3b4",
   "metadata": {},
   "outputs": [
    {
     "data": {
      "text/plain": [
       "array([[1, 0, 1, 1, 0, 0, 1, 0, 0, 1, 0],\n",
       "       [1, 0, 0, 0, 1, 0, 0, 0, 0, 0, 0],\n",
       "       [0, 0, 0, 0, 0, 0, 1, 0, 0, 0, 1],\n",
       "       [1, 0, 0, 0, 1, 0, 0, 0, 0, 0, 0],\n",
       "       [0, 1, 0, 1, 0, 0, 1, 0, 1, 1, 1],\n",
       "       [0, 0, 0, 0, 0, 0, 0, 0, 0, 0, 0],\n",
       "       [0, 0, 0, 0, 0, 0, 0, 0, 0, 0, 0]])"
      ]
     },
     "execution_count": 88,
     "metadata": {},
     "output_type": "execute_result"
    }
   ],
   "source": [
    "arr2"
   ]
  },
  {
   "cell_type": "markdown",
   "id": "9b7d8e25-0455-48bc-b9d3-b029a4cde650",
   "metadata": {},
   "source": [
    "    like this:\n",
    "\n",
    "    #.##..#..#.\n",
    "    #...#......\n",
    "    ......#...#\n",
    "    #...#......\n",
    "    .#.#..#.###\n",
    "    ...........\n",
    "    ...........\n"
   ]
  },
  {
   "cell_type": "code",
   "execution_count": 89,
   "id": "359710a4-a326-4883-964a-bf61f4832f98",
   "metadata": {},
   "outputs": [],
   "source": [
    "x=5\n",
    "arr=arr2\n",
    "\n",
    "assert all(arr[:,x]==0)\n",
    "left=arr[:,:x]\n",
    "right=fliplr(arr[:,x+1:])\n",
    "\n",
    "arr2=left+right\n",
    "arr2[arr2>1]=1\n"
   ]
  },
  {
   "cell_type": "code",
   "execution_count": 90,
   "id": "d6d1efa4-6d1c-48fe-84fd-e1f98355adfb",
   "metadata": {},
   "outputs": [
    {
     "data": {
      "text/plain": [
       "array([[1, 1, 1, 1, 1],\n",
       "       [1, 0, 0, 0, 1],\n",
       "       [1, 0, 0, 0, 1],\n",
       "       [1, 0, 0, 0, 1],\n",
       "       [1, 1, 1, 1, 1],\n",
       "       [0, 0, 0, 0, 0],\n",
       "       [0, 0, 0, 0, 0]])"
      ]
     },
     "execution_count": 90,
     "metadata": {},
     "output_type": "execute_result"
    }
   ],
   "source": [
    "arr2"
   ]
  },
  {
   "cell_type": "code",
   "execution_count": 91,
   "id": "00b49703-0c76-4257-8bdb-d5a14b65d389",
   "metadata": {},
   "outputs": [
    {
     "data": {
      "text/plain": [
       "<matplotlib.image.AxesImage at 0x19dc35610>"
      ]
     },
     "execution_count": 91,
     "metadata": {},
     "output_type": "execute_result"
    },
    {
     "data": {
      "image/png": "[encoded data removed]",
      "text/plain": [
       "<Figure size 432x288 with 1 Axes>"
      ]
     },
     "metadata": {
      "needs_background": "light"
     },
     "output_type": "display_data"
    }
   ],
   "source": [
    "imshow(arr2)"
   ]
  },
  {
   "cell_type": "code",
   "execution_count": 92,
   "id": "276a1c04-3d17-4224-b0e6-e7a62cd904a8",
   "metadata": {},
   "outputs": [
    {
     "data": {
      "text/plain": [
       "'fold along y=7\\nfold along x=5\\n'"
      ]
     },
     "execution_count": 92,
     "metadata": {},
     "output_type": "execute_result"
    }
   ],
   "source": [
    "parts[1]"
   ]
  },
  {
   "cell_type": "code",
   "execution_count": 93,
   "id": "6c07f0d3-75b8-4c31-a401-42d6dce1e1cd",
   "metadata": {},
   "outputs": [],
   "source": [
    "fold_lines=parts[1].strip().split(\"\\n\")"
   ]
  },
  {
   "cell_type": "code",
   "execution_count": 94,
   "id": "9b2f625d-baee-49e2-95dc-9182d6b9bbd2",
   "metadata": {},
   "outputs": [
    {
     "data": {
      "text/plain": [
       "array([[0, 0, 0, 1, 0, 0, 1, 0, 0, 1, 0],\n",
       "       [0, 0, 0, 0, 1, 0, 0, 0, 0, 0, 0],\n",
       "       [0, 0, 0, 0, 0, 0, 0, 0, 0, 0, 0],\n",
       "       [1, 0, 0, 0, 0, 0, 0, 0, 0, 0, 0],\n",
       "       [0, 0, 0, 1, 0, 0, 0, 0, 1, 0, 1],\n",
       "       [0, 0, 0, 0, 0, 0, 0, 0, 0, 0, 0],\n",
       "       [0, 0, 0, 0, 0, 0, 0, 0, 0, 0, 0],\n",
       "       [0, 0, 0, 0, 0, 0, 0, 0, 0, 0, 0],\n",
       "       [0, 0, 0, 0, 0, 0, 0, 0, 0, 0, 0],\n",
       "       [0, 0, 0, 0, 0, 0, 0, 0, 0, 0, 0],\n",
       "       [0, 1, 0, 0, 0, 0, 1, 0, 1, 1, 0],\n",
       "       [0, 0, 0, 0, 1, 0, 0, 0, 0, 0, 0],\n",
       "       [0, 0, 0, 0, 0, 0, 1, 0, 0, 0, 1],\n",
       "       [1, 0, 0, 0, 0, 0, 0, 0, 0, 0, 0],\n",
       "       [1, 0, 1, 0, 0, 0, 0, 0, 0, 0, 0]])"
      ]
     },
     "execution_count": 94,
     "metadata": {},
     "output_type": "execute_result"
    }
   ],
   "source": [
    "im"
   ]
  },
  {
   "cell_type": "code",
   "execution_count": 97,
   "id": "ccf68b00-70dd-405f-8e3f-867db7814dbe",
   "metadata": {},
   "outputs": [
    {
     "data": {
      "text/plain": [
       "<matplotlib.image.AxesImage at 0x19de178b0>"
      ]
     },
     "execution_count": 97,
     "metadata": {},
     "output_type": "execute_result"
    },
    {
     "data": {
      "image/png": "[encoded data removed]",
      "text/plain": [
       "<Figure size 432x288 with 1 Axes>"
      ]
     },
     "metadata": {
      "needs_background": "light"
     },
     "output_type": "display_data"
    }
   ],
   "source": [
    "im2=im.copy()\n",
    "for line in fold_lines:\n",
    "    fold_str=line.split()[-1]\n",
    "    direction=fold_str.split(\"=\")[0]\n",
    "    loc=int(fold_str.split(\"=\")[1])\n",
    "    \n",
    "    if direction==\"y\":\n",
    "        im2=fold(im2,y=loc)\n",
    "    elif direction==\"x\":\n",
    "        im2=fold(im2,x=loc)\n",
    "        \n",
    "    else:\n",
    "        raise ValueError(\"You can't get there from here\")\n",
    "imshow(im2)        "
   ]
  },
  {
   "cell_type": "code",
   "execution_count": 98,
   "id": "ebf80147-1f7d-4d9b-8407-0d5a7f2e32d0",
   "metadata": {},
   "outputs": [],
   "source": [
    "with open('data/day13.txt') as fid:\n",
    "    text=fid.read()"
   ]
  },
  {
   "cell_type": "code",
   "execution_count": 99,
   "id": "ce2230b4-0654-493b-b3ba-ba2911b0275e",
   "metadata": {},
   "outputs": [
    {
     "data": {
      "text/plain": [
       "['724,201\\n596,511\\n883,560\\n637,47\\n869,537\\n251,505\\n851,618\\n980,544\\n818,661\\n1093,390\\n641,95\\n1006,621\\n447,434\\n820,865\\n475,847\\n788,72\\n1066,829\\n1303,882\\n1165,696\\n164,229\\n202,333\\n244,485\\n261,840\\n1116,581\\n976,513\\n550,635\\n1151,728\\n1211,570\\n228,422\\n223,539\\n406,369\\n306,758\\n1247,894\\n760,859\\n826,737\\n340,637\\n1293,47\\n99,187\\n264,553\\n927,523\\n940,189\\n586,313\\n525,67\\n296,581\\n353,694\\n55,264\\n582,491\\n264,154\\n512,394\\n1101,225\\n555,187\\n1021,535\\n805,772\\n783,891\\n403,402\\n1243,94\\n495,593\\n1031,695\\n13,472\\n705,637\\n459,618\\n939,322\\n251,82\\n899,523\\n301,131\\n873,891\\n880,374\\n894,737\\n306,593\\n1257,280\\n88,885\\n621,655\\n38,640\\n514,539\\n1222,885\\n1257,135\\n1191,303\\n1034,715\\n649,738\\n719,103\\n1131,367\\n907,402\\n169,297\\n482,408\\n977,866\\n1280,432\\n1087,803\\n473,810\\n182,546\\n785,155\\n1257,871\\n1091,483\\n310,52\\n758,712\\n870,715\\n1211,772\\n1173,40\\n73,460\\n117,312\\n228,243\\n918,822\\n475,50\\n765,3\\n1113,410\\n127,544\\n880,422\\n291,675\\n1088,187\\n957,506\\n591,791\\n566,437\\n1178,593\\n159,728\\n1237,684\\n490,665\\n929,311\\n641,267\\n966,766\\n1081,253\\n735,649\\n857,750\\n999,367\\n989,221\\n0,185\\n445,395\\n108,168\\n586,761\\n1203,595\\n1115,89\\n838,665\\n487,301\\n289,647\\n903,133\\n251,53\\n887,800\\n1093,443\\n775,684\\n1026,481\\n601,311\\n661,476\\n1198,627\\n0,753\\n1231,786\\n410,821\\n358,742\\n1179,780\\n763,435\\n1077,133\\n927,182\\n681,144\\n497,597\\n1088,483\\n649,476\\n1202,415\\n440,583\\n1198,14\\n104,775\\n619,443\\n410,660\\n1034,656\\n115,575\\n601,728\\n338,222\\n84,301\\n1111,891\\n1211,122\\n653,614\\n1290,282\\n209,582\\n440,43\\n929,583\\n53,166\\n1004,301\\n263,572\\n818,233\\n1183,319\\n228,472\\n1257,166\\n656,329\\n53,135\\n669,267\\n815,593\\n1111,767\\n802,576\\n1226,660\\n1215,800\\n341,218\\n181,422\\n1046,565\\n159,280\\n119,303\\n1027,303\\n147,417\\n571,859\\n1173,261\\n1054,885\\n239,302\\n228,131\\n85,217\\n1231,226\\n137,709\\n21,131\\n1290,612\\n718,845\\n837,782\\n164,141\\n632,467\\n749,313\\n525,379\\n858,561\\n851,786\\n1228,857\\n33,239\\n868,670\\n1183,3\\n248,548\\n328,345\\n898,436\\n438,893\\n823,301\\n820,589\\n937,771\\n875,58\\n790,617\\n64,504\\n95,675\\n508,576\\n729,434\\n186,91\\n1092,392\\n403,166\\n87,514\\n1261,114\\n1141,597\\n217,390\\n689,151\\n457,515\\n585,805\\n1131,360\\n1212,472\\n669,464\\n318,682\\n485,73\\n1154,644\\n738,37\\n1297,870\\n361,207\\n932,238\\n880,264\\n376,738\\n87,380\\n174,94\\n411,819\\n845,633\\n1288,721\\n189,261\\n1294,374\\n72,267\\n649,642\\n156,644\\n517,406\\n705,562\\n1059,614\\n813,856\\n623,702\\n619,462\\n403,728\\n344,52\\n1178,634\\n1275,238\\n656,47\\n1176,169\\n244,821\\n328,121\\n1092,255\\n872,1\\n845,185\\n251,707\\n79,674\\n659,705\\n1048,520\\n1121,709\\n107,768\\n427,334\\n1257,311\\n112,14\\n997,351\\n552,429\\n1064,159\\n1114,453\\n398,306\\n1208,182\\n187,175\\n654,719\\n1225,665\\n735,245\\n1078,245\\n544,598\\n691,238\\n1168,164\\n264,740\\n855,833\\n1260,267\\n661,156\\n333,194\\n1212,870\\n555,803\\n445,11\\n1275,443\\n1067,35\\n783,787\\n785,379\\n162,141\\n661,866\\n873,3\\n321,476\\n1136,800\\n673,47\\n723,800\\n1129,84\\n127,891\\n927,371\\n781,647\\n1099,247\\n1275,3\\n691,891\\n218,639\\n731,626\\n1093,504\\n550,735\\n1019,880\\n477,142\\n147,508\\n392,822\\n542,432\\n209,235\\n410,234\\n895,113\\n107,798\\n7,23\\n119,591\\n709,364\\n1059,340\\n1198,148\\n179,360\\n226,49\\n43,98\\n195,640\\n452,561\\n49,52\\n359,761\\n1307,749\\n1235,392\\n556,355\\n547,58\\n790,725\\n8,683\\n1261,724\\n301,185\\n69,89\\n545,339\\n957,759\\n509,84\\n1235,564\\n663,12\\n1017,743\\n739,332\\n1213,392\\n1067,444\\n291,616\\n969,851\\n353,819\\n669,95\\n902,436\\n127,575\\n887,143\\n671,79\\n796,539\\n865,11\\n289,247\\n465,709\\n605,724\\n194,581\\n1223,788\\n810,771\\n932,208\\n333,225\\n1308,96\\n1257,23\\n709,311\\n87,123\\n845,807\\n845,574\\n552,630\\n1226,234\\n16,374\\n1247,0\\n381,311\\n957,11\\n393,392\\n545,219\\n523,332\\n820,661\\n472,229\\n1079,542\\n99,570\\n311,847\\n1130,500\\n519,135\\n207,434\\n435,235\\n373,499\\n731,368\\n800,348\\n373,771\\n904,861\\n687,192\\n1297,24\\n681,131\\n545,555\\n705,170\\n1009,200\\n63,828\\n1193,582\\n211,647\\n982,495\\n1206,159\\n1014,581\\n284,481\\n1294,394\\n5,156\\n641,627\\n744,885\\n900,212\\n557,887\\n908,289\\n786,856\\n785,515\\n527,61\\n73,684\\n698,637\\n522,294\\n79,226\\n843,175\\n754,315\\n798,606\\n25,730\\n790,169\\n947,686\\n509,646\\n157,38\\n994,451\\n31,702\\n622,453\\n390,742\\n256,558\\n1274,448\\n950,833\\n619,238\\n723,94\\n67,94\\n490,383\\n447,658\\n654,686\\n407,313\\n1054,9\\n982,175\\n1215,766\\n1198,880\\n1054,306\\n1305,156\\n407,245\\n328,208\\n273,787\\n693,807\\n939,751\\n232,245\\n1047,770\\n1063,133\\n87,828\\n1285,409\\n787,803\\n1056,715\\n654,701\\n1201,56\\n865,728\\n1000,318\\n546,31\\n671,63\\n490,29\\n863,658\\n234,841\\n940,481\\n7,460\\n1213,495\\n411,75\\n1280,856\\n949,599\\n743,106\\n301,435\\n390,497\\n416,157\\n411,523\\n1057,12\\n907,492\\n1138,486\\n132,301\\n383,571\\n833,304\\n271,323\\n788,238\\n726,112\\n30,432\\n1288,313\\n688,441\\n605,649\\n982,345\\n174,652\\n527,721\\n284,257\\n927,571\\n623,254\\n1082,243\\n977,669\\n472,665\\n705,724\\n947,768\\n559,800\\n951,133\\n207,460\\n279,247\\n360,833\\n1223,514\\n63,0\\n182,5\\n522,520\\n17,495\\n555,324\\n390,397\\n827,882\\n107,683\\n430,856\\n1150,656\\n579,788\\n769,170\\n164,677\\n1082,651\\n883,894\\n982,656\\n641,198\\n576,320\\n863,210\\n857,144\\n984,549\\n672,766\\n67,800\\n35,443\\n412,682\\n326,529\\n304,621\\n556,539\\n117,669\\n918,72\\n654,47\\n219,388\\n654,753\\n1246,56\\n654,641\\n1250,848\\n562,681\\n72,403\\n1228,305\\n641,422\\n758,856\\n1082,472\\n701,256\\n1077,761\\n820,511\\n755,324\\n658,509\\n960,733\\n801,10\\n769,378\\n430,38\\n647,12\\n129,291\\n201,750\\n522,374\\n837,422\\n75,564\\n977,225\\n609,256\\n855,350\\n1128,5\\n1245,495\\n1240,530\\n591,551\\n555,154\\n45,275\\n381,359\\n922,253\\n1026,257\\n251,280\\n629,798\\n739,371\\n492,708\\n719,551\\n508,318\\n678,427\\n1109,302\\n754,539\\n884,472\\n705,245\\n654,453\\n256,530\\n1184,793\\n79,201\\n731,788\\n1076,53\\n430,264\\n999,54\\n691,432\\n837,810\\n669,696\\n181,810\\n132,520\\n885,641\\n117,480\\n729,460\\n437,891\\n242,212\\n1263,507\\n353,75\\n316,787\\n179,24\\n967,815\\n490,305\\n214,583\\n801,646\\n1278,441\\n1163,392\\n485,521\\n845,709\\n104,159\\n276,715\\n85,229\\n522,145\\n214,851\\n377,257\\n490,661\\n1285,485\\n278,828\\n492,661\\n363,686\\n709,82\\n970,705\\n535,882\\n256,364\\n131,114\\n427,635\\n440,179\\n890,681\\n1029,571\\n360,61\\n78,413\\n746,179\\n1128,889\\n1288,173\\n1213,47\\n321,700\\n137,40\\n720,315\\n1241,89\\n137,807\\n99,539\\n104,287\\n527,891\\n415,116\\n229,253\\n574,605\\n276,686\\n329,838\\n1309,728\\n95,667\\n899,819\\n561,805\\n669,430\\n1206,735\\n1006,313\\n231,542\\n438,669\\n1211,355\\n947,880\\n783,168\\n93,581\\n415,302\\n195,254\\n231,784\\n442,670\\n872,225\\n800,98\\n817,58\\n1079,94\\n341,340\\n131,780\\n426,315\\n1211,826\\n1247,707\\n363,219\\n406,817\\n820,383\\n465,633\\n547,459\\n334,605\\n1115,254\\n927,164\\n5,866\\n239,778\\n97,847\\n271,730\\n75,392\\n438,225\\n326,686\\n570,301\\n564,179\\n195,192\\n1225,217\\n751,367\\n477,116\\n1116,805\\n801,84\\n247,674\\n189,126\\n1101,499\\n1161,570\\n989,418\\n400,491\\n810,123\\n468,397\\n1235,523\\n803,607\\n247,133\\n0,847\\n1146,305\\n884,315\\n164,569\\n913,313\\n412,212\\n112,627\\n209,312\\n711,523\\n427,894\\n1235,140\\n131,803\\n1232,413\\n199,891\\n49,724\\n947,14\\n313,351\\n898,10\\n1277,655\\n887,334\\n982,719\\n1230,829\\n316,222\\n209,728\\n592,845\\n1285,803\\n490,589\\n903,245\\n283,591\\n1197,516\\n197,827\\n619,451\\n509,884\\n1297,43\\n1141,73\\n1131,63\\n584,530\\n820,29\\n107,836\\n251,841\\n529,247\\n400,715\\n607,387\\n301,759\\n1048,374\\n227,707\\n281,771\\n711,607\\n1049,392\\n304,313\\n1235,626\\n209,883\\n452,333\\n30,408\\n403,492\\n510,98\\n933,68\\n161,58\\n1242,693\\n251,389\\n1191,322\\n1131,527\\n1213,439\\n586,201\\n904,369\\n783,319\\n929,359\\n838,348\\n878,411\\n109,443\\n1082,131\\n350,621\\n1048,889\\n326,208\\n763,96\\n132,593\\n84,350\\n1059,82\\n678,467\\n1091,836\\n1235,371\\n582,715\\n641,464\\n55,795\\n293,687\\n723,336\\n341,472\\n371,322\\n555,602\\n840,500\\n199,833\\n455,833\\n169,73\\n97,392\\n783,385\\n623,640\\n1111,840\\n765,891\\n1046,553\\n383,164\\n907,812\\n1131,870\\n1067,892\\n1129,472\\n246,436\\n644,670\\n624,38\\n353,135\\n666,227\\n835,399\\n112,148\\n247,859\\n383,99\\n535,684\\n338,555\\n552,805\\n594,17\\n880,472\\n801,436\\n997,472\\n559,667\\n341,676\\n247,35\\n1193,225\\n1,56\\n545,3\\n1149,58\\n455,710\\n753,887\\n687,640\\n1220,379\\n1115,724\\n1203,574\\n465,320\\n84,772\\n1273,359\\n873,339\\n783,3\\n199,54\\n1193,669\\n264,329\\n246,513\\n33,655\\n1293,495\\n432,187\\n601,871\\n803,47\\n825,373\\n259,110\\n586,245\\n412,436\\n927,347\\n345,775\\n970,257\\n870,311',\n",
       " 'fold along x=655\\nfold along y=447\\nfold along x=327\\nfold along y=223\\nfold along x=163\\nfold along y=111\\nfold along x=81\\nfold along y=55\\nfold along x=40\\nfold along y=27\\nfold along y=13\\nfold along y=6\\n']"
      ]
     },
     "execution_count": 99,
     "metadata": {},
     "output_type": "execute_result"
    }
   ],
   "source": [
    "parts=text.split(\"\\n\\n\")\n",
    "parts"
   ]
  },
  {
   "cell_type": "code",
   "execution_count": 100,
   "id": "7955fa9e-c153-4df0-a1d9-ce7bd5178e18",
   "metadata": {},
   "outputs": [
    {
     "data": {
      "text/plain": [
       "array([[724, 201],\n",
       "       [596, 511],\n",
       "       [883, 560],\n",
       "       ...,\n",
       "       [345, 775],\n",
       "       [970, 257],\n",
       "       [870, 311]])"
      ]
     },
     "execution_count": 100,
     "metadata": {},
     "output_type": "execute_result"
    }
   ],
   "source": [
    "arr_xy=array([(int(x),int(y)) for x, y in  [_.split(\",\") for _ in parts[0].strip().split('\\n')]])\n",
    "arr_xy"
   ]
  },
  {
   "cell_type": "code",
   "execution_count": 113,
   "id": "c82adb9b-6ac3-4403-8956-fd47b7fae855",
   "metadata": {},
   "outputs": [],
   "source": [
    "C,R=arr_xy.max(axis=0)+1\n",
    "C,R=1311,895\n",
    "im=zeros((R,C),int)"
   ]
  },
  {
   "cell_type": "code",
   "execution_count": 114,
   "id": "44e85f6f-35a7-4ed7-884d-8f4e56db0ebe",
   "metadata": {},
   "outputs": [],
   "source": [
    "for x,y in arr_xy:\n",
    "    im[y,x]=1"
   ]
  },
  {
   "cell_type": "code",
   "execution_count": 115,
   "id": "2984bb94-47c0-4bf7-b1e3-f5becfb80e5f",
   "metadata": {},
   "outputs": [
    {
     "data": {
      "text/plain": [
       "<matplotlib.image.AxesImage at 0x19d8e9fa0>"
      ]
     },
     "execution_count": 115,
     "metadata": {},
     "output_type": "execute_result"
    },
    {
     "data": {
      "image/png": "[encoded data removed]",
      "text/plain": [
       "<Figure size 720x864 with 1 Axes>"
      ]
     },
     "metadata": {
      "needs_background": "light"
     },
     "output_type": "display_data"
    }
   ],
   "source": [
    "figure(figsize=(10,12))\n",
    "imshow(im)"
   ]
  },
  {
   "cell_type": "code",
   "execution_count": 116,
   "id": "b17ad66c-2d81-4e6e-a81a-9f1ada3a141e",
   "metadata": {},
   "outputs": [
    {
     "data": {
      "text/plain": [
       "['fold along x=655',\n",
       " 'fold along y=447',\n",
       " 'fold along x=327',\n",
       " 'fold along y=223',\n",
       " 'fold along x=163',\n",
       " 'fold along y=111',\n",
       " 'fold along x=81',\n",
       " 'fold along y=55',\n",
       " 'fold along x=40',\n",
       " 'fold along y=27',\n",
       " 'fold along y=13',\n",
       " 'fold along y=6']"
      ]
     },
     "execution_count": 116,
     "metadata": {},
     "output_type": "execute_result"
    }
   ],
   "source": [
    "fold_lines=parts[1].strip().split(\"\\n\")\n",
    "fold_lines"
   ]
  },
  {
   "cell_type": "markdown",
   "id": "f64a6acf-4e6d-4374-8c6c-438f5a91669f",
   "metadata": {},
   "source": [
    "## Part 1 - first fold"
   ]
  },
  {
   "cell_type": "code",
   "execution_count": 117,
   "id": "4ef399ef-a98f-4ac9-b0ab-48fcfa318a05",
   "metadata": {},
   "outputs": [
    {
     "data": {
      "text/plain": [
       "<matplotlib.image.AxesImage at 0x19dbfe2b0>"
      ]
     },
     "execution_count": 117,
     "metadata": {},
     "output_type": "execute_result"
    },
    {
     "data": {
      "image/png": "[encoded data removed]",
      "text/plain": [
       "<Figure size 432x288 with 1 Axes>"
      ]
     },
     "metadata": {
      "needs_background": "light"
     },
     "output_type": "display_data"
    }
   ],
   "source": [
    "im2=im.copy()\n",
    "line=fold_lines[0]\n",
    "fold_str=line.split()[-1]\n",
    "direction=fold_str.split(\"=\")[0]\n",
    "loc=int(fold_str.split(\"=\")[1])\n",
    "\n",
    "if direction==\"y\":\n",
    "    im2=fold(im2,y=loc)\n",
    "elif direction==\"x\":\n",
    "    im2=fold(im2,x=loc)\n",
    "\n",
    "else:\n",
    "    raise ValueError(\"You can't get there from here\")\n",
    "imshow(im2)        "
   ]
  },
  {
   "cell_type": "code",
   "execution_count": 121,
   "id": "9762541e-8726-4a44-ac22-78f105723841",
   "metadata": {},
   "outputs": [
    {
     "data": {
      "text/plain": [
       "770"
      ]
     },
     "execution_count": 121,
     "metadata": {},
     "output_type": "execute_result"
    }
   ],
   "source": [
    "sum(im2)"
   ]
  },
  {
   "cell_type": "code",
   "execution_count": null,
   "id": "1de32628-799f-4aef-9700-5642935c535e",
   "metadata": {},
   "outputs": [],
   "source": []
  },
  {
   "cell_type": "code",
   "execution_count": null,
   "id": "cc23a595-bb43-453a-8433-05272c3bd598",
   "metadata": {},
   "outputs": [],
   "source": []
  },
  {
   "cell_type": "code",
   "execution_count": null,
   "id": "9fd4277d-38a3-4251-bf18-eeeaaf40103e",
   "metadata": {},
   "outputs": [],
   "source": []
  },
  {
   "cell_type": "code",
   "execution_count": null,
   "id": "e6444784-ae5c-4dec-a7f7-7b00f970c828",
   "metadata": {},
   "outputs": [],
   "source": []
  },
  {
   "cell_type": "code",
   "execution_count": 122,
   "id": "cefffccd-a950-4b18-bdf1-ae8a3d795747",
   "metadata": {},
   "outputs": [
    {
     "data": {
      "text/plain": [
       "<matplotlib.image.AxesImage at 0x19e396bb0>"
      ]
     },
     "execution_count": 122,
     "metadata": {},
     "output_type": "execute_result"
    },
    {
     "data": {
      "image/png": "[encoded data removed]",
      "text/plain": [
       "<Figure size 432x288 with 1 Axes>"
      ]
     },
     "metadata": {
      "needs_background": "light"
     },
     "output_type": "display_data"
    }
   ],
   "source": [
    "im2=im.copy()\n",
    "for line in fold_lines:\n",
    "    fold_str=line.split()[-1]\n",
    "    direction=fold_str.split(\"=\")[0]\n",
    "    loc=int(fold_str.split(\"=\")[1])\n",
    "    \n",
    "    if direction==\"y\":\n",
    "        im2=fold(im2,y=loc)\n",
    "    elif direction==\"x\":\n",
    "        im2=fold(im2,x=loc)\n",
    "        \n",
    "    else:\n",
    "        raise ValueError(\"You can't get there from here\")\n",
    "imshow(im2)        "
   ]
  },
  {
   "cell_type": "code",
   "execution_count": null,
   "id": "0a427c4e-7935-4082-a095-e43835c367b8",
   "metadata": {},
   "outputs": [],
   "source": []
  }
 ],
 "metadata": {
  "kernelspec": {
   "display_name": "Python 3",
   "language": "python",
   "name": "python3"
  },
  "language_info": {
   "codemirror_mode": {
    "name": "ipython",
    "version": 3
   },
   "file_extension": ".py",
   "mimetype": "text/x-python",
   "name": "python",
   "nbconvert_exporter": "python",
   "pygments_lexer": "ipython3",
   "version": "3.8.10"
  }
 },
 "nbformat": 4,
 "nbformat_minor": 5
}
