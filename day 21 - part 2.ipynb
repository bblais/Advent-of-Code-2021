{
 "cells": [
  {
   "cell_type": "markdown",
   "id": "74c1019f-18bd-48dd-b4ec-a66c6b12b7c0",
   "metadata": {},
   "source": [
    "Dirac dice\n",
    "\n",
    "\n",
    "\n",
    "    As you experiment with the die, you feel a little strange. An informational brochure in the compartment explains that this is a quantum die: when you roll it, the universe splits into multiple copies, one copy for each possible outcome of the die. In this case, rolling the die always splits the universe into three copies: one where the outcome of the roll was 1, one where it was 2, and one where it was 3.\n",
    "\n",
    "    The game is played the same as before, although to prevent things from getting too far out of hand, the game now ends when either player's score reaches at least 21.\n",
    "\n",
    "    Using the same starting positions as in the example above, player 1 wins in 444356092776315 universes, while player 2 merely wins in 341960390180808 universes.\n",
    "\n"
   ]
  },
  {
   "cell_type": "markdown",
   "id": "ca5e7eaa-b31b-4cdc-894d-748647d10fee",
   "metadata": {},
   "source": [
    "state = (loc1, loc2, score1, score2, current_player)"
   ]
  },
  {
   "cell_type": "code",
   "execution_count": 1,
   "id": "ec82debb-7295-4fb1-a4ea-b7a7b7f54243",
   "metadata": {},
   "outputs": [],
   "source": [
    "universe_count={}"
   ]
  },
  {
   "cell_type": "code",
   "execution_count": null,
   "id": "2807904c-efaf-4ebf-9e6f-32da4e04b9f0",
   "metadata": {},
   "outputs": [],
   "source": [
    "move=next(R)+next(R)+next(R)\n",
    "die_count+=3\n",
    "\n",
    "locs[player-1]+=move\n",
    "locs[player-1]=(locs[player-1]-1)%10 + 1\n",
    "\n"
   ]
  },
  {
   "cell_type": "code",
   "execution_count": 2,
   "id": "b00d81ca-3f50-4615-87f2-46a1f17f0a12",
   "metadata": {},
   "outputs": [],
   "source": [
    "def initial_state():\n",
    "    return (7,4,0,0,1)"
   ]
  },
  {
   "cell_type": "code",
   "execution_count": 5,
   "id": "d4f0770e-56d7-4b37-a1b0-f3b427f929aa",
   "metadata": {},
   "outputs": [],
   "source": [
    "def possibilities():\n",
    "    counts={}\n",
    "    for r1 in range(3):\n",
    "        for r2 in range(3):\n",
    "            for r3 in range(3):\n",
    "                key=r1+r2+r3+3\n",
    "                if key in counts:\n",
    "                    counts[key]+=1\n",
    "                else:\n",
    "                    counts[key]=1\n",
    "                \n",
    "    return counts"
   ]
  },
  {
   "cell_type": "code",
   "execution_count": 8,
   "id": "44531a7e-38fd-4169-b501-c483512b1368",
   "metadata": {},
   "outputs": [
    {
     "data": {
      "text/plain": [
       "{3: 1, 4: 3, 5: 6, 6: 7, 7: 6, 8: 3, 9: 1}"
      ]
     },
     "execution_count": 8,
     "metadata": {},
     "output_type": "execute_result"
    }
   ],
   "source": [
    "counts=possibilities()\n",
    "counts"
   ]
  },
  {
   "cell_type": "code",
   "execution_count": 10,
   "id": "59079c2b-f278-443b-8c79-63dfce15c19f",
   "metadata": {},
   "outputs": [],
   "source": [
    "universe_wins=[0,0]"
   ]
  },
  {
   "cell_type": "code",
   "execution_count": 11,
   "id": "37a63bda-fc7e-4dc1-87b7-4ab17d61fc9e",
   "metadata": {},
   "outputs": [],
   "source": [
    "def final_state(state):\n",
    "    loc1,loc2,sc1,sc2,player=state\n",
    "    if sc1>=21:\n",
    "        return 1\n",
    "    \n",
    "    if sc2>=21:\n",
    "        return 2\n",
    "    \n",
    "    return False"
   ]
  },
  {
   "cell_type": "code",
   "execution_count": 12,
   "id": "4573f5ad-92b4-488d-a26a-17db6b91f37f",
   "metadata": {},
   "outputs": [],
   "source": [
    "def next_states(state,count):\n",
    "    \n",
    "    val=final_state(state)\n",
    "    if val:\n",
    "        universe_wins[val-1]+=count\n",
    "        return []\n",
    "    \n",
    "    \n",
    "    loc1,loc2,sc1,sc2,player=state\n",
    "    other_player=3-player\n",
    "    \n",
    "    states=[]\n",
    "    for move in possibilities():\n",
    "        if player==1:\n",
    "            new_loc1=((loc1+move)-1)%10+1\n",
    "            new_sc1=sc1+new_loc1\n",
    "            new_loc2=loc2\n",
    "            new_sc2=sc2\n",
    "        elif player==2:\n",
    "            new_loc2=((loc2+move)-1)%10+1\n",
    "            new_loc1=loc1\n",
    "            new_sc2=sc2+new_loc2\n",
    "            new_sc1=sc1\n",
    "            \n",
    "        states.append((new_loc1,new_loc2,new_sc1,new_sc2,other_player))\n",
    "            \n",
    "    return states\n",
    "    \n",
    "    \n",
    "    "
   ]
  },
  {
   "cell_type": "code",
   "execution_count": null,
   "id": "fdb9908e-19af-48f5-97db-2d66a617d3ae",
   "metadata": {},
   "outputs": [],
   "source": [
    "def solve(state):\n",
    "    if state in visited_states:\n",
    "        return []\n",
    "\n",
    "    visited_states.append(state)\n",
    "\n",
    "    if final_state(state):\n",
    "        return [state]\n",
    "\n",
    "    ns=next_states(state)\n",
    "    for next in ns:\n",
    "        solution=solve(next)\n",
    "        if solution:\n",
    "            return solution+[state]\n",
    "\n",
    "    return []"
   ]
  }
 ],
 "metadata": {
  "kernelspec": {
   "display_name": "Python 3",
   "language": "python",
   "name": "python3"
  },
  "language_info": {
   "codemirror_mode": {
    "name": "ipython",
    "version": 3
   },
   "file_extension": ".py",
   "mimetype": "text/x-python",
   "name": "python",
   "nbconvert_exporter": "python",
   "pygments_lexer": "ipython3",
   "version": "3.8.10"
  }
 },
 "nbformat": 4,
 "nbformat_minor": 5
}
