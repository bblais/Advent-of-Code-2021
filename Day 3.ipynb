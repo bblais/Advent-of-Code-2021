{
 "cells": [
  {
   "cell_type": "code",
   "execution_count": 1,
   "id": "ff306316-fc4a-478a-b7b9-d97312e40c11",
   "metadata": {},
   "outputs": [
    {
     "name": "stdout",
     "output_type": "stream",
     "text": [
      "Populating the interactive namespace from numpy and matplotlib\n"
     ]
    }
   ],
   "source": [
    "%pylab inline\n",
    "import pandas as pd\n",
    "from Memory import Storage"
   ]
  },
  {
   "cell_type": "markdown",
   "id": "2c6e82ef-adbc-4a59-81bc-8f4e841394ee",
   "metadata": {},
   "source": [
    "https://adventofcode.com/2021/day/3#part2"
   ]
  },
  {
   "cell_type": "code",
   "execution_count": 2,
   "id": "e8aa1cf9-da7c-41e7-8267-1b7cc57db292",
   "metadata": {},
   "outputs": [],
   "source": [
    "with open('data/day3.txt') as fid:\n",
    "    lines=fid.readlines()"
   ]
  },
  {
   "cell_type": "code",
   "execution_count": 3,
   "id": "807f7ff9-f12c-46f8-9f42-72a46618189e",
   "metadata": {},
   "outputs": [
    {
     "data": {
      "text/plain": [
       "['100100110110\\n',\n",
       " '101110110110\\n',\n",
       " '010100010100\\n',\n",
       " '011001110000\\n',\n",
       " '000000000111\\n',\n",
       " '000010110001\\n',\n",
       " '001111000001\\n',\n",
       " '100010000001\\n',\n",
       " '010100110011\\n',\n",
       " '010000010110\\n']"
      ]
     },
     "execution_count": 3,
     "metadata": {},
     "output_type": "execute_result"
    }
   ],
   "source": [
    "lines[:10]"
   ]
  },
  {
   "cell_type": "code",
   "execution_count": 5,
   "id": "4379669b-9192-49aa-8cb5-42787fd480a6",
   "metadata": {},
   "outputs": [
    {
     "data": {
      "text/plain": [
       "array([[1, 0, 0, ..., 1, 1, 0],\n",
       "       [1, 0, 1, ..., 1, 1, 0],\n",
       "       [0, 1, 0, ..., 1, 0, 0],\n",
       "       ...,\n",
       "       [0, 1, 0, ..., 0, 1, 1],\n",
       "       [0, 0, 0, ..., 0, 1, 0],\n",
       "       [1, 1, 1, ..., 0, 1, 1]])"
      ]
     },
     "execution_count": 5,
     "metadata": {},
     "output_type": "execute_result"
    }
   ],
   "source": [
    "bins=[]\n",
    "for line in lines:\n",
    "    bits=[int(_) for _ in line.strip()]\n",
    "    bins.append(bits)\n",
    "    \n",
    "bins=array(bins)\n",
    "bins"
   ]
  },
  {
   "cell_type": "code",
   "execution_count": 8,
   "id": "06f77fdf-9566-4aa4-99c4-e6079b21db10",
   "metadata": {},
   "outputs": [
    {
     "data": {
      "text/plain": [
       "array([1., 1., 0., 1., 1., 1., 0., 0., 0., 1., 1., 1.])"
      ]
     },
     "execution_count": 8,
     "metadata": {},
     "output_type": "execute_result"
    }
   ],
   "source": [
    "gamma_binary=median(bins,axis=0)\n",
    "gamma_binary"
   ]
  },
  {
   "cell_type": "code",
   "execution_count": 10,
   "id": "7ef85995-af79-4bcd-a5d2-b5d05596c5f4",
   "metadata": {},
   "outputs": [
    {
     "data": {
      "text/plain": [
       "array([11, 10,  9,  8,  7,  6,  5,  4,  3,  2,  1,  0])"
      ]
     },
     "execution_count": 10,
     "metadata": {},
     "output_type": "execute_result"
    }
   ],
   "source": [
    "p=arange(len(gamma_binary)-1,-1,-1)\n",
    "p"
   ]
  },
  {
   "cell_type": "code",
   "execution_count": 11,
   "id": "48549df5-30bc-4b6d-92a6-033e35971842",
   "metadata": {},
   "outputs": [
    {
     "data": {
      "text/plain": [
       "3527.0"
      ]
     },
     "execution_count": 11,
     "metadata": {},
     "output_type": "execute_result"
    }
   ],
   "source": [
    "gamma=(gamma_binary*2**p).sum()\n",
    "gamma"
   ]
  },
  {
   "cell_type": "code",
   "execution_count": 13,
   "id": "9c5d6ce3-4b63-4a45-a30f-6e8807954883",
   "metadata": {},
   "outputs": [
    {
     "data": {
      "text/plain": [
       "568.0"
      ]
     },
     "execution_count": 13,
     "metadata": {},
     "output_type": "execute_result"
    }
   ],
   "source": [
    "epsilon=((1-gamma_binary)*2**p).sum()\n",
    "epsilon"
   ]
  },
  {
   "cell_type": "code",
   "execution_count": 14,
   "id": "1eb5a4c4-7232-4381-b12a-7c267debacd7",
   "metadata": {},
   "outputs": [
    {
     "data": {
      "text/plain": [
       "2003336.0"
      ]
     },
     "execution_count": 14,
     "metadata": {},
     "output_type": "execute_result"
    }
   ],
   "source": [
    "gamma*epsilon"
   ]
  },
  {
   "cell_type": "code",
   "execution_count": 15,
   "id": "54c6bb78-41d6-4660-9330-43ea99f14de2",
   "metadata": {},
   "outputs": [
    {
     "data": {
      "text/plain": [
       "0.5"
      ]
     },
     "execution_count": 15,
     "metadata": {},
     "output_type": "execute_result"
    }
   ],
   "source": [
    "median([0,1])"
   ]
  },
  {
   "cell_type": "code",
   "execution_count": 16,
   "id": "b27b9b83-73bc-4503-811c-0640efefd49f",
   "metadata": {},
   "outputs": [
    {
     "data": {
      "text/plain": [
       "array([[1, 0, 0, ..., 1, 1, 0],\n",
       "       [1, 0, 1, ..., 1, 1, 0],\n",
       "       [0, 1, 0, ..., 1, 0, 0],\n",
       "       ...,\n",
       "       [0, 1, 0, ..., 0, 1, 1],\n",
       "       [0, 0, 0, ..., 0, 1, 0],\n",
       "       [1, 1, 1, ..., 0, 1, 1]])"
      ]
     },
     "execution_count": 16,
     "metadata": {},
     "output_type": "execute_result"
    }
   ],
   "source": [
    "bins"
   ]
  },
  {
   "cell_type": "code",
   "execution_count": 17,
   "id": "ace161d8-c2a1-4b7c-b7b0-22c90164fc7f",
   "metadata": {},
   "outputs": [],
   "source": [
    "c=0"
   ]
  },
  {
   "cell_type": "code",
   "execution_count": 22,
   "id": "4ce70562-d031-4e50-81d6-29071fe5c790",
   "metadata": {},
   "outputs": [],
   "source": [
    "m=median(bins[:,0])\n",
    "if m>0:\n",
    "    m=1\n",
    "else:\n",
    "    m=0"
   ]
  },
  {
   "cell_type": "code",
   "execution_count": 23,
   "id": "efefef7b-598e-4a98-97fd-2e7324867d1d",
   "metadata": {},
   "outputs": [],
   "source": [
    "bins2=bins[bins[:,0]==m]"
   ]
  },
  {
   "cell_type": "code",
   "execution_count": 24,
   "id": "f49dbe17-91ec-4fd8-a51c-81c4d70dbf2c",
   "metadata": {},
   "outputs": [
    {
     "data": {
      "text/plain": [
       "array([[1, 0, 0, ..., 1, 1, 0],\n",
       "       [1, 0, 1, ..., 1, 1, 0],\n",
       "       [1, 0, 0, ..., 0, 0, 1],\n",
       "       ...,\n",
       "       [1, 1, 0, ..., 0, 1, 0],\n",
       "       [1, 1, 0, ..., 1, 1, 1],\n",
       "       [1, 1, 1, ..., 0, 1, 1]])"
      ]
     },
     "execution_count": 24,
     "metadata": {},
     "output_type": "execute_result"
    }
   ],
   "source": [
    "bins2"
   ]
  },
  {
   "cell_type": "code",
   "execution_count": 33,
   "id": "7f89bf56-0e6e-4a0f-9fb1-2bbd62323dfc",
   "metadata": {},
   "outputs": [],
   "source": [
    "lines=\"\"\"\n",
    "00100\n",
    "11110\n",
    "10110\n",
    "10111\n",
    "10101\n",
    "01111\n",
    "00111\n",
    "11100\n",
    "10000\n",
    "11001\n",
    "00010\n",
    "01010\n",
    "\"\"\".strip().split('\\n')"
   ]
  },
  {
   "cell_type": "code",
   "execution_count": 61,
   "id": "63f9558e-c55d-4864-9b72-3077f7c0e9e3",
   "metadata": {},
   "outputs": [],
   "source": [
    "with open('data/day3.txt') as fid:\n",
    "    lines=fid.readlines()"
   ]
  },
  {
   "cell_type": "code",
   "execution_count": 62,
   "id": "6f1b0469-fee9-40b2-8b75-94a1614ad4c0",
   "metadata": {},
   "outputs": [
    {
     "data": {
      "text/plain": [
       "array([[1, 0, 0, ..., 1, 1, 0],\n",
       "       [1, 0, 1, ..., 1, 1, 0],\n",
       "       [0, 1, 0, ..., 1, 0, 0],\n",
       "       ...,\n",
       "       [0, 1, 0, ..., 0, 1, 1],\n",
       "       [0, 0, 0, ..., 0, 1, 0],\n",
       "       [1, 1, 1, ..., 0, 1, 1]])"
      ]
     },
     "execution_count": 62,
     "metadata": {},
     "output_type": "execute_result"
    }
   ],
   "source": [
    "bins=[]\n",
    "for line in lines:\n",
    "    bits=[int(_) for _ in line.strip()]\n",
    "    bins.append(bits)\n",
    "    \n",
    "bins=array(bins)\n",
    "bins"
   ]
  },
  {
   "cell_type": "code",
   "execution_count": null,
   "id": "555b9264-d7eb-47ec-872a-ab0f330101e6",
   "metadata": {},
   "outputs": [],
   "source": []
  },
  {
   "cell_type": "code",
   "execution_count": 63,
   "id": "2d89c55a-cb26-467a-8f79-13b727168655",
   "metadata": {},
   "outputs": [
    {
     "name": "stdout",
     "output_type": "stream",
     "text": [
      "1000\n",
      "509\n",
      "256\n",
      "133\n",
      "70\n",
      "38\n",
      "23\n",
      "12\n",
      "8\n",
      "5\n",
      "3\n",
      "2\n",
      "1\n"
     ]
    },
    {
     "data": {
      "text/plain": [
       "array([[1, 0, 0, 1, 1, 1, 1, 1, 0, 0, 1, 1]])"
      ]
     },
     "execution_count": 63,
     "metadata": {},
     "output_type": "execute_result"
    }
   ],
   "source": [
    "c=0\n",
    "print(bins.shape[0])\n",
    "while bins.shape[0]>1:\n",
    "    m=median(bins[:,c])\n",
    "    if m>0:\n",
    "        m=1\n",
    "    else:\n",
    "        m=0   \n",
    "        \n",
    "    bins=bins[bins[:,c]==m]\n",
    "    print(bins.shape[0])\n",
    "    c+=1\n",
    "    \n",
    "bins"
   ]
  },
  {
   "cell_type": "code",
   "execution_count": 64,
   "id": "28b5a196-6838-4c52-b602-9350bc92d78a",
   "metadata": {},
   "outputs": [
    {
     "data": {
      "text/plain": [
       "2547"
      ]
     },
     "execution_count": 64,
     "metadata": {},
     "output_type": "execute_result"
    }
   ],
   "source": [
    "O2=(bins*2**p).sum()\n",
    "O2"
   ]
  },
  {
   "cell_type": "code",
   "execution_count": 65,
   "id": "9929a5e3-4dd9-4527-a8d2-e6e71c0f6d7a",
   "metadata": {},
   "outputs": [],
   "source": [
    "lines=\"\"\"\n",
    "00100\n",
    "11110\n",
    "10110\n",
    "10111\n",
    "10101\n",
    "01111\n",
    "00111\n",
    "11100\n",
    "10000\n",
    "11001\n",
    "00010\n",
    "01010\n",
    "\"\"\".strip().split('\\n')"
   ]
  },
  {
   "cell_type": "code",
   "execution_count": 66,
   "id": "18ad1355-d292-4a58-9875-8a0841d8a221",
   "metadata": {},
   "outputs": [],
   "source": [
    "with open('data/day3.txt') as fid:\n",
    "    lines=fid.readlines()"
   ]
  },
  {
   "cell_type": "code",
   "execution_count": 67,
   "id": "7a7e5969-f8d2-4848-be56-f6fad987ea29",
   "metadata": {},
   "outputs": [
    {
     "data": {
      "text/plain": [
       "array([[1, 0, 0, ..., 1, 1, 0],\n",
       "       [1, 0, 1, ..., 1, 1, 0],\n",
       "       [0, 1, 0, ..., 1, 0, 0],\n",
       "       ...,\n",
       "       [0, 1, 0, ..., 0, 1, 1],\n",
       "       [0, 0, 0, ..., 0, 1, 0],\n",
       "       [1, 1, 1, ..., 0, 1, 1]])"
      ]
     },
     "execution_count": 67,
     "metadata": {},
     "output_type": "execute_result"
    }
   ],
   "source": [
    "bins=[]\n",
    "for line in lines:\n",
    "    bits=[int(_) for _ in line.strip()]\n",
    "    bins.append(bits)\n",
    "    \n",
    "bins=array(bins)\n",
    "bins"
   ]
  },
  {
   "cell_type": "code",
   "execution_count": 68,
   "id": "a4e465fe-1a1c-4707-aa15-2fbdf5a83f45",
   "metadata": {},
   "outputs": [
    {
     "name": "stdout",
     "output_type": "stream",
     "text": [
      "1000\n",
      "491\n",
      "222\n",
      "105\n",
      "50\n",
      "23\n",
      "9\n",
      "4\n",
      "2\n",
      "1\n"
     ]
    },
    {
     "data": {
      "text/plain": [
       "array([[0, 0, 1, 0, 1, 1, 1, 0, 0, 0, 0, 1]])"
      ]
     },
     "execution_count": 68,
     "metadata": {},
     "output_type": "execute_result"
    }
   ],
   "source": [
    "c=0\n",
    "print(bins.shape[0])\n",
    "while bins.shape[0]>1:\n",
    "    m=median(bins[:,c])\n",
    "    m=1-m # least popular\n",
    "    if m<1:\n",
    "        m=0\n",
    "    else:\n",
    "        m=1   \n",
    "        \n",
    "    \n",
    "    #print(c,m,median(bins[:,c]),bins[:,c])\n",
    "    bins=bins[bins[:,c]==m]\n",
    "    #print(bins)\n",
    "    print(bins.shape[0])\n",
    "    c+=1\n",
    "    \n",
    "bins"
   ]
  },
  {
   "cell_type": "code",
   "execution_count": 69,
   "id": "d8f34e14-8144-4005-91a8-0e6155b278eb",
   "metadata": {},
   "outputs": [
    {
     "data": {
      "text/plain": [
       "737"
      ]
     },
     "execution_count": 69,
     "metadata": {},
     "output_type": "execute_result"
    }
   ],
   "source": [
    "CO2=(bins*2**p).sum()\n",
    "CO2"
   ]
  },
  {
   "cell_type": "code",
   "execution_count": 70,
   "id": "660683d2-482e-47a4-a9c2-4689887894b2",
   "metadata": {},
   "outputs": [
    {
     "data": {
      "text/plain": [
       "1877139"
      ]
     },
     "execution_count": 70,
     "metadata": {},
     "output_type": "execute_result"
    }
   ],
   "source": [
    "O2*CO2"
   ]
  },
  {
   "cell_type": "code",
   "execution_count": null,
   "id": "819982b8-ea17-4305-bb81-52e4a37e4543",
   "metadata": {},
   "outputs": [],
   "source": []
  }
 ],
 "metadata": {
  "kernelspec": {
   "display_name": "Python 3",
   "language": "python",
   "name": "python3"
  },
  "language_info": {
   "codemirror_mode": {
    "name": "ipython",
    "version": 3
   },
   "file_extension": ".py",
   "mimetype": "text/x-python",
   "name": "python",
   "nbconvert_exporter": "python",
   "pygments_lexer": "ipython3",
   "version": "3.8.10"
  }
 },
 "nbformat": 4,
 "nbformat_minor": 5
}
