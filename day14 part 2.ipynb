{
 "cells": [
  {
   "cell_type": "code",
   "execution_count": 16,
   "id": "a9ef4493-e84f-416a-83b8-ed59a5dd9203",
   "metadata": {},
   "outputs": [],
   "source": [
    "text=\"\"\"\n",
    "NNCB\n",
    "\n",
    "CH -> B\n",
    "HH -> N\n",
    "CB -> H\n",
    "NH -> C\n",
    "HB -> C\n",
    "HC -> B\n",
    "HN -> C\n",
    "NN -> C\n",
    "BH -> H\n",
    "NC -> B\n",
    "NB -> B\n",
    "BN -> B\n",
    "BB -> N\n",
    "BC -> B\n",
    "CC -> N\n",
    "CN -> C\n",
    "\"\"\"\n",
    "parts=text.split(\"\\n\\n\")\n",
    "start=parts[0].strip()\n",
    "insertion_rules={}\n",
    "for m in parts[1].strip().split(\"\\n\"):\n",
    "    if not m:\n",
    "        continue\n",
    "    key=m.split(\"->\")[0].strip()\n",
    "    char=m.split(\"->\")[1].strip()    \n",
    "    insertion_rules[key]=char"
   ]
  },
  {
   "cell_type": "code",
   "execution_count": 17,
   "id": "110c85b9-05bd-4cb0-b696-dacad8a3dd33",
   "metadata": {},
   "outputs": [],
   "source": [
    "def pairs(S):\n",
    "    for c1,c2 in zip(S[:-1],S[1:]):\n",
    "        yield c1+c2"
   ]
  },
  {
   "cell_type": "code",
   "execution_count": 98,
   "id": "5b1d3e31-a248-4cfb-80a0-e441d5355378",
   "metadata": {},
   "outputs": [],
   "source": [
    "def get_pair_counts(start):\n",
    "    pair_counts={}\n",
    "    for p in pairs(start):\n",
    "        if not p in pair_counts:\n",
    "            pair_counts[p]=1\n",
    "        else:\n",
    "            pair_counts[p]+=1\n",
    "\n",
    "    return pair_counts    "
   ]
  },
  {
   "cell_type": "code",
   "execution_count": 100,
   "id": "f3f2d53d-3245-421b-95c5-064b5c3da1ea",
   "metadata": {},
   "outputs": [
    {
     "data": {
      "text/plain": [
       "{'NN': 1, 'NC': 1, 'CB': 1}"
      ]
     },
     "execution_count": 100,
     "metadata": {},
     "output_type": "execute_result"
    }
   ],
   "source": [
    "pair_counts=get_pair_counts(start)\n",
    "pair_counts"
   ]
  },
  {
   "cell_type": "code",
   "execution_count": 101,
   "id": "6b994799-d8c8-4d06-89da-ddf824973443",
   "metadata": {},
   "outputs": [],
   "source": [
    "def step_pair(pair_counts):\n",
    "    new_pair_counts={}\n",
    "\n",
    "    for pair in pair_counts:\n",
    "        insert_char=insertion_rules[pair]\n",
    "        \n",
    "        for p in [pair[0]+insert_char,insert_char+pair[1]]:\n",
    "#             print(p)\n",
    "            if not p in new_pair_counts:\n",
    "                new_pair_counts[p]=pair_counts[pair]\n",
    "            else:\n",
    "                new_pair_counts[p]+=pair_counts[pair]\n",
    "#             print(\"\\t\",new_pair_counts)\n",
    "        \n",
    "        \n",
    "    return new_pair_counts\n",
    "\n",
    "def step(start):\n",
    "    new_str=\"\"\n",
    "    for p in pairs(start):\n",
    "        insert_char=insertion_rules[p]\n",
    "        new_str=new_str+p[0]+insert_char\n",
    "\n",
    "    new_str=new_str+p[1]\n",
    "    return new_str"
   ]
  },
  {
   "cell_type": "code",
   "execution_count": 102,
   "id": "97304ad2-a206-48cd-b1f7-c5d53fe7aa16",
   "metadata": {},
   "outputs": [
    {
     "data": {
      "text/plain": [
       "({'NN': 1, 'NC': 1, 'CB': 1}, 'NNCB')"
      ]
     },
     "execution_count": 102,
     "metadata": {},
     "output_type": "execute_result"
    }
   ],
   "source": [
    "\n",
    "new_pc=pair_counts\n",
    "new_pc,start\n"
   ]
  },
  {
   "cell_type": "code",
   "execution_count": 103,
   "id": "7a3353b5-7e63-4046-bd42-38a5dda57a61",
   "metadata": {},
   "outputs": [
    {
     "data": {
      "text/plain": [
       "'NCNBCHB'"
      ]
     },
     "execution_count": 103,
     "metadata": {},
     "output_type": "execute_result"
    }
   ],
   "source": [
    "step(start)"
   ]
  },
  {
   "cell_type": "code",
   "execution_count": 104,
   "id": "42f84353-d3b9-4c18-a53c-61601a3b4c03",
   "metadata": {},
   "outputs": [
    {
     "data": {
      "text/plain": [
       "{'NC': 1, 'CN': 1, 'NB': 1, 'BC': 1, 'CH': 1, 'HB': 1}"
      ]
     },
     "execution_count": 104,
     "metadata": {},
     "output_type": "execute_result"
    }
   ],
   "source": [
    "step_pair(new_pc)"
   ]
  },
  {
   "cell_type": "code",
   "execution_count": 105,
   "id": "651f7b25-f56d-4dd7-857e-9ff3edecf670",
   "metadata": {},
   "outputs": [],
   "source": [
    "strings=[]\n",
    "strings.append(start)\n",
    "new_str=start\n",
    "for i in range(2):\n",
    "    new_str=step(new_str)\n",
    "    strings.append(new_str)"
   ]
  },
  {
   "cell_type": "code",
   "execution_count": 106,
   "id": "b01dd532-2a1c-4b3c-b8a4-44a3b21e3ab7",
   "metadata": {},
   "outputs": [
    {
     "data": {
      "text/plain": [
       "'NBCCNBBBCBHCB'"
      ]
     },
     "execution_count": 106,
     "metadata": {},
     "output_type": "execute_result"
    }
   ],
   "source": [
    "strings[-1]"
   ]
  },
  {
   "cell_type": "code",
   "execution_count": 107,
   "id": "4ed0fe65-0b4a-49eb-917f-f5848cd0c640",
   "metadata": {},
   "outputs": [
    {
     "data": {
      "text/plain": [
       "([6, 1, 2, 4], {'B', 'C', 'H', 'N'})"
      ]
     },
     "execution_count": 107,
     "metadata": {},
     "output_type": "execute_result"
    }
   ],
   "source": [
    "charset=set(strings[-1])\n",
    "counts=[strings[-1].count(c) for c in charset]\n",
    "counts,charset"
   ]
  },
  {
   "cell_type": "code",
   "execution_count": 108,
   "id": "5edfdbe4-1706-4a65-b17b-f346ae8f0d0b",
   "metadata": {},
   "outputs": [
    {
     "data": {
      "text/plain": [
       "5"
      ]
     },
     "execution_count": 108,
     "metadata": {},
     "output_type": "execute_result"
    }
   ],
   "source": [
    "max(counts)-min(counts)"
   ]
  },
  {
   "cell_type": "code",
   "execution_count": 109,
   "id": "61872761-6a03-40d3-8c1c-31b24ab65d79",
   "metadata": {},
   "outputs": [
    {
     "name": "stdout",
     "output_type": "stream",
     "text": [
      "{'NN': 1, 'NC': 1, 'CB': 1}\n",
      "{'NB': 2, 'BC': 2, 'CC': 1, 'CN': 1, 'BB': 2, 'CB': 2, 'BH': 1, 'HC': 1}\n"
     ]
    }
   ],
   "source": [
    "new_pc=pair_counts\n",
    "print(new_pc)\n",
    "for i in range(2):\n",
    "    new_pc=step_pair(new_pc)\n",
    "print(new_pc)\n",
    "    "
   ]
  },
  {
   "cell_type": "code",
   "execution_count": 110,
   "id": "90db64ea-c731-4b37-a2cb-56ce2b968dec",
   "metadata": {},
   "outputs": [
    {
     "data": {
      "text/plain": [
       "{'NB': 2, 'BC': 2, 'CC': 1, 'CN': 1, 'BB': 2, 'CB': 2, 'BH': 1, 'HC': 1}"
      ]
     },
     "execution_count": 110,
     "metadata": {},
     "output_type": "execute_result"
    }
   ],
   "source": [
    "get_pair_counts(strings[-1])"
   ]
  },
  {
   "cell_type": "code",
   "execution_count": 120,
   "id": "23bd47c9-051b-4fde-986a-acf231a12937",
   "metadata": {},
   "outputs": [],
   "source": [
    "fake_str=\"\"\n",
    "keys=list(new_pc.keys())\n",
    "\n",
    "c='N'\n",
    "e='B'\n",
    "for key in keys:\n",
    "    if key.endswith(e) and not key.startswith(c):\n",
    "        break\n",
    "end_key=key\n",
    "\n",
    "while keys:\n",
    "    if keys==[end_key]:\n",
    "        key=end_key\n",
    "    else:\n",
    "        for key in keys:\n",
    "            if key.startswith(c) and key!=end_key:\n",
    "                break\n",
    "            \n",
    "    keys.remove(key)\n",
    "    fake_str+=key*new_pc[key]\n",
    "    c=key[1]\n",
    "    "
   ]
  },
  {
   "cell_type": "code",
   "execution_count": 121,
   "id": "7a1cf5f2-63d7-4332-adcb-57f95420a4ec",
   "metadata": {},
   "outputs": [
    {
     "data": {
      "text/plain": [
       "'NNCB'"
      ]
     },
     "execution_count": 121,
     "metadata": {},
     "output_type": "execute_result"
    }
   ],
   "source": [
    "start"
   ]
  },
  {
   "cell_type": "code",
   "execution_count": 122,
   "id": "21bed177-ad88-471a-8236-385e83f7fc2f",
   "metadata": {},
   "outputs": [
    {
     "data": {
      "text/plain": [
       "'NBNBBCBCCCCNHCCBCBBHBBBB'"
      ]
     },
     "execution_count": 122,
     "metadata": {},
     "output_type": "execute_result"
    }
   ],
   "source": [
    "fake_str"
   ]
  },
  {
   "cell_type": "code",
   "execution_count": 123,
   "id": "e9a5e369-2b0c-42bf-a218-5a676689a990",
   "metadata": {},
   "outputs": [
    {
     "data": {
      "text/plain": [
       "{'NB': 2,\n",
       " 'BN': 1,\n",
       " 'BB': 5,\n",
       " 'BC': 3,\n",
       " 'CB': 3,\n",
       " 'CC': 4,\n",
       " 'CN': 1,\n",
       " 'NH': 1,\n",
       " 'HC': 1,\n",
       " 'BH': 1,\n",
       " 'HB': 1}"
      ]
     },
     "execution_count": 123,
     "metadata": {},
     "output_type": "execute_result"
    }
   ],
   "source": [
    "get_pair_counts(fake_str)"
   ]
  },
  {
   "cell_type": "code",
   "execution_count": 112,
   "id": "14f5ef95-a4f3-40f4-a6bf-95027716f287",
   "metadata": {},
   "outputs": [
    {
     "data": {
      "text/plain": [
       "([11, 2, 3, 8], {'B', 'C', 'H', 'N'})"
      ]
     },
     "execution_count": 112,
     "metadata": {},
     "output_type": "execute_result"
    }
   ],
   "source": [
    "charset=set(fake_str)\n",
    "counts=[fake_str.count(c) for c in charset]\n",
    "counts,charset"
   ]
  },
  {
   "cell_type": "code",
   "execution_count": 82,
   "id": "774b857c-5ed4-4785-8acc-3c990d8d7867",
   "metadata": {},
   "outputs": [
    {
     "data": {
      "text/plain": [
       "{'NB': 14,\n",
       " 'BN': 14,\n",
       " 'BB': 20,\n",
       " 'NN': 2,\n",
       " 'NC': 3,\n",
       " 'CC': 6,\n",
       " 'CN': 3,\n",
       " 'NH': 2,\n",
       " 'HH': 2,\n",
       " 'HC': 3,\n",
       " 'CH': 3,\n",
       " 'CB': 8,\n",
       " 'BC': 8,\n",
       " 'HN': 1,\n",
       " 'HB': 3,\n",
       " 'BH': 3}"
      ]
     },
     "execution_count": 82,
     "metadata": {},
     "output_type": "execute_result"
    }
   ],
   "source": [
    "pair_counts={}\n",
    "for p in pairs(fake_str):\n",
    "    if not p in pair_counts:\n",
    "        pair_counts[p]=1\n",
    "    else:\n",
    "        pair_counts[p]+=1\n",
    "        \n",
    "pair_counts"
   ]
  },
  {
   "cell_type": "code",
   "execution_count": null,
   "id": "3e3d3226-8240-4cd5-97ed-97e52b308dcd",
   "metadata": {},
   "outputs": [],
   "source": []
  }
 ],
 "metadata": {
  "kernelspec": {
   "display_name": "Python 3",
   "language": "python",
   "name": "python3"
  },
  "language_info": {
   "codemirror_mode": {
    "name": "ipython",
    "version": 3
   },
   "file_extension": ".py",
   "mimetype": "text/x-python",
   "name": "python",
   "nbconvert_exporter": "python",
   "pygments_lexer": "ipython3",
   "version": "3.8.10"
  }
 },
 "nbformat": 4,
 "nbformat_minor": 5
}
