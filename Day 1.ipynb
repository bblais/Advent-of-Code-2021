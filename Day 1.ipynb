{
 "cells": [
  {
   "cell_type": "code",
   "execution_count": 3,
   "id": "2b298ccd-0ba1-47d6-846a-3322ce431928",
   "metadata": {},
   "outputs": [
    {
     "name": "stdout",
     "output_type": "stream",
     "text": [
      "Populating the interactive namespace from numpy and matplotlib\n"
     ]
    }
   ],
   "source": [
    "%pylab inline\n",
    "import pandas as pd"
   ]
  },
  {
   "cell_type": "code",
   "execution_count": 5,
   "id": "e71d57e1-6d9d-4f06-b160-6576d8126121",
   "metadata": {},
   "outputs": [
    {
     "data": {
      "text/plain": [
       "array([  191.,   185.,   188., ..., 10515., 10525., 10526.])"
      ]
     },
     "execution_count": 5,
     "metadata": {},
     "output_type": "execute_result"
    }
   ],
   "source": [
    "data=loadtxt('data/day1.txt')\n",
    "data"
   ]
  },
  {
   "cell_type": "code",
   "execution_count": 8,
   "id": "95d19aa0-a4c3-4281-944e-fdcb76502a6c",
   "metadata": {},
   "outputs": [
    {
     "data": {
      "text/plain": [
       "1709"
      ]
     },
     "execution_count": 8,
     "metadata": {},
     "output_type": "execute_result"
    }
   ],
   "source": [
    "sum(diff(data)>0)"
   ]
  },
  {
   "cell_type": "code",
   "execution_count": 9,
   "id": "f11cd1b4-ac90-4119-b458-eb76a0067d2b",
   "metadata": {},
   "outputs": [
    {
     "data": {
      "text/plain": [
       "\u001b[0;31mSignature:\u001b[0m \u001b[0mconvolve\u001b[0m\u001b[0;34m(\u001b[0m\u001b[0ma\u001b[0m\u001b[0;34m,\u001b[0m \u001b[0mv\u001b[0m\u001b[0;34m,\u001b[0m \u001b[0mmode\u001b[0m\u001b[0;34m=\u001b[0m\u001b[0;34m'full'\u001b[0m\u001b[0;34m)\u001b[0m\u001b[0;34m\u001b[0m\u001b[0;34m\u001b[0m\u001b[0m\n",
       "\u001b[0;31mDocstring:\u001b[0m\n",
       "Returns the discrete, linear convolution of two one-dimensional sequences.\n",
       "\n",
       "The convolution operator is often seen in signal processing, where it\n",
       "models the effect of a linear time-invariant system on a signal [1]_.  In\n",
       "probability theory, the sum of two independent random variables is\n",
       "distributed according to the convolution of their individual\n",
       "distributions.\n",
       "\n",
       "If `v` is longer than `a`, the arrays are swapped before computation.\n",
       "\n",
       "Parameters\n",
       "----------\n",
       "a : (N,) array_like\n",
       "    First one-dimensional input array.\n",
       "v : (M,) array_like\n",
       "    Second one-dimensional input array.\n",
       "mode : {'full', 'valid', 'same'}, optional\n",
       "    'full':\n",
       "      By default, mode is 'full'.  This returns the convolution\n",
       "      at each point of overlap, with an output shape of (N+M-1,). At\n",
       "      the end-points of the convolution, the signals do not overlap\n",
       "      completely, and boundary effects may be seen.\n",
       "\n",
       "    'same':\n",
       "      Mode 'same' returns output of length ``max(M, N)``.  Boundary\n",
       "      effects are still visible.\n",
       "\n",
       "    'valid':\n",
       "      Mode 'valid' returns output of length\n",
       "      ``max(M, N) - min(M, N) + 1``.  The convolution product is only given\n",
       "      for points where the signals overlap completely.  Values outside\n",
       "      the signal boundary have no effect.\n",
       "\n",
       "Returns\n",
       "-------\n",
       "out : ndarray\n",
       "    Discrete, linear convolution of `a` and `v`.\n",
       "\n",
       "See Also\n",
       "--------\n",
       "scipy.signal.fftconvolve : Convolve two arrays using the Fast Fourier\n",
       "                           Transform.\n",
       "scipy.linalg.toeplitz : Used to construct the convolution operator.\n",
       "polymul : Polynomial multiplication. Same output as convolve, but also\n",
       "          accepts poly1d objects as input.\n",
       "\n",
       "Notes\n",
       "-----\n",
       "The discrete convolution operation is defined as\n",
       "\n",
       ".. math:: (a * v)[n] = \\sum_{m = -\\infty}^{\\infty} a[m] v[n - m]\n",
       "\n",
       "It can be shown that a convolution :math:`x(t) * y(t)` in time/space\n",
       "is equivalent to the multiplication :math:`X(f) Y(f)` in the Fourier\n",
       "domain, after appropriate padding (padding is necessary to prevent\n",
       "circular convolution).  Since multiplication is more efficient (faster)\n",
       "than convolution, the function `scipy.signal.fftconvolve` exploits the\n",
       "FFT to calculate the convolution of large data-sets.\n",
       "\n",
       "References\n",
       "----------\n",
       ".. [1] Wikipedia, \"Convolution\",\n",
       "    https://en.wikipedia.org/wiki/Convolution\n",
       "\n",
       "Examples\n",
       "--------\n",
       "Note how the convolution operator flips the second array\n",
       "before \"sliding\" the two across one another:\n",
       "\n",
       ">>> np.convolve([1, 2, 3], [0, 1, 0.5])\n",
       "array([0. , 1. , 2.5, 4. , 1.5])\n",
       "\n",
       "Only return the middle values of the convolution.\n",
       "Contains boundary effects, where zeros are taken\n",
       "into account:\n",
       "\n",
       ">>> np.convolve([1,2,3],[0,1,0.5], 'same')\n",
       "array([1. ,  2.5,  4. ])\n",
       "\n",
       "The two arrays are of the same length, so there\n",
       "is only one position where they completely overlap:\n",
       "\n",
       ">>> np.convolve([1,2,3],[0,1,0.5], 'valid')\n",
       "array([2.5])\n",
       "\u001b[0;31mFile:\u001b[0m      ~/opt/anaconda3/envs/py3/lib/python3.8/site-packages/numpy/core/numeric.py\n",
       "\u001b[0;31mType:\u001b[0m      function\n"
      ]
     },
     "metadata": {},
     "output_type": "display_data"
    }
   ],
   "source": [
    "convolve?"
   ]
  },
  {
   "cell_type": "code",
   "execution_count": 12,
   "id": "c7ef0339-ee28-49d8-83b7-2aa7a76a11d9",
   "metadata": {},
   "outputs": [],
   "source": [
    "new_data=convolve(data,[1,1,1],'valid')"
   ]
  },
  {
   "cell_type": "code",
   "execution_count": 13,
   "id": "24512291-6c6f-4afc-b8d7-59d59ccdc077",
   "metadata": {},
   "outputs": [
    {
     "data": {
      "text/plain": [
       "1761"
      ]
     },
     "execution_count": 13,
     "metadata": {},
     "output_type": "execute_result"
    }
   ],
   "source": [
    "sum(diff(new_data)>0)"
   ]
  },
  {
   "cell_type": "code",
   "execution_count": null,
   "id": "401d6baf-72e4-4262-bfb4-7d8b532bba7c",
   "metadata": {},
   "outputs": [],
   "source": []
  }
 ],
 "metadata": {
  "kernelspec": {
   "display_name": "Python 3",
   "language": "python",
   "name": "python3"
  },
  "language_info": {
   "codemirror_mode": {
    "name": "ipython",
    "version": 3
   },
   "file_extension": ".py",
   "mimetype": "text/x-python",
   "name": "python",
   "nbconvert_exporter": "python",
   "pygments_lexer": "ipython3",
   "version": "3.8.10"
  }
 },
 "nbformat": 4,
 "nbformat_minor": 5
}
