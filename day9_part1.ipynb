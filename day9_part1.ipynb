{
 "cells": [
  {
   "cell_type": "code",
   "execution_count": 1,
   "id": "ba3c4e66-81b1-4912-ae75-3022d0ec2be9",
   "metadata": {},
   "outputs": [
    {
     "name": "stdout",
     "output_type": "stream",
     "text": [
      "Populating the interactive namespace from numpy and matplotlib\n"
     ]
    }
   ],
   "source": [
    "%pylab inline"
   ]
  },
  {
   "cell_type": "code",
   "execution_count": 2,
   "id": "bf1cb1e3-ae12-4628-855f-50cffa95b183",
   "metadata": {},
   "outputs": [],
   "source": [
    "ex1=\"\"\"\n",
    "2199943210\n",
    "3987894921\n",
    "9856789892\n",
    "8767896789\n",
    "9899965678\n",
    "\"\"\".strip()"
   ]
  },
  {
   "cell_type": "code",
   "execution_count": 3,
   "id": "d1374dbf-54cc-490a-82c4-9789a1eda936",
   "metadata": {},
   "outputs": [],
   "source": [
    "text=ex1"
   ]
  },
  {
   "cell_type": "code",
   "execution_count": 4,
   "id": "53e79325-c843-4e74-adff-1c5dd5858737",
   "metadata": {},
   "outputs": [
    {
     "data": {
      "text/plain": [
       "array([[2, 1, 9, 9, 9, 4, 3, 2, 1, 0],\n",
       "       [3, 9, 8, 7, 8, 9, 4, 9, 2, 1],\n",
       "       [9, 8, 5, 6, 7, 8, 9, 8, 9, 2],\n",
       "       [8, 7, 6, 7, 8, 9, 6, 7, 8, 9],\n",
       "       [9, 8, 9, 9, 9, 6, 5, 6, 7, 8]])"
      ]
     },
     "execution_count": 4,
     "metadata": {},
     "output_type": "execute_result"
    }
   ],
   "source": [
    "lines=text.strip().split('\\n')\n",
    "arr_str=[[int(_) for _ in line] for line in lines]\n",
    "arr=array(arr_str)\n",
    "arr"
   ]
  },
  {
   "cell_type": "code",
   "execution_count": 5,
   "id": "185ac338-01fd-4a57-a0c1-aec6d59a83f3",
   "metadata": {},
   "outputs": [],
   "source": [
    "from numba import jit"
   ]
  },
  {
   "cell_type": "code",
   "execution_count": 6,
   "id": "9d22435e-6d70-4e62-bec5-983b75f9cb34",
   "metadata": {},
   "outputs": [],
   "source": [
    "@jit(nopython=True)\n",
    "def mins(arr):\n",
    "    r,c=arr.shape\n",
    "    \n",
    "    vals=[]\n",
    "    for i in range(r):\n",
    "        for j in range(c):\n",
    "            found=True\n",
    "            val=arr[i,j]\n",
    "            \n",
    "            if i>0:\n",
    "                if val>=arr[i-1,j]:\n",
    "                    continue\n",
    "            if i<r-1:\n",
    "                if val>=arr[i+1,j]:\n",
    "                    continue\n",
    "            if j>0:\n",
    "                if val>=arr[i,j-1]:\n",
    "                    continue\n",
    "            if j<c-1:\n",
    "                if val>=arr[i,j+1]:\n",
    "                    continue\n",
    "                \n",
    "            vals.append(val)\n",
    "            \n",
    "    return array(vals)\n",
    "            "
   ]
  },
  {
   "cell_type": "code",
   "execution_count": 7,
   "id": "43202aad-a452-49d4-af01-07b0097c6ed6",
   "metadata": {},
   "outputs": [
    {
     "data": {
      "text/plain": [
       "array([1, 0, 5, 5])"
      ]
     },
     "execution_count": 7,
     "metadata": {},
     "output_type": "execute_result"
    }
   ],
   "source": [
    "mins(arr)"
   ]
  },
  {
   "cell_type": "code",
   "execution_count": 8,
   "id": "06b8bad6-1e47-47e3-987c-8e862d76d205",
   "metadata": {},
   "outputs": [
    {
     "data": {
      "text/plain": [
       "15"
      ]
     },
     "execution_count": 8,
     "metadata": {},
     "output_type": "execute_result"
    }
   ],
   "source": [
    "sum(mins(arr)+1)"
   ]
  },
  {
   "cell_type": "code",
   "execution_count": 9,
   "id": "b2d95dd0-0847-49f3-b655-e57872074f1b",
   "metadata": {},
   "outputs": [],
   "source": [
    "with open('data/day9.txt') as fid:\n",
    "    text=fid.read()"
   ]
  },
  {
   "cell_type": "code",
   "execution_count": 10,
   "id": "5f010963-3e52-4130-bf67-0d9ea4053c17",
   "metadata": {},
   "outputs": [
    {
     "data": {
      "text/plain": [
       "array([[7, 6, 7, ..., 9, 6, 5],\n",
       "       [6, 5, 6, ..., 8, 9, 3],\n",
       "       [5, 4, 5, ..., 7, 8, 9],\n",
       "       ...,\n",
       "       [5, 6, 7, ..., 4, 5, 6],\n",
       "       [6, 7, 8, ..., 6, 8, 7],\n",
       "       [7, 9, 9, ..., 7, 9, 8]])"
      ]
     },
     "execution_count": 10,
     "metadata": {},
     "output_type": "execute_result"
    }
   ],
   "source": [
    "lines=text.strip().split('\\n')\n",
    "arr_str=[[int(_) for _ in line] for line in lines]\n",
    "arr=array(arr_str)\n",
    "arr"
   ]
  },
  {
   "cell_type": "code",
   "execution_count": 11,
   "id": "5ebb2253-7687-4f1b-a6f2-72cb037b998e",
   "metadata": {},
   "outputs": [
    {
     "data": {
      "text/plain": [
       "array([0, 5, 1, 2, 0, 5, 0, 0, 0, 3, 0, 0, 1, 2, 0, 1, 0, 0, 1, 1, 4, 0,\n",
       "       0, 0, 1, 5, 0, 3, 3, 2, 0, 2, 2, 1, 0, 0, 0, 1, 5, 1, 0, 0, 0, 5,\n",
       "       0, 2, 4, 1, 2, 4, 0, 0, 0, 4, 0, 1, 2, 2, 1, 1, 0, 2, 1, 1, 1, 1,\n",
       "       0, 0, 0, 0, 1, 0, 2, 0, 0, 0, 2, 0, 1, 2, 0, 1, 1, 0, 2, 3, 2, 2,\n",
       "       0, 0, 1, 0, 2, 2, 0, 0, 2, 1, 1, 0, 0, 0, 3, 2, 3, 0, 1, 0, 1, 1,\n",
       "       1, 6, 3, 3, 0, 4, 0, 0, 0, 1, 0, 1, 4, 1, 0, 0, 3, 0, 1, 0, 0, 0,\n",
       "       2, 3, 5, 1, 1, 0, 0, 0, 2, 0, 0, 0, 0, 2, 0, 0, 0, 0, 0, 0, 4, 1,\n",
       "       0, 2, 3, 4, 2, 0, 0, 2, 2, 1, 0, 0, 1, 1, 2, 0, 0, 1, 0, 4, 2, 0,\n",
       "       0, 1, 1, 0, 0, 1, 2, 3, 0, 0, 2, 1, 0, 3, 1, 1, 0, 3, 1, 1, 0, 1,\n",
       "       3, 0, 1, 2, 0, 3, 0, 1, 2, 4, 3, 0, 2, 1, 0, 0, 1, 3, 1, 0, 1, 1,\n",
       "       0, 0, 1, 0, 0, 0])"
      ]
     },
     "execution_count": 11,
     "metadata": {},
     "output_type": "execute_result"
    }
   ],
   "source": [
    "mins(arr)"
   ]
  },
  {
   "cell_type": "code",
   "execution_count": 12,
   "id": "96a0f16b-872a-49e3-8e5c-c00b28196e08",
   "metadata": {},
   "outputs": [
    {
     "data": {
      "text/plain": [
       "480"
      ]
     },
     "execution_count": 12,
     "metadata": {},
     "output_type": "execute_result"
    }
   ],
   "source": [
    "sum(mins(arr)+1)"
   ]
  },
  {
   "cell_type": "code",
   "execution_count": null,
   "id": "51810795-e067-4885-a485-5cf4bd0a6acd",
   "metadata": {},
   "outputs": [],
   "source": []
  }
 ],
 "metadata": {
  "kernelspec": {
   "display_name": "Python 3",
   "language": "python",
   "name": "python3"
  },
  "language_info": {
   "codemirror_mode": {
    "name": "ipython",
    "version": 3
   },
   "file_extension": ".py",
   "mimetype": "text/x-python",
   "name": "python",
   "nbconvert_exporter": "python",
   "pygments_lexer": "ipython3",
   "version": "3.8.10"
  }
 },
 "nbformat": 4,
 "nbformat_minor": 5
}
