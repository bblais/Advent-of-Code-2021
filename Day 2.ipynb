{
 "cells": [
  {
   "cell_type": "code",
   "execution_count": 1,
   "id": "8b6e2453-f464-4707-bac8-9b66ded5cbfe",
   "metadata": {},
   "outputs": [
    {
     "name": "stdout",
     "output_type": "stream",
     "text": [
      "Populating the interactive namespace from numpy and matplotlib\n"
     ]
    }
   ],
   "source": [
    "%pylab inline\n",
    "import pandas as pd"
   ]
  },
  {
   "cell_type": "code",
   "execution_count": 4,
   "id": "bfbad4d5-e690-43e2-b043-fc38f2b66c5e",
   "metadata": {},
   "outputs": [],
   "source": [
    "from Memory import Storage"
   ]
  },
  {
   "cell_type": "code",
   "execution_count": 2,
   "id": "90399195-4bb5-4983-a1e3-dee50f865014",
   "metadata": {},
   "outputs": [],
   "source": [
    "with open('data/day2.txt') as fid:\n",
    "    lines=fid.readlines()"
   ]
  },
  {
   "cell_type": "code",
   "execution_count": 5,
   "id": "db8dc10a-9f04-49fe-a297-f59fd7ea0b8c",
   "metadata": {},
   "outputs": [],
   "source": [
    "S=Storage()\n",
    "x=0\n",
    "y=0\n",
    "S+=x,y\n",
    "for line in lines:\n",
    "    command,distance=line.strip().split()\n",
    "    distance=int(distance)\n",
    "    \n",
    "    if command=='forward':\n",
    "        x+=distance\n",
    "    elif command=='down':\n",
    "        y-=distance\n",
    "    elif command=='up':\n",
    "        y+=distance\n",
    "    else:\n",
    "        raise ValueError(\"You can't get there from here.\")        \n",
    "        \n",
    "    S+=x,y        \n",
    "    \n",
    "x,y=S.arrays()"
   ]
  },
  {
   "cell_type": "code",
   "execution_count": 6,
   "id": "864e4434-ee84-47f4-96c0-60184b020ed2",
   "metadata": {},
   "outputs": [
    {
     "data": {
      "text/plain": [
       "[<matplotlib.lines.Line2D at 0x19c3c4940>]"
      ]
     },
     "execution_count": 6,
     "metadata": {},
     "output_type": "execute_result"
    },
    {
     "data": {
      "image/png": "[encoded data removed]",
      "text/plain": [
       "<Figure size 432x288 with 1 Axes>"
      ]
     },
     "metadata": {
      "needs_background": "light"
     },
     "output_type": "display_data"
    }
   ],
   "source": [
    "plot(x,y,'-o')"
   ]
  },
  {
   "cell_type": "code",
   "execution_count": 7,
   "id": "674724c1-488f-4421-bd8e-de3298fee4ab",
   "metadata": {},
   "outputs": [
    {
     "data": {
      "text/plain": [
       "1990000"
      ]
     },
     "execution_count": 7,
     "metadata": {},
     "output_type": "execute_result"
    }
   ],
   "source": [
    "x[-1]*abs(y[-1])"
   ]
  },
  {
   "cell_type": "markdown",
   "id": "27ef7359-d2da-4518-841b-3a4225fe90e7",
   "metadata": {},
   "source": [
    "    down X increases your aim by X units.\n",
    "    up X decreases your aim by X units.\n",
    "    forward X does two things:\n",
    "    It increases your horizontal position by X units.\n",
    "    It increases your depth by your aim multiplied by X."
   ]
  },
  {
   "cell_type": "code",
   "execution_count": 9,
   "id": "5045b1ab-d6c1-4b13-a50f-08a7ebeac504",
   "metadata": {},
   "outputs": [],
   "source": [
    "S=Storage()\n",
    "x=0\n",
    "y=0\n",
    "a=0\n",
    "S+=a,x,y\n",
    "for line in lines:\n",
    "    command,distance=line.strip().split()\n",
    "    distance=int(distance)\n",
    "    \n",
    "    if command=='forward':\n",
    "        x+=distance\n",
    "        y-=a*distance\n",
    "    elif command=='down':\n",
    "        a+=distance\n",
    "    elif command=='up':\n",
    "        a-=distance\n",
    "    else:\n",
    "        raise ValueError(\"You can't get there from here.\")        \n",
    "        \n",
    "    S+=a,x,y        \n",
    "    \n",
    "a,x,y=S.arrays()"
   ]
  },
  {
   "cell_type": "code",
   "execution_count": 10,
   "id": "e225c2a1-4ae4-4ddd-9d81-b44bb65d76ee",
   "metadata": {},
   "outputs": [
    {
     "data": {
      "text/plain": [
       "[<matplotlib.lines.Line2D at 0x19c5484f0>]"
      ]
     },
     "execution_count": 10,
     "metadata": {},
     "output_type": "execute_result"
    },
    {
     "data": {
      "image/png": "[encoded data removed]",
      "text/plain": [
       "<Figure size 432x288 with 1 Axes>"
      ]
     },
     "metadata": {
      "needs_background": "light"
     },
     "output_type": "display_data"
    }
   ],
   "source": [
    "plot(x,y,'-o')"
   ]
  },
  {
   "cell_type": "code",
   "execution_count": 11,
   "id": "11630562-2f86-4393-809b-e65fc16e1953",
   "metadata": {},
   "outputs": [
    {
     "data": {
      "text/plain": [
       "1975421260"
      ]
     },
     "execution_count": 11,
     "metadata": {},
     "output_type": "execute_result"
    }
   ],
   "source": [
    "x[-1]*abs(y[-1])"
   ]
  },
  {
   "cell_type": "code",
   "execution_count": null,
   "id": "211ced21-dc00-45a6-9f92-2822d3f7a6cb",
   "metadata": {},
   "outputs": [],
   "source": []
  }
 ],
 "metadata": {
  "kernelspec": {
   "display_name": "Python 3",
   "language": "python",
   "name": "python3"
  },
  "language_info": {
   "codemirror_mode": {
    "name": "ipython",
    "version": 3
   },
   "file_extension": ".py",
   "mimetype": "text/x-python",
   "name": "python",
   "nbconvert_exporter": "python",
   "pygments_lexer": "ipython3",
   "version": "3.8.10"
  }
 },
 "nbformat": 4,
 "nbformat_minor": 5
}
