{
 "cells": [
  {
   "cell_type": "code",
   "execution_count": 1,
   "id": "5fc148f6-a8ac-479e-8965-df84d33c7623",
   "metadata": {},
   "outputs": [
    {
     "name": "stdout",
     "output_type": "stream",
     "text": [
      "Populating the interactive namespace from numpy and matplotlib\n"
     ]
    }
   ],
   "source": [
    "%pylab inline"
   ]
  },
  {
   "cell_type": "markdown",
   "id": "74d0a052-7aff-4f9f-b8ec-f9a4dd6aa2e4",
   "metadata": {},
   "source": [
    "https://pypi.org/project/astar-python/"
   ]
  },
  {
   "cell_type": "code",
   "execution_count": 18,
   "id": "e054ed69-f4c6-4e7e-b77f-5efc9718ec7f",
   "metadata": {},
   "outputs": [],
   "source": [
    "class Astar:\n",
    "\n",
    "    def __init__(self, matrix):\n",
    "        self.mat = self.prepare_matrix(matrix)\n",
    "\n",
    "    class Node:\n",
    "        def __init__(self, x, y, weight=0):\n",
    "            self.x = x\n",
    "            self.y = y\n",
    "            self.weight = weight\n",
    "            self.heuristic = 0\n",
    "            self.parent = None\n",
    "\n",
    "        def __repr__(self):\n",
    "            return str(self.weight)\n",
    "\n",
    "    def print(self):\n",
    "        for y in self.mat:\n",
    "            print(y)\n",
    "\n",
    "    def prepare_matrix(self, mat):\n",
    "        matrix_for_astar = []\n",
    "        for y, line in enumerate(mat):\n",
    "            tmp_line = []\n",
    "            for x, weight in enumerate(line):\n",
    "                tmp_line.append(self.Node(x, y, weight=weight))\n",
    "            matrix_for_astar.append(tmp_line)\n",
    "        return matrix_for_astar\n",
    "\n",
    "    def equal(self, current, end):\n",
    "        return current.x == end.x and current.y == end.y\n",
    "\n",
    "    def heuristic(self, current, other):\n",
    "        return abs(current.x - other.x) + abs(current.y - other.y)\n",
    "\n",
    "    def neighbours(self, matrix, current):\n",
    "        neighbours_list = []\n",
    "        # commenting diagonals\n",
    "#         if current.x - 1 >= 0 and current.y - 1 >= 0 and matrix[current.y - 1][current.x - 1].weight is not None:\n",
    "#             neighbours_list.append(matrix[current.y - 1][current.x - 1])\n",
    "        if current.x - 1 >= 0 and matrix[current.y][current.x - 1].weight is not None:\n",
    "            neighbours_list.append(matrix[current.y][current.x - 1])\n",
    "#         if current.x - 1 >= 0 and current.y + 1 < len(matrix) and matrix[current.y + 1][\n",
    "#             current.x - 1].weight is not None:\n",
    "#             neighbours_list.append(matrix[current.y + 1][current.x - 1])\n",
    "        if current.y - 1 >= 0 and matrix[current.y - 1][current.x].weight is not None:\n",
    "            neighbours_list.append(matrix[current.y - 1][current.x])\n",
    "        if current.y + 1 < len(matrix) and matrix[current.y + 1][current.x].weight is not None:\n",
    "            neighbours_list.append(matrix[current.y + 1][current.x])\n",
    "#         if current.x + 1 < len(matrix[0]) and current.y - 1 >= 0 and matrix[current.y - 1][\n",
    "#             current.x + 1].weight is not None:\n",
    "#             neighbours_list.append(matrix[current.y - 1][current.x + 1])\n",
    "        if current.x + 1 < len(matrix[0]) and matrix[current.y][current.x + 1].weight is not None:\n",
    "            neighbours_list.append(matrix[current.y][current.x + 1])\n",
    "#         if current.x + 1 < len(matrix[0]) and current.y + 1 < len(matrix) and matrix[current.y + 1][\n",
    "#             current.x + 1].weight is not None:\n",
    "#             neighbours_list.append(matrix[current.y + 1][current.x + 1])\n",
    "        return neighbours_list\n",
    "\n",
    "    def build(self, end):\n",
    "        node_tmp = end\n",
    "        path = []\n",
    "        while (node_tmp):\n",
    "            path.append([node_tmp.x, node_tmp.y])\n",
    "            node_tmp = node_tmp.parent\n",
    "        return list(reversed(path))\n",
    "\n",
    "    def run(self, point_start, point_end):\n",
    "        matrix = self.mat\n",
    "        start = self.Node(point_start[0], point_start[1])\n",
    "        end = self.Node(point_end[0], point_end[1])\n",
    "        closed_list = []\n",
    "        open_list = [start]\n",
    "\n",
    "        while open_list:\n",
    "            current_node = open_list.pop()\n",
    "\n",
    "            for node in open_list:\n",
    "                if node.heuristic < current_node.heuristic:\n",
    "                    current_node = node\n",
    "\n",
    "            if self.equal(current_node, end):\n",
    "                return self.build(current_node)\n",
    "\n",
    "            for node in open_list:\n",
    "                if self.equal(current_node, node):\n",
    "                    open_list.remove(node)\n",
    "                    break\n",
    "\n",
    "            closed_list.append(current_node)\n",
    "\n",
    "            for neighbour in self.neighbours(matrix, current_node):\n",
    "                if neighbour in closed_list:\n",
    "                    continue\n",
    "                if neighbour.heuristic < current_node.heuristic or neighbour not in open_list:\n",
    "                    neighbour.heuristic = neighbour.weight + self.heuristic(neighbour, end)\n",
    "                    neighbour.parent = current_node\n",
    "                if neighbour not in open_list:\n",
    "                    open_list.append(neighbour)\n",
    "\n",
    "        return None\n"
   ]
  },
  {
   "cell_type": "code",
   "execution_count": 19,
   "id": "1b0ccf11-0ce8-4027-8c76-69e50973a6ad",
   "metadata": {},
   "outputs": [
    {
     "data": {
      "text/plain": [
       "array([[ 31, 100,  65,  12,  18],\n",
       "       [ 10,  13,  47, 157,   6],\n",
       "       [100, 113, 174,  11,  33],\n",
       "       [ 88, 124,  41,  20, 140],\n",
       "       [ 99,  32, 111,  41,  20]])"
      ]
     },
     "execution_count": 19,
     "metadata": {},
     "output_type": "execute_result"
    }
   ],
   "source": [
    "arr=array([    31, 100, 65, 12, 18,\n",
    "        10, 13, 47, 157, 6,\n",
    "        100, 113, 174, 11, 33,\n",
    "        88, 124, 41, 20, 140,\n",
    "        99, 32, 111, 41, 20])\n",
    "arr=arr.reshape(5,5)\n",
    "arr"
   ]
  },
  {
   "cell_type": "code",
   "execution_count": 20,
   "id": "fde9adc7-8c94-4024-9066-b89f797394ac",
   "metadata": {},
   "outputs": [],
   "source": [
    "R,C=arr.shape\n",
    "astar = Astar(arr)\n",
    "result = astar.run([0, 0], [C-1, R-1])"
   ]
  },
  {
   "cell_type": "code",
   "execution_count": 21,
   "id": "c6391e07-a196-475a-9e00-8670a4d29e11",
   "metadata": {},
   "outputs": [
    {
     "data": {
      "text/plain": [
       "[31, 10, 13, 100, 65, 12, 18, 6, 33, 11, 20, 41, 20]"
      ]
     },
     "execution_count": 21,
     "metadata": {},
     "output_type": "execute_result"
    }
   ],
   "source": [
    "[arr[y,x] for x,y in result]"
   ]
  },
  {
   "cell_type": "code",
   "execution_count": 22,
   "id": "95af9155-4895-42fd-baac-a8f1cf0cc9b0",
   "metadata": {},
   "outputs": [
    {
     "data": {
      "text/plain": [
       "380"
      ]
     },
     "execution_count": 22,
     "metadata": {},
     "output_type": "execute_result"
    }
   ],
   "source": [
    "sum([arr[y,x] for x,y in result])"
   ]
  },
  {
   "cell_type": "code",
   "execution_count": 29,
   "id": "4f1326d8-caca-4c98-befa-8f437700c901",
   "metadata": {},
   "outputs": [],
   "source": [
    "def shortest(arr,r,c):\n",
    "    maxval=9223372036854775807\n",
    "    distances=ones((r,c),int)*maxval\n",
    "    R,C=arr.shape\n",
    "    \n",
    "    S=[]\n",
    "    S.append(cell(0,0,0))\n",
    "    distances[0,0]=arr[0,0]\n",
    "\n",
    "    while S:\n",
    "\n",
    "        k=S.pop()\n",
    "        for x,y in [[k.x-1,k.y],[k.x+1,k.y],[k.x,k.y-1],[k.x,k.y+1]]:\n",
    "            if x<0 or y<0 or x>=C or y>=R:\n",
    "                continue\n",
    "                \n",
    "            if distances[y,x]> distances[k.y,k.x]+ arr[y,x]:\n",
    "                if distances[y,x]!=maxval:\n",
    "                    findcell=[kk for kk in S if kk.x==x and kk.y==y and kk.distance==distances[y,x]]\n",
    "                    if findcell:\n",
    "                        assert len(findcell)==1,(findcell,S,x,y)\n",
    "                        S.remove(findcell[0])\n",
    "                    \n",
    "                distances[y,x]=distances[k.y,k.x]+ arr[y,x]\n",
    "                S.append(cell(x,y,distances[y,x]))\n",
    "                \n",
    "    return distances[r-1,c-1]\n"
   ]
  },
  {
   "cell_type": "code",
   "execution_count": 30,
   "id": "2be32557-a208-4b11-9569-dd29da4a13cf",
   "metadata": {},
   "outputs": [
    {
     "data": {
      "text/plain": [
       "327"
      ]
     },
     "execution_count": 30,
     "metadata": {},
     "output_type": "execute_result"
    }
   ],
   "source": [
    "R,C=arr.shape\n",
    "shortest(arr,R,C)"
   ]
  },
  {
   "cell_type": "code",
   "execution_count": 31,
   "id": "c7be96c6-0eb7-49e1-88eb-f3a4b550426b",
   "metadata": {},
   "outputs": [
    {
     "data": {
      "text/plain": [
       "array([[1, 1, 6, 3, 7, 5, 1, 7, 4, 2],\n",
       "       [1, 3, 8, 1, 3, 7, 3, 6, 7, 2],\n",
       "       [2, 1, 3, 6, 5, 1, 1, 3, 2, 8],\n",
       "       [3, 6, 9, 4, 9, 3, 1, 5, 6, 9],\n",
       "       [7, 4, 6, 3, 4, 1, 7, 1, 1, 1],\n",
       "       [1, 3, 1, 9, 1, 2, 8, 1, 3, 7],\n",
       "       [1, 3, 5, 9, 9, 1, 2, 4, 2, 1],\n",
       "       [3, 1, 2, 5, 4, 2, 1, 6, 3, 9],\n",
       "       [1, 2, 9, 3, 1, 3, 8, 5, 2, 1],\n",
       "       [2, 3, 1, 1, 9, 4, 4, 5, 8, 1]])"
      ]
     },
     "execution_count": 31,
     "metadata": {},
     "output_type": "execute_result"
    }
   ],
   "source": [
    "text=\"\"\"\n",
    "1163751742\n",
    "1381373672\n",
    "2136511328\n",
    "3694931569\n",
    "7463417111\n",
    "1319128137\n",
    "1359912421\n",
    "3125421639\n",
    "1293138521\n",
    "2311944581\n",
    "\"\"\".strip()\n",
    "lines=text.strip().split('\\n')\n",
    "arr_str=[[int(_) for _ in line] for line in lines]\n",
    "arr=array(arr_str)\n",
    "arr"
   ]
  },
  {
   "cell_type": "code",
   "execution_count": 33,
   "id": "d995b1cb-c14c-4720-9a92-b21832452882",
   "metadata": {},
   "outputs": [
    {
     "data": {
      "text/plain": [
       "40"
      ]
     },
     "execution_count": 33,
     "metadata": {},
     "output_type": "execute_result"
    }
   ],
   "source": [
    "R,C=arr.shape\n",
    "shortest(arr,R,C)-arr[0,0]  # take off the start"
   ]
  },
  {
   "cell_type": "code",
   "execution_count": 35,
   "id": "eac0b129-8e82-4cd7-801b-b8ef0401e7b7",
   "metadata": {},
   "outputs": [
    {
     "data": {
      "text/plain": [
       "array([[3, 5, 7, ..., 1, 2, 8],\n",
       "       [1, 7, 1, ..., 6, 8, 8],\n",
       "       [2, 1, 5, ..., 5, 2, 2],\n",
       "       ...,\n",
       "       [6, 5, 1, ..., 5, 3, 4],\n",
       "       [3, 9, 9, ..., 7, 2, 1],\n",
       "       [5, 9, 9, ..., 4, 6, 2]])"
      ]
     },
     "execution_count": 35,
     "metadata": {},
     "output_type": "execute_result"
    }
   ],
   "source": [
    "with open('data/day15.txt') as fid:\n",
    "    text=fid.read()\n",
    "lines=text.strip().split('\\n')\n",
    "arr_str=[[int(_) for _ in line] for line in lines]\n",
    "arr=array(arr_str)\n",
    "arr    "
   ]
  },
  {
   "cell_type": "code",
   "execution_count": null,
   "id": "defa5319-1d28-4aeb-8c8e-116ccb5f5417",
   "metadata": {},
   "outputs": [],
   "source": [
    "R,C=arr.shape\n",
    "shortest(arr,R,C)-arr[0,0]  # take off the start"
   ]
  },
  {
   "cell_type": "code",
   "execution_count": null,
   "id": "766a6607-84e1-4bd3-adcb-ffd5f778b0ac",
   "metadata": {},
   "outputs": [],
   "source": []
  }
 ],
 "metadata": {
  "kernelspec": {
   "display_name": "Python 3",
   "language": "python",
   "name": "python3"
  },
  "language_info": {
   "codemirror_mode": {
    "name": "ipython",
    "version": 3
   },
   "file_extension": ".py",
   "mimetype": "text/x-python",
   "name": "python",
   "nbconvert_exporter": "python",
   "pygments_lexer": "ipython3",
   "version": "3.8.10"
  }
 },
 "nbformat": 4,
 "nbformat_minor": 5
}
