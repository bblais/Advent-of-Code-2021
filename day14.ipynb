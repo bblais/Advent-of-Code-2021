{
 "cells": [
  {
   "cell_type": "code",
   "execution_count": 1,
   "id": "d636f38c-1706-4531-8fa0-0371738f3f31",
   "metadata": {},
   "outputs": [],
   "source": [
    "text=\"\"\"\n",
    "NNCB\n",
    "\n",
    "CH -> B\n",
    "HH -> N\n",
    "CB -> H\n",
    "NH -> C\n",
    "HB -> C\n",
    "HC -> B\n",
    "HN -> C\n",
    "NN -> C\n",
    "BH -> H\n",
    "NC -> B\n",
    "NB -> B\n",
    "BN -> B\n",
    "BB -> N\n",
    "BC -> B\n",
    "CC -> N\n",
    "CN -> C\n",
    "\"\"\""
   ]
  },
  {
   "cell_type": "code",
   "execution_count": 2,
   "id": "2a98fe67-fde9-4982-982b-da6334151bc1",
   "metadata": {},
   "outputs": [
    {
     "data": {
      "text/plain": [
       "['\\nNNCB',\n",
       " 'CH -> B\\nHH -> N\\nCB -> H\\nNH -> C\\nHB -> C\\nHC -> B\\nHN -> C\\nNN -> C\\nBH -> H\\nNC -> B\\nNB -> B\\nBN -> B\\nBB -> N\\nBC -> B\\nCC -> N\\nCN -> C\\n']"
      ]
     },
     "execution_count": 2,
     "metadata": {},
     "output_type": "execute_result"
    }
   ],
   "source": [
    "parts=text.split(\"\\n\\n\")\n",
    "parts"
   ]
  },
  {
   "cell_type": "code",
   "execution_count": 6,
   "id": "834d5a0b-3acf-4aff-a8cd-15152e4320d1",
   "metadata": {},
   "outputs": [],
   "source": [
    "start=parts[0].strip()\n",
    "insertion_rules={}\n",
    "for m in parts[1].strip().split(\"\\n\"):\n",
    "    if not m:\n",
    "        continue\n",
    "    key=m.split(\"->\")[0].strip()\n",
    "    char=m.split(\"->\")[1].strip()    \n",
    "    insertion_rules[key]=char"
   ]
  },
  {
   "cell_type": "code",
   "execution_count": 7,
   "id": "71a22d47-4c8a-418c-9c8c-1cf5d4dbe5d6",
   "metadata": {},
   "outputs": [
    {
     "data": {
      "text/plain": [
       "{'CH': 'B',\n",
       " 'HH': 'N',\n",
       " 'CB': 'H',\n",
       " 'NH': 'C',\n",
       " 'HB': 'C',\n",
       " 'HC': 'B',\n",
       " 'HN': 'C',\n",
       " 'NN': 'C',\n",
       " 'BH': 'H',\n",
       " 'NC': 'B',\n",
       " 'NB': 'B',\n",
       " 'BN': 'B',\n",
       " 'BB': 'N',\n",
       " 'BC': 'B',\n",
       " 'CC': 'N',\n",
       " 'CN': 'C'}"
      ]
     },
     "execution_count": 7,
     "metadata": {},
     "output_type": "execute_result"
    }
   ],
   "source": [
    "insertion_rules"
   ]
  },
  {
   "cell_type": "code",
   "execution_count": 8,
   "id": "a747f585-f503-46af-a77e-a8b515c75d3f",
   "metadata": {},
   "outputs": [],
   "source": [
    "def pairs(S):\n",
    "    for c1,c2 in zip(S[:-1],S[1:]):\n",
    "        yield c1+c2"
   ]
  },
  {
   "cell_type": "code",
   "execution_count": 9,
   "id": "5834e62d-0bca-4429-aaf9-fe63c4c5871f",
   "metadata": {},
   "outputs": [
    {
     "name": "stdout",
     "output_type": "stream",
     "text": [
      "NN\n",
      "NC\n",
      "CB\n"
     ]
    }
   ],
   "source": [
    "for p in pairs(\"NNCB\"):\n",
    "    print(p)"
   ]
  },
  {
   "cell_type": "code",
   "execution_count": 12,
   "id": "d23f1102-14a6-41cb-8044-8c1a650bcf1d",
   "metadata": {},
   "outputs": [],
   "source": [
    "def step(start):\n",
    "    new_str=\"\"\n",
    "    for p in pairs(start):\n",
    "        insert_char=insertion_rules[p]\n",
    "        new_str=new_str+p[0]+insert_char\n",
    "\n",
    "    new_str=new_str+p[1]\n",
    "    return new_str"
   ]
  },
  {
   "cell_type": "code",
   "execution_count": 14,
   "id": "125f62c4-1efd-4127-b45d-31d5030b73ea",
   "metadata": {},
   "outputs": [
    {
     "data": {
      "text/plain": [
       "'NCNBCHB'"
      ]
     },
     "execution_count": 14,
     "metadata": {},
     "output_type": "execute_result"
    }
   ],
   "source": [
    "new_str=step(start)\n",
    "new_str"
   ]
  },
  {
   "cell_type": "code",
   "execution_count": 15,
   "id": "274c078b-bbb4-46d3-a201-dc0e2ec7c58e",
   "metadata": {},
   "outputs": [
    {
     "data": {
      "text/plain": [
       "'NBCCNBBBCBHCB'"
      ]
     },
     "execution_count": 15,
     "metadata": {},
     "output_type": "execute_result"
    }
   ],
   "source": [
    "step(new_str)"
   ]
  },
  {
   "cell_type": "code",
   "execution_count": 16,
   "id": "3d87d8d9-92cc-4d18-a286-77d1b9ac2918",
   "metadata": {},
   "outputs": [
    {
     "data": {
      "text/plain": [
       "'NNCB'"
      ]
     },
     "execution_count": 16,
     "metadata": {},
     "output_type": "execute_result"
    }
   ],
   "source": [
    "start"
   ]
  },
  {
   "cell_type": "code",
   "execution_count": 22,
   "id": "1c8e6777-8582-4edd-8a46-b576be66d5d2",
   "metadata": {},
   "outputs": [],
   "source": [
    "strings=[]\n",
    "strings.append(start)\n",
    "new_str=start\n",
    "for i in range(10):\n",
    "    new_str=step(new_str)\n",
    "    strings.append(new_str)"
   ]
  },
  {
   "cell_type": "code",
   "execution_count": 23,
   "id": "942bbd03-d37b-4ad4-a8ed-916a550f6381",
   "metadata": {},
   "outputs": [
    {
     "data": {
      "text/plain": [
       "(['NNCB',\n",
       "  'NCNBCHB',\n",
       "  'NBCCNBBBCBHCB',\n",
       "  'NBBBCNCCNBBNBNBBCHBHHBCHB',\n",
       "  'NBBNBNBBCCNBCNCCNBBNBBNBBBNBBNBBCBHCBHHNHCBBCBHCB',\n",
       "  'NBBNBBNBBBNBBNBBCNCCNBBBCCNBCNCCNBBNBBNBBNBBNBBNBNBBNBBNBBNBBNBBCHBHHBCHBHHNHCNCHBCHBNBBCHBHHBCHB',\n",
       "  'NBBNBBNBBNBBNBBNBNBBNBBNBBNBBNBBCCNBCNCCNBBNBNBBCNCCNBBBCCNBCNCCNBBNBBNBBNBBNBBNBBNBBNBBNBBNBBNBBBNBBNBBNBBNBBNBBNBBNBBNBBNBBNBBCBHCBHHNHCBBCBHCBHHNHCNCHBCCNBCBHCBBCBHCBBNBBNBBCBHCBHHNHCBBCBHCB',\n",
       "  'NBBNBBNBBNBBNBBNBBNBBNBBNBBNBBNBBBNBBNBBNBBNBBNBBNBBNBBNBBNBBNBBCNCCNBBBCCNBCNCCNBBNBBNBBBNBBNBBCCNBCNCCNBBNBNBBCNCCNBBBCCNBCNCCNBBNBBNBBNBBNBBNBBNBBNBBNBBNBBNBBNBBNBBNBBNBBNBBNBBNBBNBBNBBNBBNBNBBNBBNBBNBBNBBNBBNBBNBBNBBNBBNBBNBBNBBNBBNBBNBBNBBNBBNBBNBBNBBCHBHHBCHBHHNHCNCHBCHBNBBCHBHHBCHBHHNHCNCHBCCNBCBHCBBCNCCNBBBCHBHHBCHBNBBCHBHHBCHBNBBNBBNBBNBBNBBCHBHHBCHBHHNHCNCHBCHBNBBCHBHHBCHB',\n",
       "  'NBBNBBNBBNBBNBBNBBNBBNBBNBBNBBNBBNBBNBBNBBNBBNBBNBBNBBNBBNBBNBBNBNBBNBBNBBNBBNBBNBBNBBNBBNBBNBBNBBNBBNBBNBBNBBNBBNBBNBBNBBNBBNBBCCNBCNCCNBBNBNBBCNCCNBBBCCNBCNCCNBBNBBNBBNBBNBBNBNBBNBBNBBNBBNBBCNCCNBBBCCNBCNCCNBBNBBNBBBNBBNBBCCNBCNCCNBBNBNBBCNCCNBBBCCNBCNCCNBBNBBNBBNBBNBBNBBNBBNBBNBBNBBNBBNBBNBBNBBNBBNBBNBBNBBNBBNBBNBBNBBNBBNBBNBBNBBNBBNBBNBBNBBNBBNBBNBBNBBNBBNBBNBBNBBNBBNBBNBBNBBNBBBNBBNBBNBBNBBNBBNBBNBBNBBNBBNBBNBBNBBNBBNBBNBBNBBNBBNBBNBBNBBNBBNBBNBBNBBNBBNBBNBBNBBNBBNBBNBBNBBNBBNBBNBBNBBNBBNBBNBBNBBNBBNBBCBHCBHHNHCBBCBHCBHHNHCNCHBCCNBCBHCBBCBHCBBNBBNBBCBHCBHHNHCBBCBHCBHHNHCNCHBCCNBCBHCBBCNCCNBBBCHBHHBCHBNBBCCNBCNCCNBBNBNBBCBHCBHHNHCBBCBHCBBNBBNBBCBHCBHHNHCBBCBHCBBNBBNBBNBBNBBNBBNBBNBBNBBNBBNBBCBHCBHHNHCBBCBHCBHHNHCNCHBCCNBCBHCBBCBHCBBNBBNBBCBHCBHHNHCBBCBHCB',\n",
       "  'NBBNBBNBBNBBNBBNBBNBBNBBNBBNBBNBBNBBNBBNBBNBBNBBNBBNBBNBBNBBNBBNBBNBBNBBNBBNBBNBBNBBNBBNBBNBBNBBNBBNBBNBBNBBNBBNBBNBBNBBNBBNBBNBBBNBBNBBNBBNBBNBBNBBNBBNBBNBBNBBNBBNBBNBBNBBNBBNBBNBBNBBNBBNBBNBBNBBNBBNBBNBBNBBNBBNBBNBBNBBNBBNBBNBBNBBNBBNBBNBBNBBNBBNBBNBBNBBCNCCNBBBCCNBCNCCNBBNBBNBBBNBBNBBCCNBCNCCNBBNBNBBCNCCNBBBCCNBCNCCNBBNBBNBBNBBNBBNBBNBBNBBNBBNBBNBBBNBBNBBNBBNBBNBBNBBNBBNBBNBBNBBCCNBCNCCNBBNBNBBCNCCNBBBCCNBCNCCNBBNBBNBBNBBNBBNBNBBNBBNBBNBBNBBCNCCNBBBCCNBCNCCNBBNBBNBBBNBBNBBCCNBCNCCNBBNBNBBCNCCNBBBCCNBCNCCNBBNBBNBBNBBNBBNBBNBBNBBNBBNBBNBBNBBNBBNBBNBBNBBNBBNBBNBBNBBNBBNBBNBBNBBNBBNBBNBBNBBNBBNBBNBBNBBNBBNBBNBBNBBNBBNBBNBBNBBNBBNBBNBBNBBNBBNBBNBBNBBNBBNBBNBBNBBNBBNBBNBBNBBNBBNBBNBBNBBNBBNBBNBBNBBNBBNBBNBBNBBNBBNBBNBBNBBNBBNBBNBBNBBNBBNBBNBBNBBNBBNBBNBBNBBNBBNBNBBNBBNBBNBBNBBNBBNBBNBBNBBNBBNBBNBBNBBNBBNBBNBBNBBNBBNBBNBBNBBNBBNBBNBBNBBNBBNBBNBBNBBNBBNBBNBBNBBNBBNBBNBBNBBNBBNBBNBBNBBNBBNBBNBBNBBNBBNBBNBBNBBNBBNBBNBBNBBNBBNBBNBBNBBNBBNBBNBBNBBNBBNBBNBBNBBNBBNBBNBBNBBNBBNBBNBBNBBNBBNBBNBBNBBNBBNBBNBBNBBNBBNBBNBBNBBCHBHHBCHBHHNHCNCHBCHBNBBCHBHHBCHBHHNHCNCHBCCNBCBHCBBCNCCNBBBCHBHHBCHBNBBCHBHHBCHBNBBNBBNBBNBBNBBCHBHHBCHBHHNHCNCHBCHBNBBCHBHHBCHBHHNHCNCHBCCNBCBHCBBCNCCNBBBCHBHHBCHBNBBCCNBCNCCNBBNBNBBCBHCBHHNHCBBCBHCBBNBBNBBCNCCNBBBCCNBCNCCNBBNBBNBBBNBBNBBCHBHHBCHBHHNHCNCHBCHBNBBCHBHHBCHBNBBNBBNBBNBBNBBCHBHHBCHBHHNHCNCHBCHBNBBCHBHHBCHBNBBNBBNBBNBBNBBNBBNBBNBBNBBNBBNBBNBBNBBNBBNBBNBBNBBNBBNBBNBBNBBCHBHHBCHBHHNHCNCHBCHBNBBCHBHHBCHBHHNHCNCHBCCNBCBHCBBCNCCNBBBCHBHHBCHBNBBCHBHHBCHBNBBNBBNBBNBBNBBCHBHHBCHBHHNHCNCHBCHBNBBCHBHHBCHB',\n",
       "  'NBBNBBNBBNBBNBBNBBNBBNBBNBBNBBNBBNBBNBBNBBNBBNBBNBBNBBNBBNBBNBBNBBNBBNBBNBBNBBNBBNBBNBBNBBNBBNBBNBBNBBNBBNBBNBBNBBNBBNBBNBBNBBNBBNBBNBBNBBNBBNBBNBBNBBNBBNBBNBBNBBNBBNBBNBBNBBNBBNBBNBBNBBNBBNBBNBBNBBNBBNBBNBBNBBNBBNBBNBBNBBNBBNBBNBBNBBNBBNBBNBBNBBNBBNBBNBBNBNBBNBBNBBNBBNBBNBBNBBNBBNBBNBBNBBNBBNBBNBBNBBNBBNBBNBBNBBNBBNBBNBBNBBNBBNBBNBBNBBNBBNBBNBBNBBNBBNBBNBBNBBNBBNBBNBBNBBNBBNBBNBBNBBNBBNBBNBBNBBNBBNBBNBBNBBNBBNBBNBBNBBNBBNBBNBBNBBNBBNBBNBBNBBNBBNBBNBBNBBNBBNBBNBBNBBNBBNBBNBBNBBNBBNBBNBBNBBNBBNBBNBBNBBNBBNBBCCNBCNCCNBBNBNBBCNCCNBBBCCNBCNCCNBBNBBNBBNBBNBBNBNBBNBBNBBNBBNBBCNCCNBBBCCNBCNCCNBBNBBNBBBNBBNBBCCNBCNCCNBBNBNBBCNCCNBBBCCNBCNCCNBBNBBNBBNBBNBBNBBNBBNBBNBBNBBNBBNBBNBBNBBNBBNBBNBBNBBNBBNBBNBBNBNBBNBBNBBNBBNBBNBBNBBNBBNBBNBBNBBNBBNBBNBBNBBNBBNBBNBBNBBNBBNBBCNCCNBBBCCNBCNCCNBBNBBNBBBNBBNBBCCNBCNCCNBBNBNBBCNCCNBBBCCNBCNCCNBBNBBNBBNBBNBBNBBNBBNBBNBBNBBNBBBNBBNBBNBBNBBNBBNBBNBBNBBNBBNBBCCNBCNCCNBBNBNBBCNCCNBBBCCNBCNCCNBBNBBNBBNBBNBBNBNBBNBBNBBNBBNBBCNCCNBBBCCNBCNCCNBBNBBNBBBNBBNBBCCNBCNCCNBBNBNBBCNCCNBBBCCNBCNCCNBBNBBNBBNBBNBBNBBNBBNBBNBBNBBNBBNBBNBBNBBNBBNBBNBBNBBNBBNBBNBBNBBNBBNBBNBBNBBNBBNBBNBBNBBNBBNBBNBBNBBNBBNBBNBBNBBNBBNBBNBBNBBNBBNBBNBBNBBNBBNBBNBBNBBNBBNBBNBBNBBNBBNBBNBBNBBNBBNBBNBBNBBNBBNBBNBBNBBNBBNBBNBBNBBNBBNBBNBBNBBNBBNBBNBBNBBNBBNBBNBBNBBNBBNBBNBBNBBNBBNBBNBBNBBNBBNBBNBBNBBNBBNBBNBBNBBNBBNBBNBBNBBNBBNBBNBBNBBNBBNBBNBBNBBNBBNBBNBBNBBNBBNBBNBBNBBNBBNBBNBBNBBNBBNBBNBBNBBNBBNBBNBBNBBNBBNBBNBBNBBNBBNBBNBBNBBNBBNBBNBBNBBNBBNBBNBBNBBNBBNBBNBBNBBNBBNBBNBBNBBNBBNBBNBBNBBNBBNBBNBBNBBNBBNBBNBBNBBNBBNBBNBBNBBNBBBNBBNBBNBBNBBNBBNBBNBBNBBNBBNBBNBBNBBNBBNBBNBBNBBNBBNBBNBBNBBNBBNBBNBBNBBNBBNBBNBBNBBNBBNBBNBBNBBNBBNBBNBBNBBNBBNBBNBBNBBNBBNBBNBBNBBNBBNBBNBBNBBNBBNBBNBBNBBNBBNBBNBBNBBNBBNBBNBBNBBNBBNBBNBBNBBNBBNBBNBBNBBNBBNBBNBBNBBNBBNBBNBBNBBNBBNBBNBBNBBNBBNBBNBBNBBNBBNBBNBBNBBNBBNBBNBBNBBNBBNBBNBBNBBNBBNBBNBBNBBNBBNBBNBBNBBNBBNBBNBBNBBNBBNBBNBBNBBNBBNBBNBBNBBNBBNBBNBBNBBNBBNBBNBBNBBNBBNBBNBBNBBNBBNBBNBBNBBNBBNBBNBBNBBNBBNBBNBBNBBNBBNBBNBBNBBNBBNBBNBBNBBNBBNBBNBBNBBNBBNBBNBBNBBNBBNBBNBBNBBNBBNBBNBBNBBNBBNBBNBBNBBNBBNBBCBHCBHHNHCBBCBHCBHHNHCNCHBCCNBCBHCBBCBHCBBNBBNBBCBHCBHHNHCBBCBHCBHHNHCNCHBCCNBCBHCBBCNCCNBBBCHBHHBCHBNBBCCNBCNCCNBBNBNBBCBHCBHHNHCBBCBHCBBNBBNBBCBHCBHHNHCBBCBHCBBNBBNBBNBBNBBNBBNBBNBBNBBNBBNBBCBHCBHHNHCBBCBHCBHHNHCNCHBCCNBCBHCBBCBHCBBNBBNBBCBHCBHHNHCBBCBHCBHHNHCNCHBCCNBCBHCBBCNCCNBBBCHBHHBCHBNBBCCNBCNCCNBBNBNBBCBHCBHHNHCBBCBHCBBNBBNBBCNCCNBBBCCNBCNCCNBBNBBNBBBNBBNBBCHBHHBCHBHHNHCNCHBCHBNBBCHBHHBCHBNBBNBBNBBNBBNBBCCNBCNCCNBBNBNBBCNCCNBBBCCNBCNCCNBBNBBNBBNBBNBBNBNBBNBBNBBNBBNBBCBHCBHHNHCBBCBHCBHHNHCNCHBCCNBCBHCBBCBHCBBNBBNBBCBHCBHHNHCBBCBHCBBNBBNBBNBBNBBNBBNBBNBBNBBNBBNBBCBHCBHHNHCBBCBHCBHHNHCNCHBCCNBCBHCBBCBHCBBNBBNBBCBHCBHHNHCBBCBHCBBNBBNBBNBBNBBNBBNBBNBBNBBNBBNBBNBBNBBNBBNBBNBBNBBNBBNBBNBBNBBNBBNBBNBBNBBNBBNBBNBBNBBNBBNBBNBBNBBNBBNBBNBBNBBNBBNBBNBBNBBNBBNBBCBHCBHHNHCBBCBHCBHHNHCNCHBCCNBCBHCBBCBHCBBNBBNBBCBHCBHHNHCBBCBHCBHHNHCNCHBCCNBCBHCBBCNCCNBBBCHBHHBCHBNBBCCNBCNCCNBBNBNBBCBHCBHHNHCBBCBHCBBNBBNBBCBHCBHHNHCBBCBHCBBNBBNBBNBBNBBNBBNBBNBBNBBNBBNBBCBHCBHHNHCBBCBHCBHHNHCNCHBCCNBCBHCBBCBHCBBNBBNBBCBHCBHHNHCBBCBHCB'],\n",
       " [4, 7, 13, 25, 49, 97, 193, 385, 769, 1537, 3073])"
      ]
     },
     "execution_count": 23,
     "metadata": {},
     "output_type": "execute_result"
    }
   ],
   "source": [
    "strings,[len(_) for _ in strings]"
   ]
  },
  {
   "cell_type": "code",
   "execution_count": 26,
   "id": "2ee82073-6a6d-4036-8371-0b39c9d1dfab",
   "metadata": {},
   "outputs": [
    {
     "data": {
      "text/plain": [
       "[1749, 298, 865, 161]"
      ]
     },
     "execution_count": 26,
     "metadata": {},
     "output_type": "execute_result"
    }
   ],
   "source": [
    "charset=set(strings[-1])\n",
    "counts=[strings[-1].count(c) for c in charset]\n",
    "counts"
   ]
  },
  {
   "cell_type": "code",
   "execution_count": 27,
   "id": "710d216d-98f6-4c4f-a644-9591e6226b3e",
   "metadata": {},
   "outputs": [
    {
     "data": {
      "text/plain": [
       "1588"
      ]
     },
     "execution_count": 27,
     "metadata": {},
     "output_type": "execute_result"
    }
   ],
   "source": [
    "max(counts)-min(counts)"
   ]
  },
  {
   "cell_type": "markdown",
   "id": "878f7873-a2f8-4abe-975f-74ee33b21b19",
   "metadata": {},
   "source": [
    "## actual input"
   ]
  },
  {
   "cell_type": "code",
   "execution_count": 29,
   "id": "59ffc7fc-9960-4cb0-a7f2-324b8b27eaca",
   "metadata": {},
   "outputs": [
    {
     "data": {
      "text/plain": [
       "['CKKOHNSBPCPCHVNKHFFK',\n",
       " 'KO -> C\\nSO -> S\\nBF -> V\\nVN -> B\\nOV -> K\\nVH -> O\\nKV -> N\\nKB -> F\\nNB -> C\\nHS -> K\\nPF -> B\\nHB -> N\\nOC -> H\\nFS -> F\\nVV -> S\\nKF -> C\\nFN -> F\\nKP -> S\\nHO -> N\\nNH -> K\\nOO -> S\\nFB -> C\\nBP -> F\\nCH -> N\\nSN -> O\\nKN -> B\\nCV -> O\\nCC -> B\\nVB -> C\\nPH -> V\\nCO -> K\\nKS -> K\\nBK -> N\\nFH -> S\\nPV -> H\\nCB -> P\\nFO -> F\\nBB -> K\\nOB -> C\\nHH -> F\\nON -> O\\nFK -> B\\nNF -> F\\nSV -> F\\nCP -> H\\nSS -> B\\nOP -> H\\nNS -> O\\nHK -> N\\nBC -> P\\nNV -> V\\nVS -> F\\nPC -> V\\nCS -> F\\nNP -> V\\nPS -> F\\nVC -> F\\nKK -> S\\nPO -> P\\nHF -> H\\nKC -> P\\nSF -> N\\nBV -> N\\nFF -> V\\nFV -> V\\nBO -> N\\nOS -> C\\nOF -> H\\nCN -> S\\nNO -> O\\nNC -> B\\nVK -> C\\nHN -> B\\nPK -> N\\nSK -> S\\nHV -> F\\nBH -> B\\nOK -> S\\nVO -> B\\nBS -> H\\nPP -> N\\nSC -> K\\nBN -> P\\nFC -> S\\nSB -> B\\nSH -> H\\nNN -> V\\nNK -> N\\nVF -> H\\nCF -> F\\nPB -> C\\nSP -> P\\nKH -> C\\nVP -> N\\nCK -> H\\nHP -> P\\nFP -> B\\nHC -> O\\nPN -> F\\nOH -> H\\n']"
      ]
     },
     "execution_count": 29,
     "metadata": {},
     "output_type": "execute_result"
    }
   ],
   "source": [
    "with open('data/day14.txt') as fid:\n",
    "    text=fid.read()\n",
    "parts=text.split(\"\\n\\n\")\n",
    "parts  "
   ]
  },
  {
   "cell_type": "code",
   "execution_count": 30,
   "id": "9118b88a-a7ab-4a39-a7c4-08a4c418a25d",
   "metadata": {},
   "outputs": [],
   "source": [
    "start=parts[0].strip()\n",
    "insertion_rules={}\n",
    "for m in parts[1].strip().split(\"\\n\"):\n",
    "    if not m:\n",
    "        continue\n",
    "    key=m.split(\"->\")[0].strip()\n",
    "    char=m.split(\"->\")[1].strip()    \n",
    "    insertion_rules[key]=char"
   ]
  },
  {
   "cell_type": "code",
   "execution_count": 31,
   "id": "d4a1321d-c4e6-4a6f-a0f0-f9f6871aa97c",
   "metadata": {},
   "outputs": [],
   "source": [
    "strings=[]\n",
    "strings.append(start)\n",
    "new_str=start\n",
    "for i in range(10):\n",
    "    new_str=step(new_str)\n",
    "    strings.append(new_str)"
   ]
  },
  {
   "cell_type": "code",
   "execution_count": 32,
   "id": "ebfecfde-9e06-4054-886a-8feb334364b9",
   "metadata": {},
   "outputs": [],
   "source": [
    "charset=set(strings[-1])\n",
    "counts=[strings[-1].count(c) for c in charset]\n"
   ]
  },
  {
   "cell_type": "code",
   "execution_count": 33,
   "id": "6500e221-18ab-4ac9-9261-b57d33e6abcd",
   "metadata": {},
   "outputs": [
    {
     "data": {
      "text/plain": [
       "3831"
      ]
     },
     "execution_count": 33,
     "metadata": {},
     "output_type": "execute_result"
    }
   ],
   "source": [
    "max(counts)-min(counts)"
   ]
  },
  {
   "cell_type": "markdown",
   "id": "b4c36539-ea0f-4f81-b18e-3f02dfa4a165",
   "metadata": {},
   "source": [
    "## part 2 - 40 steps!"
   ]
  },
  {
   "cell_type": "code",
   "execution_count": 42,
   "id": "b29b46e0-b45b-4e9c-8e23-a36a9720c161",
   "metadata": {},
   "outputs": [],
   "source": [
    "from tqdm import tqdm"
   ]
  },
  {
   "cell_type": "markdown",
   "id": "0bd4c704-5802-40eb-9ea9-dfc580dffa3f",
   "metadata": {},
   "source": [
    "not sure if it is speed or memory, so try speed first"
   ]
  },
  {
   "cell_type": "code",
   "execution_count": null,
   "id": "140ca40a-3ca8-4069-bc60-b6d06cb38e14",
   "metadata": {},
   "outputs": [],
   "source": [
    "def pairs(S):\n",
    "    for c1,c2 in zip(S[:-1],S[1:]):\n",
    "        yield c1+c2"
   ]
  },
  {
   "cell_type": "code",
   "execution_count": 44,
   "id": "f72c0177-980c-4cf6-856f-8e57686a46c8",
   "metadata": {},
   "outputs": [],
   "source": [
    "from numba import njit"
   ]
  },
  {
   "cell_type": "code",
   "execution_count": 53,
   "id": "f4eb940b-6598-4105-9238-66d0132c616c",
   "metadata": {},
   "outputs": [],
   "source": [
    "@njit\n",
    "def step2(start):\n",
    "    new_str=\"\"\n",
    "    keys=['KO', 'SO', 'BF', 'VN', 'OV', 'VH', 'KV', 'KB', 'NB', 'HS', 'PF', 'HB', 'OC', 'FS', 'VV', 'KF', 'FN', 'KP', 'HO', 'NH', 'OO', 'FB', 'BP', 'CH', 'SN', 'KN', 'CV', 'CC', 'VB', 'PH', 'CO', 'KS', 'BK', 'FH', 'PV', 'CB', 'FO', 'BB', 'OB', 'HH', 'ON', 'FK', 'NF', 'SV', 'CP', 'SS', 'OP', 'NS', 'HK', 'BC', 'NV', 'VS', 'PC', 'CS', 'NP', 'PS', 'VC', 'KK', 'PO', 'HF', 'KC', 'SF', 'BV', 'FF', 'FV', 'BO', 'OS', 'OF', 'CN', 'NO', 'NC', 'VK', 'HN', 'PK', 'SK', 'HV', 'BH', 'OK', 'VO', 'BS', 'PP', 'SC', 'BN', 'FC', 'SB', 'SH', 'NN', 'NK', 'VF', 'CF', 'PB', 'SP', 'KH', 'VP', 'CK', 'HP', 'FP', 'HC', 'PN', 'OH']\n",
    "    chars=['C', 'S', 'V', 'B', 'K', 'O', 'N', 'F', 'C', 'K', 'B', 'N', 'H', 'F', 'S', 'C', 'F', 'S', 'N', 'K', 'S', 'C', 'F', 'N', 'O', 'B', 'O', 'B', 'C', 'V', 'K', 'K', 'N', 'S', 'H', 'P', 'F', 'K', 'C', 'F', 'O', 'B', 'F', 'F', 'H', 'B', 'H', 'O', 'N', 'P', 'V', 'F', 'V', 'F', 'V', 'F', 'F', 'S', 'P', 'H', 'P', 'N', 'N', 'V', 'V', 'N', 'C', 'H', 'S', 'O', 'B', 'C', 'B', 'N', 'S', 'F', 'B', 'S', 'B', 'H', 'N', 'K', 'P', 'S', 'B', 'H', 'V', 'N', 'H', 'F', 'C', 'P', 'C', 'N', 'H', 'P', 'B', 'O', 'F', 'H']\n",
    "    for i in range(len(start)-1):\n",
    "        c1=start[i]\n",
    "        c2=start[i+1]\n",
    "        insert_char=chars[keys.index(c1+c2)]\n",
    "        new_str=new_str+p[0]+insert_char\n",
    "\n",
    "    new_str=new_str+p[1]\n",
    "    return new_str"
   ]
  },
  {
   "cell_type": "code",
   "execution_count": 54,
   "id": "18bb1223-3764-4fb4-b631-b1826be20730",
   "metadata": {},
   "outputs": [],
   "source": [
    "keys=insertion_rules.keys()\n",
    "chars=[insertion_rules[k] for k in keys]"
   ]
  },
  {
   "cell_type": "code",
   "execution_count": 55,
   "id": "36cd8f7d-eb54-4afb-849e-5b31debffcce",
   "metadata": {},
   "outputs": [
    {
     "name": "stdout",
     "output_type": "stream",
     "text": [
      "['C', 'S', 'V', 'B', 'K', 'O', 'N', 'F', 'C', 'K', 'B', 'N', 'H', 'F', 'S', 'C', 'F', 'S', 'N', 'K', 'S', 'C', 'F', 'N', 'O', 'B', 'O', 'B', 'C', 'V', 'K', 'K', 'N', 'S', 'H', 'P', 'F', 'K', 'C', 'F', 'O', 'B', 'F', 'F', 'H', 'B', 'H', 'O', 'N', 'P', 'V', 'F', 'V', 'F', 'V', 'F', 'F', 'S', 'P', 'H', 'P', 'N', 'N', 'V', 'V', 'N', 'C', 'H', 'S', 'O', 'B', 'C', 'B', 'N', 'S', 'F', 'B', 'S', 'B', 'H', 'N', 'K', 'P', 'S', 'B', 'H', 'V', 'N', 'H', 'F', 'C', 'P', 'C', 'N', 'H', 'P', 'B', 'O', 'F', 'H']\n"
     ]
    }
   ],
   "source": [
    "print(chars)"
   ]
  },
  {
   "cell_type": "code",
   "execution_count": null,
   "id": "8fcf4adc-33da-4e3a-affa-aaf055185d23",
   "metadata": {},
   "outputs": [
    {
     "name": "stderr",
     "output_type": "stream",
     "text": [
      " 38%|███▊      | 15/40 [00:12<00:26,  1.05s/it]"
     ]
    }
   ],
   "source": [
    "new_str=start\n",
    "for i in tqdm(range(40)):\n",
    "    new_str=step2(new_str)"
   ]
  },
  {
   "cell_type": "code",
   "execution_count": null,
   "id": "7106e0c0-d2f4-47ad-9049-2ea1dad19cf1",
   "metadata": {},
   "outputs": [],
   "source": [
    "charset=new_str\n",
    "counts=[new_str.count(c) for c in charset]\n"
   ]
  },
  {
   "cell_type": "code",
   "execution_count": null,
   "id": "9978ddf2-8f69-4927-9fd8-d6cc800b968f",
   "metadata": {},
   "outputs": [],
   "source": [
    "max(counts)-min(counts)"
   ]
  }
 ],
 "metadata": {
  "kernelspec": {
   "display_name": "Python 3",
   "language": "python",
   "name": "python3"
  },
  "language_info": {
   "codemirror_mode": {
    "name": "ipython",
    "version": 3
   },
   "file_extension": ".py",
   "mimetype": "text/x-python",
   "name": "python",
   "nbconvert_exporter": "python",
   "pygments_lexer": "ipython3",
   "version": "3.8.10"
  }
 },
 "nbformat": 4,
 "nbformat_minor": 5
}
