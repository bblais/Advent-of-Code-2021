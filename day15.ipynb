{
 "cells": [
  {
   "cell_type": "code",
   "execution_count": 1,
   "id": "7bfb7631-ae75-4267-924a-336fd3cf2217",
   "metadata": {},
   "outputs": [
    {
     "name": "stdout",
     "output_type": "stream",
     "text": [
      "Populating the interactive namespace from numpy and matplotlib\n"
     ]
    }
   ],
   "source": [
    "%pylab inline"
   ]
  },
  {
   "cell_type": "code",
   "execution_count": 55,
   "id": "8cf248bb-67eb-49e4-90a3-86adc8c67b83",
   "metadata": {},
   "outputs": [
    {
     "data": {
      "text/plain": [
       "array([[1, 1, 6, 3, 7, 5, 1, 7, 4, 2],\n",
       "       [1, 3, 8, 1, 3, 7, 3, 6, 7, 2],\n",
       "       [2, 1, 3, 6, 5, 1, 1, 3, 2, 8],\n",
       "       [3, 6, 9, 4, 9, 3, 1, 5, 6, 9],\n",
       "       [7, 4, 6, 3, 4, 1, 7, 1, 1, 1],\n",
       "       [1, 3, 1, 9, 1, 2, 8, 1, 3, 7],\n",
       "       [1, 3, 5, 9, 9, 1, 2, 4, 2, 1],\n",
       "       [3, 1, 2, 5, 4, 2, 1, 6, 3, 9],\n",
       "       [1, 2, 9, 3, 1, 3, 8, 5, 2, 1],\n",
       "       [2, 3, 1, 1, 9, 4, 4, 5, 8, 1]])"
      ]
     },
     "execution_count": 55,
     "metadata": {},
     "output_type": "execute_result"
    }
   ],
   "source": [
    "text=\"\"\"\n",
    "1163751742\n",
    "1381373672\n",
    "2136511328\n",
    "3694931569\n",
    "7463417111\n",
    "1319128137\n",
    "1359912421\n",
    "3125421639\n",
    "1293138521\n",
    "2311944581\n",
    "\"\"\".strip()\n",
    "lines=text.strip().split('\\n')\n",
    "arr_str=[[int(_) for _ in line] for line in lines]\n",
    "arr=array(arr_str)\n",
    "arr"
   ]
  },
  {
   "cell_type": "code",
   "execution_count": 56,
   "id": "1ceca4f0-d8ec-46c4-87cf-6e9b31448b8a",
   "metadata": {},
   "outputs": [
    {
     "data": {
      "text/plain": [
       "((1, 1, 6, 3, 7, 5, 1, 7, 4, 2),\n",
       " (1, 3, 8, 1, 3, 7, 3, 6, 7, 2),\n",
       " (2, 1, 3, 6, 5, 1, 1, 3, 2, 8),\n",
       " (3, 6, 9, 4, 9, 3, 1, 5, 6, 9),\n",
       " (7, 4, 6, 3, 4, 1, 7, 1, 1, 1),\n",
       " (1, 3, 1, 9, 1, 2, 8, 1, 3, 7),\n",
       " (1, 3, 5, 9, 9, 1, 2, 4, 2, 1),\n",
       " (3, 1, 2, 5, 4, 2, 1, 6, 3, 9),\n",
       " (1, 2, 9, 3, 1, 3, 8, 5, 2, 1),\n",
       " (2, 3, 1, 1, 9, 4, 4, 5, 8, 1))"
      ]
     },
     "execution_count": 56,
     "metadata": {},
     "output_type": "execute_result"
    }
   ],
   "source": [
    "arr=tuple([tuple(row) for row in arr])\n",
    "arr"
   ]
  },
  {
   "cell_type": "markdown",
   "id": "2891dccf-daec-4dab-b2c2-087a53f6f9d0",
   "metadata": {},
   "source": [
    "https://www.geeksforgeeks.org/min-cost-path-dp-6/\n",
    "\n",
    "1) Optimal Substructure \n",
    "The path to reach (m, n) must be through one of the 3 cells: (m-1, n-1) or (m-1, n) or (m, n-1). So minimum cost to reach (m, n) can be written as “minimum of the 3 cells plus cost[m][n]”.\n",
    "minCost(m, n) = min (minCost(m-1, n-1), minCost(m-1, n), minCost(m, n-1)) + cost[m][n]"
   ]
  },
  {
   "cell_type": "code",
   "execution_count": 57,
   "id": "fab79fdd-63b4-434f-9284-0cc3ddc7a2cb",
   "metadata": {},
   "outputs": [
    {
     "name": "stdout",
     "output_type": "stream",
     "text": [
      "8\n"
     ]
    }
   ],
   "source": [
    "# A Naive recursive implementation of MCP(Minimum Cost Path) problem\n",
    "R = 3\n",
    "C = 3\n",
    "import sys\n",
    "\n",
    "# Returns cost of minimum cost path from (0,0) to (m, n) in mat[R][C]\n",
    "def minCost(cost, m, n):\n",
    "\tif (n < 0 or m < 0):\n",
    "\t\treturn sys.maxsize\n",
    "\telif (m == 0 and n == 0):\n",
    "\t\treturn cost[m][n]\n",
    "\telse:\n",
    "\t\treturn cost[m][n] + min3( minCost(cost, m-1, n-1),\n",
    "\t\t\t\t\t\t\t\tminCost(cost, m-1, n),\n",
    "\t\t\t\t\t\t\t\tminCost(cost, m, n-1) )\n",
    "\n",
    "#A utility function that returns minimum of 3 integers */\n",
    "def min3(x, y, z):\n",
    "\tif (x < y):\n",
    "\t\treturn x if (x < z) else z\n",
    "\telse:\n",
    "\t\treturn y if (y < z) else z\n",
    "\n",
    "\n",
    "# Driver program to test above functions\n",
    "cost= [ [1, 2, 3],\n",
    "\t\t[4, 8, 2],\n",
    "\t\t[1, 5, 3] ]\n",
    "print(minCost(cost, 2, 2))\n",
    "\n",
    "# This code is contributed by\n",
    "# Smitha Dinesh Semwal\n"
   ]
  },
  {
   "cell_type": "code",
   "execution_count": 58,
   "id": "26f96ee1-8424-4c3a-ae79-0be498d3290b",
   "metadata": {},
   "outputs": [],
   "source": [
    "from functools import lru_cache\n",
    "visited=[]\n",
    "\n",
    "@lru_cache(maxsize=None)\n",
    "def min_cost(arr,x,y):\n",
    "    R,C=len(arr),len(arr[0])\n",
    "    maxval=10**500\n",
    "    if x<0 or y<0:\n",
    "        return maxval\n",
    "    if x>=C or y>=R:\n",
    "        return maxval\n",
    "    \n",
    "    \n",
    "    elif x==0 and y==0:  # starting point\n",
    "        return arr[y][x]\n",
    "    else:\n",
    "        \n",
    "        mc1=min_cost(arr,x-1,y)\n",
    "        mc2=min_cost(arr,x+1,y)\n",
    "        mc3=min_cost(arr,x,y-1)\n",
    "        mc4=min_cost(arr,x,y+1)\n",
    "        \n",
    "        val=min(mc1,mc2,mc3,mc4)\n",
    "\n",
    "        return arr[y][x]+ val\n",
    "    "
   ]
  },
  {
   "cell_type": "code",
   "execution_count": 59,
   "id": "818f9a7a-1f4b-490a-8ee9-88d1566955c8",
   "metadata": {},
   "outputs": [
    {
     "data": {
      "text/plain": [
       "(10, 10)"
      ]
     },
     "execution_count": 59,
     "metadata": {},
     "output_type": "execute_result"
    }
   ],
   "source": [
    "R,C=len(arr),len(arr[0])\n",
    "R,C"
   ]
  },
  {
   "cell_type": "code",
   "execution_count": 60,
   "id": "31c9dd3c-cc2c-4762-9390-8622b713c246",
   "metadata": {},
   "outputs": [
    {
     "ename": "RecursionError",
     "evalue": "maximum recursion depth exceeded",
     "output_type": "error",
     "traceback": [
      "\u001b[0;31m---------------------------------------------------------------------------\u001b[0m",
      "\u001b[0;31mRecursionError\u001b[0m                            Traceback (most recent call last)",
      "\u001b[0;32m<ipython-input-60-395c4499648f>\u001b[0m in \u001b[0;36m<module>\u001b[0;34m\u001b[0m\n\u001b[0;32m----> 1\u001b[0;31m \u001b[0mmin_cost\u001b[0m\u001b[0;34m(\u001b[0m\u001b[0marr\u001b[0m\u001b[0;34m,\u001b[0m\u001b[0mC\u001b[0m\u001b[0;34m-\u001b[0m\u001b[0;36m1\u001b[0m\u001b[0;34m,\u001b[0m\u001b[0mR\u001b[0m\u001b[0;34m-\u001b[0m\u001b[0;36m1\u001b[0m\u001b[0;34m)\u001b[0m\u001b[0;34m-\u001b[0m\u001b[0marr\u001b[0m\u001b[0;34m[\u001b[0m\u001b[0;36m0\u001b[0m\u001b[0;34m]\u001b[0m\u001b[0;34m[\u001b[0m\u001b[0;36m0\u001b[0m\u001b[0;34m]\u001b[0m\u001b[0;34m\u001b[0m\u001b[0;34m\u001b[0m\u001b[0m\n\u001b[0m",
      "\u001b[0;32m<ipython-input-58-098021ae76d9>\u001b[0m in \u001b[0;36mmin_cost\u001b[0;34m(arr, x, y)\u001b[0m\n\u001b[1;32m     16\u001b[0m     \u001b[0;32melse\u001b[0m\u001b[0;34m:\u001b[0m\u001b[0;34m\u001b[0m\u001b[0;34m\u001b[0m\u001b[0m\n\u001b[1;32m     17\u001b[0m \u001b[0;34m\u001b[0m\u001b[0m\n\u001b[0;32m---> 18\u001b[0;31m         \u001b[0mmc1\u001b[0m\u001b[0;34m=\u001b[0m\u001b[0mmin_cost\u001b[0m\u001b[0;34m(\u001b[0m\u001b[0marr\u001b[0m\u001b[0;34m,\u001b[0m\u001b[0mx\u001b[0m\u001b[0;34m-\u001b[0m\u001b[0;36m1\u001b[0m\u001b[0;34m,\u001b[0m\u001b[0my\u001b[0m\u001b[0;34m)\u001b[0m\u001b[0;34m\u001b[0m\u001b[0;34m\u001b[0m\u001b[0m\n\u001b[0m\u001b[1;32m     19\u001b[0m         \u001b[0mmc2\u001b[0m\u001b[0;34m=\u001b[0m\u001b[0mmin_cost\u001b[0m\u001b[0;34m(\u001b[0m\u001b[0marr\u001b[0m\u001b[0;34m,\u001b[0m\u001b[0mx\u001b[0m\u001b[0;34m+\u001b[0m\u001b[0;36m1\u001b[0m\u001b[0;34m,\u001b[0m\u001b[0my\u001b[0m\u001b[0;34m)\u001b[0m\u001b[0;34m\u001b[0m\u001b[0;34m\u001b[0m\u001b[0m\n\u001b[1;32m     20\u001b[0m         \u001b[0mmc3\u001b[0m\u001b[0;34m=\u001b[0m\u001b[0mmin_cost\u001b[0m\u001b[0;34m(\u001b[0m\u001b[0marr\u001b[0m\u001b[0;34m,\u001b[0m\u001b[0mx\u001b[0m\u001b[0;34m,\u001b[0m\u001b[0my\u001b[0m\u001b[0;34m-\u001b[0m\u001b[0;36m1\u001b[0m\u001b[0;34m)\u001b[0m\u001b[0;34m\u001b[0m\u001b[0;34m\u001b[0m\u001b[0m\n",
      "\u001b[0;32m<ipython-input-58-098021ae76d9>\u001b[0m in \u001b[0;36mmin_cost\u001b[0;34m(arr, x, y)\u001b[0m\n\u001b[1;32m     16\u001b[0m     \u001b[0;32melse\u001b[0m\u001b[0;34m:\u001b[0m\u001b[0;34m\u001b[0m\u001b[0;34m\u001b[0m\u001b[0m\n\u001b[1;32m     17\u001b[0m \u001b[0;34m\u001b[0m\u001b[0m\n\u001b[0;32m---> 18\u001b[0;31m         \u001b[0mmc1\u001b[0m\u001b[0;34m=\u001b[0m\u001b[0mmin_cost\u001b[0m\u001b[0;34m(\u001b[0m\u001b[0marr\u001b[0m\u001b[0;34m,\u001b[0m\u001b[0mx\u001b[0m\u001b[0;34m-\u001b[0m\u001b[0;36m1\u001b[0m\u001b[0;34m,\u001b[0m\u001b[0my\u001b[0m\u001b[0;34m)\u001b[0m\u001b[0;34m\u001b[0m\u001b[0;34m\u001b[0m\u001b[0m\n\u001b[0m\u001b[1;32m     19\u001b[0m         \u001b[0mmc2\u001b[0m\u001b[0;34m=\u001b[0m\u001b[0mmin_cost\u001b[0m\u001b[0;34m(\u001b[0m\u001b[0marr\u001b[0m\u001b[0;34m,\u001b[0m\u001b[0mx\u001b[0m\u001b[0;34m+\u001b[0m\u001b[0;36m1\u001b[0m\u001b[0;34m,\u001b[0m\u001b[0my\u001b[0m\u001b[0;34m)\u001b[0m\u001b[0;34m\u001b[0m\u001b[0;34m\u001b[0m\u001b[0m\n\u001b[1;32m     20\u001b[0m         \u001b[0mmc3\u001b[0m\u001b[0;34m=\u001b[0m\u001b[0mmin_cost\u001b[0m\u001b[0;34m(\u001b[0m\u001b[0marr\u001b[0m\u001b[0;34m,\u001b[0m\u001b[0mx\u001b[0m\u001b[0;34m,\u001b[0m\u001b[0my\u001b[0m\u001b[0;34m-\u001b[0m\u001b[0;36m1\u001b[0m\u001b[0;34m)\u001b[0m\u001b[0;34m\u001b[0m\u001b[0;34m\u001b[0m\u001b[0m\n",
      "... last 2 frames repeated, from the frame below ...\n",
      "\u001b[0;32m<ipython-input-58-098021ae76d9>\u001b[0m in \u001b[0;36mmin_cost\u001b[0;34m(arr, x, y)\u001b[0m\n\u001b[1;32m     16\u001b[0m     \u001b[0;32melse\u001b[0m\u001b[0;34m:\u001b[0m\u001b[0;34m\u001b[0m\u001b[0;34m\u001b[0m\u001b[0m\n\u001b[1;32m     17\u001b[0m \u001b[0;34m\u001b[0m\u001b[0m\n\u001b[0;32m---> 18\u001b[0;31m         \u001b[0mmc1\u001b[0m\u001b[0;34m=\u001b[0m\u001b[0mmin_cost\u001b[0m\u001b[0;34m(\u001b[0m\u001b[0marr\u001b[0m\u001b[0;34m,\u001b[0m\u001b[0mx\u001b[0m\u001b[0;34m-\u001b[0m\u001b[0;36m1\u001b[0m\u001b[0;34m,\u001b[0m\u001b[0my\u001b[0m\u001b[0;34m)\u001b[0m\u001b[0;34m\u001b[0m\u001b[0;34m\u001b[0m\u001b[0m\n\u001b[0m\u001b[1;32m     19\u001b[0m         \u001b[0mmc2\u001b[0m\u001b[0;34m=\u001b[0m\u001b[0mmin_cost\u001b[0m\u001b[0;34m(\u001b[0m\u001b[0marr\u001b[0m\u001b[0;34m,\u001b[0m\u001b[0mx\u001b[0m\u001b[0;34m+\u001b[0m\u001b[0;36m1\u001b[0m\u001b[0;34m,\u001b[0m\u001b[0my\u001b[0m\u001b[0;34m)\u001b[0m\u001b[0;34m\u001b[0m\u001b[0;34m\u001b[0m\u001b[0m\n\u001b[1;32m     20\u001b[0m         \u001b[0mmc3\u001b[0m\u001b[0;34m=\u001b[0m\u001b[0mmin_cost\u001b[0m\u001b[0;34m(\u001b[0m\u001b[0marr\u001b[0m\u001b[0;34m,\u001b[0m\u001b[0mx\u001b[0m\u001b[0;34m,\u001b[0m\u001b[0my\u001b[0m\u001b[0;34m-\u001b[0m\u001b[0;36m1\u001b[0m\u001b[0;34m)\u001b[0m\u001b[0;34m\u001b[0m\u001b[0;34m\u001b[0m\u001b[0m\n",
      "\u001b[0;31mRecursionError\u001b[0m: maximum recursion depth exceeded"
     ]
    }
   ],
   "source": [
    "min_cost(arr,C-1,R-1)-arr[0][0]"
   ]
  },
  {
   "cell_type": "code",
   "execution_count": 45,
   "id": "9e686ebf-317b-429d-8185-18fd4ee6fd01",
   "metadata": {},
   "outputs": [],
   "source": [
    "with open('data/day15.txt') as fid:\n",
    "    text=fid.read()"
   ]
  },
  {
   "cell_type": "code",
   "execution_count": 49,
   "id": "d20f288f-2c96-44f5-8307-a8713c1f8427",
   "metadata": {},
   "outputs": [
    {
     "data": {
      "text/plain": [
       "array([[3, 5, 7, ..., 1, 2, 8],\n",
       "       [1, 7, 1, ..., 6, 8, 8],\n",
       "       [2, 1, 5, ..., 5, 2, 2],\n",
       "       ...,\n",
       "       [6, 5, 1, ..., 5, 3, 4],\n",
       "       [3, 9, 9, ..., 7, 2, 1],\n",
       "       [5, 9, 9, ..., 4, 6, 2]])"
      ]
     },
     "execution_count": 49,
     "metadata": {},
     "output_type": "execute_result"
    }
   ],
   "source": [
    "lines=text.strip().split('\\n')\n",
    "arr_str=[[int(_) for _ in line] for line in lines]\n",
    "arr=array(arr_str)\n",
    "arr"
   ]
  },
  {
   "cell_type": "code",
   "execution_count": 50,
   "id": "4c838b2c-ab88-47a5-a601-dd4d4bd6628c",
   "metadata": {},
   "outputs": [],
   "source": [
    "arr=tuple([tuple(row) for row in arr])"
   ]
  },
  {
   "cell_type": "code",
   "execution_count": 51,
   "id": "6ef52149-3994-4275-97f3-1738bd1b3221",
   "metadata": {},
   "outputs": [
    {
     "data": {
      "text/plain": [
       "(100, 100)"
      ]
     },
     "execution_count": 51,
     "metadata": {},
     "output_type": "execute_result"
    }
   ],
   "source": [
    "R,C=len(arr),len(arr[0])\n",
    "R,C"
   ]
  },
  {
   "cell_type": "code",
   "execution_count": 52,
   "id": "627d1499-725b-4c31-874c-5371f14292d2",
   "metadata": {},
   "outputs": [
    {
     "data": {
      "text/plain": [
       "494"
      ]
     },
     "execution_count": 52,
     "metadata": {},
     "output_type": "execute_result"
    }
   ],
   "source": [
    "min_cost(arr,C-1,R-1)-arr[0][0]"
   ]
  },
  {
   "cell_type": "code",
   "execution_count": 53,
   "id": "9c9870d5-cfa5-413b-b5f5-97b3f1198f59",
   "metadata": {},
   "outputs": [
    {
     "data": {
      "text/plain": [
       "3"
      ]
     },
     "execution_count": 53,
     "metadata": {},
     "output_type": "execute_result"
    }
   ],
   "source": [
    "arr[0][0]"
   ]
  },
  {
   "cell_type": "code",
   "execution_count": null,
   "id": "8e623b4b-7cdf-47af-a8e0-48025ab15d40",
   "metadata": {},
   "outputs": [],
   "source": []
  }
 ],
 "metadata": {
  "kernelspec": {
   "display_name": "Python 3",
   "language": "python",
   "name": "python3"
  },
  "language_info": {
   "codemirror_mode": {
    "name": "ipython",
    "version": 3
   },
   "file_extension": ".py",
   "mimetype": "text/x-python",
   "name": "python",
   "nbconvert_exporter": "python",
   "pygments_lexer": "ipython3",
   "version": "3.8.10"
  }
 },
 "nbformat": 4,
 "nbformat_minor": 5
}
