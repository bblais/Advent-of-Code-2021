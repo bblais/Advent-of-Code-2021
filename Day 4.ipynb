{
 "cells": [
  {
   "cell_type": "markdown",
   "id": "cbf126b4-ab35-4dfe-80f3-b60ed94de150",
   "metadata": {},
   "source": [
    "https://adventofcode.com/2021/day/4"
   ]
  },
  {
   "cell_type": "code",
   "execution_count": 80,
   "id": "30b5d69e-b907-41f9-9e80-08dfda43b2dc",
   "metadata": {},
   "outputs": [],
   "source": [
    "from Game import Board"
   ]
  },
  {
   "cell_type": "code",
   "execution_count": 95,
   "id": "e74da4f2-5975-4444-8b49-0731beb855a4",
   "metadata": {},
   "outputs": [],
   "source": [
    "text=open('data/day4.txt').read()\n",
    "#text=open('data/day4_example.txt').read()"
   ]
  },
  {
   "cell_type": "code",
   "execution_count": 96,
   "id": "b70d0366-179e-4af2-ab5b-cd742574b3da",
   "metadata": {},
   "outputs": [],
   "source": [
    "parts=text.split(\"\\n\\n\")"
   ]
  },
  {
   "cell_type": "code",
   "execution_count": 97,
   "id": "d54f1e37-c165-4873-ae08-b35e5c0bccf0",
   "metadata": {},
   "outputs": [
    {
     "name": "stdout",
     "output_type": "stream",
     "text": [
      "[25, 8, 32, 53, 22, 94, 55, 80, 33, 4, 63, 14, 60, 95, 31, 89, 30, 5, 47, 66, 84, 70, 17, 74, 99, 82, 21, 35, 64, 2, 76, 9, 90, 56, 78, 28, 51, 86, 49, 98, 29, 96, 23, 58, 52, 75, 41, 50, 13, 72, 92, 83, 62, 37, 18, 11, 34, 71, 91, 85, 27, 12, 24, 73, 7, 77, 10, 93, 15, 61, 3, 46, 16, 97, 1, 57, 65, 40, 0, 48, 69, 6, 20, 68, 19, 45, 42, 79, 88, 44, 26, 38, 36, 54, 81, 59, 43, 87, 39, 67]\n"
     ]
    }
   ],
   "source": [
    "nums=[int(_) for _ in parts[0].split(\",\")]\n",
    "print(nums)"
   ]
  },
  {
   "cell_type": "code",
   "execution_count": 98,
   "id": "0ce78820-3a7d-4d2a-b0c5-ac918de77f39",
   "metadata": {},
   "outputs": [],
   "source": [
    "boards=[]\n",
    "for line in parts[1:]:\n",
    "    vals=[int(_) for _ in line.split()]\n",
    "    b=Board(5,5)\n",
    "    b.board=vals\n",
    "    boards.append(b)"
   ]
  },
  {
   "cell_type": "code",
   "execution_count": 99,
   "id": "014437dc-1a10-4f1f-98de-a47b94972208",
   "metadata": {},
   "outputs": [
    {
     "data": {
      "text/plain": [
       "25 83 15 27 22 \n",
       "97 81 12 80 52 \n",
       "65 58 91 23 36 \n",
       "77 60 49 43 95 \n",
       "13 21 56 78 99 "
      ]
     },
     "execution_count": 99,
     "metadata": {},
     "output_type": "execute_result"
    }
   ],
   "source": [
    "boards[0]"
   ]
  },
  {
   "cell_type": "code",
   "execution_count": 100,
   "id": "51bc2c33-3a99-4ea0-a09b-c802870ee38f",
   "metadata": {},
   "outputs": [
    {
     "data": {
      "text/plain": [
       "59 93 18 63 19 \n",
       "92 14 61 13 26 \n",
       "39 70  2 58  6 \n",
       "68 57 89 81  4 \n",
       "55 98 79 85  3 "
      ]
     },
     "execution_count": 100,
     "metadata": {},
     "output_type": "execute_result"
    }
   ],
   "source": [
    "b"
   ]
  },
  {
   "cell_type": "code",
   "execution_count": 101,
   "id": "4fd67451-3d18-49c5-82f9-3262769b3365",
   "metadata": {},
   "outputs": [],
   "source": [
    "def win(b):\n",
    "    for col in b.cols():\n",
    "        if all([_>=100 for _ in col]):\n",
    "            return True\n",
    "    for row in b.rows():\n",
    "        if all([_>=100 for _ in row]):\n",
    "            return True\n",
    "    return False"
   ]
  },
  {
   "cell_type": "markdown",
   "id": "1474ee49-8c35-4aa2-b0dc-160b0a6f2e72",
   "metadata": {},
   "source": [
    "## First to win"
   ]
  },
  {
   "cell_type": "code",
   "execution_count": 102,
   "id": "91c11f9c-2c52-4dde-851e-0cf32d6965e4",
   "metadata": {},
   "outputs": [
    {
     "name": "stdout",
     "output_type": "stream",
     "text": [
      "30 76\n",
      "38 27 160 37 44 \n",
      "98  9 13 45 57 \n",
      "104 176 133 108 121 \n",
      "19  7 77 50 122 \n",
      "71 135 180 46 20 \n",
      "\n"
     ]
    }
   ],
   "source": [
    "boards=[]\n",
    "for line in parts[1:]:\n",
    "    vals=[int(_) for _ in line.split()]\n",
    "    b=Board(5,5)\n",
    "    b.board=vals\n",
    "    boards.append(b)\n",
    "    \n",
    "for i,num in enumerate(nums):\n",
    "    for b in boards:\n",
    "        idx=b.find(num)\n",
    "        if idx:\n",
    "            assert len(idx)==1\n",
    "            b[idx[0]]+=100\n",
    "            \n",
    "    for b in boards:\n",
    "        if win(b):\n",
    "            break \n",
    "            \n",
    "    if win(b):\n",
    "        break \n",
    "            \n",
    "print(i,num)\n",
    "print(b)"
   ]
  },
  {
   "cell_type": "code",
   "execution_count": 103,
   "id": "8b7c488b-bad7-4f3a-b660-f28c9baf92ae",
   "metadata": {},
   "outputs": [
    {
     "data": {
      "text/plain": [
       "50008"
      ]
     },
     "execution_count": 103,
     "metadata": {},
     "output_type": "execute_result"
    }
   ],
   "source": [
    "s=0\n",
    "for i in range(25):\n",
    "    if b[i]<100:\n",
    "        s+=b[i]\n",
    "        \n",
    "s*num"
   ]
  },
  {
   "cell_type": "code",
   "execution_count": 104,
   "id": "d4932cbd-2db7-4ee5-b567-3f5957931e95",
   "metadata": {},
   "outputs": [
    {
     "data": {
      "text/plain": [
       "True"
      ]
     },
     "execution_count": 104,
     "metadata": {},
     "output_type": "execute_result"
    }
   ],
   "source": [
    "win(b)"
   ]
  },
  {
   "cell_type": "markdown",
   "id": "c2f4352b-a562-45eb-9933-027a4f66766a",
   "metadata": {},
   "source": [
    "## Last to win"
   ]
  },
  {
   "cell_type": "code",
   "execution_count": 105,
   "id": "e81070db-a7bf-44f6-af05-b2396130a403",
   "metadata": {},
   "outputs": [
    {
     "name": "stdout",
     "output_type": "stream",
     "text": [
      "83 68\n",
      "113 131 191 101 67 \n",
      "196 135 120 19 140 \n",
      "87 127 178 109 122 \n",
      "111 45 38 146 151 \n",
      "172 168 123 125 185 \n",
      "\n"
     ]
    },
    {
     "data": {
      "text/plain": [
       "17408"
      ]
     },
     "execution_count": 105,
     "metadata": {},
     "output_type": "execute_result"
    }
   ],
   "source": [
    "boards=[]\n",
    "for line in parts[1:]:\n",
    "    vals=[int(_) for _ in line.split()]\n",
    "    b=Board(5,5)\n",
    "    b.board=vals\n",
    "    boards.append(b)\n",
    "    \n",
    "won=[False]*len(boards)\n",
    "for i,num in enumerate(nums):\n",
    "    for b in boards:\n",
    "        idx=b.find(num)\n",
    "        if idx:\n",
    "            assert len(idx)==1\n",
    "            assert b[idx[0]]<100\n",
    "            b[idx[0]]+=100\n",
    "            \n",
    "    for bi,b in enumerate(boards):\n",
    "        if win(b):\n",
    "            won[bi]=True\n",
    "            if all(won):\n",
    "                break\n",
    "            \n",
    "    if all(won):\n",
    "        break \n",
    "            \n",
    "print(i,num)\n",
    "print(b)\n",
    "\n",
    "s=0\n",
    "for i in range(25):\n",
    "    if b[i]<100:\n",
    "        s+=b[i]\n",
    "        \n",
    "s*num"
   ]
  },
  {
   "cell_type": "code",
   "execution_count": 106,
   "id": "8bfcd471-63ca-48a1-bd3d-a7b51fea4be0",
   "metadata": {},
   "outputs": [
    {
     "data": {
      "text/plain": [
       "(113 131 191 101 67 \n",
       " 196 135 120 19 140 \n",
       " 87 127 178 109 122 \n",
       " 111 45 38 146 151 \n",
       " 172 168 123 125 185 ,\n",
       " [15])"
      ]
     },
     "execution_count": 106,
     "metadata": {},
     "output_type": "execute_result"
    }
   ],
   "source": [
    "b,idx"
   ]
  },
  {
   "cell_type": "code",
   "execution_count": 92,
   "id": "e1ca184b-1d04-4501-8ce2-2cbfb73480b8",
   "metadata": {},
   "outputs": [
    {
     "data": {
      "text/plain": [
       "[False, False, True]"
      ]
     },
     "execution_count": 92,
     "metadata": {},
     "output_type": "execute_result"
    }
   ],
   "source": [
    "won"
   ]
  },
  {
   "cell_type": "code",
   "execution_count": 93,
   "id": "ef7020b6-ba10-4b66-a255-975c764fc411",
   "metadata": {},
   "outputs": [
    {
     "data": {
      "text/plain": [
       "False"
      ]
     },
     "execution_count": 93,
     "metadata": {},
     "output_type": "execute_result"
    }
   ],
   "source": [
    "all(won)"
   ]
  },
  {
   "cell_type": "code",
   "execution_count": null,
   "id": "03739a7b-38a2-460e-83ea-ce52197ab74c",
   "metadata": {},
   "outputs": [],
   "source": []
  }
 ],
 "metadata": {
  "kernelspec": {
   "display_name": "Python 3",
   "language": "python",
   "name": "python3"
  },
  "language_info": {
   "codemirror_mode": {
    "name": "ipython",
    "version": 3
   },
   "file_extension": ".py",
   "mimetype": "text/x-python",
   "name": "python",
   "nbconvert_exporter": "python",
   "pygments_lexer": "ipython3",
   "version": "3.8.10"
  }
 },
 "nbformat": 4,
 "nbformat_minor": 5
}
